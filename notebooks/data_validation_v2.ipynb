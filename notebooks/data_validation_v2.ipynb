{
 "cells": [
  {
   "cell_type": "markdown",
   "id": "490fc631",
   "metadata": {},
   "source": [
    "## Data validation:\n",
    "This notebook contains the code for performing data validation on the Mercari Dataset. The ideal choice for performing data validation in python is using `tensorflow data validation`. Since, it is not compatible with our python environment, we can use the following packages as alternatives:\n",
    "- great expectations\n",
    "- pandas-profiling\n",
    "- pydantic"
   ]
  },
  {
   "cell_type": "code",
   "execution_count": 1,
   "id": "1de37643",
   "metadata": {},
   "outputs": [],
   "source": [
    "# import essentials\n",
    "import numpy\n",
    "import pandas as pd\n",
    "import pandera as pa\n",
    "import matplotlib.pyplot as plt\n",
    "import great_expectations as gx\n",
    "from great_expectations.checkpoint import Checkpoint\n",
    "%matplotlib inline"
   ]
  },
  {
   "cell_type": "markdown",
   "id": "15d575b5",
   "metadata": {},
   "source": [
    "## Great expectations:"
   ]
  },
  {
   "cell_type": "markdown",
   "id": "0fb16c8d",
   "metadata": {},
   "source": [
    "Create data context"
   ]
  },
  {
   "cell_type": "code",
   "execution_count": 2,
   "id": "db1ae0f4",
   "metadata": {},
   "outputs": [],
   "source": [
    "context=gx.get_context()"
   ]
  },
  {
   "cell_type": "markdown",
   "id": "ba488b34",
   "metadata": {},
   "source": [
    "Get the data from cloud storage"
   ]
  },
  {
   "cell_type": "code",
   "execution_count": 3,
   "id": "6f40d425",
   "metadata": {},
   "outputs": [],
   "source": [
    "gcp_url = 'https://storage.googleapis.com/price_alchemy/Data/data.csv'\n",
    "\n",
    "df = pd.read_csv(gcp_url)"
   ]
  },
  {
   "cell_type": "code",
   "execution_count": 4,
   "id": "85bc0c92",
   "metadata": {},
   "outputs": [],
   "source": [
    "# add data sources\n",
    "DS_NAME='train_file'\n",
    "datasource=context.sources.add_pandas(name=DS_NAME)\n",
    "\n",
    "# adding csv asset\n",
    "asset_name='mercari_training'\n",
    "asset= datasource.add_dataframe_asset(asset_name)\n",
    "\n",
    "# build batch request\n",
    "batch_request= asset.build_batch_request(dataframe= df)"
   ]
  },
  {
   "cell_type": "markdown",
   "id": "a9b14de6",
   "metadata": {},
   "source": [
    "Add expectation suite"
   ]
  },
  {
   "cell_type": "code",
   "execution_count": 5,
   "id": "d41d744a",
   "metadata": {},
   "outputs": [
    {
     "data": {
      "text/plain": [
       "{\n",
       "  \"expectation_suite_name\": \"mercari_first_expectation_suite\",\n",
       "  \"ge_cloud_id\": null,\n",
       "  \"expectations\": [],\n",
       "  \"data_asset_type\": null,\n",
       "  \"meta\": {\n",
       "    \"great_expectations_version\": \"0.18.10\"\n",
       "  }\n",
       "}"
      ]
     },
     "execution_count": 5,
     "metadata": {},
     "output_type": "execute_result"
    }
   ],
   "source": [
    "context.add_or_update_expectation_suite('mercari_first_expectation_suite')"
   ]
  },
  {
   "cell_type": "code",
   "execution_count": 6,
   "id": "851ed5e7",
   "metadata": {},
   "outputs": [],
   "source": [
    "validator = context.get_validator(\n",
    "    batch_request=batch_request,\n",
    "    expectation_suite_name='mercari_first_expectation_suite',\n",
    ")"
   ]
  },
  {
   "cell_type": "markdown",
   "id": "11369e24",
   "metadata": {},
   "source": [
    "What does the data look like?"
   ]
  },
  {
   "cell_type": "code",
   "execution_count": 7,
   "id": "75f724c3",
   "metadata": {},
   "outputs": [
    {
     "data": {
      "application/vnd.jupyter.widget-view+json": {
       "model_id": "8de477d9206e481ca88c2889ad8826a1",
       "version_major": 2,
       "version_minor": 0
      },
      "text/plain": [
       "Calculating Metrics:   0%|          | 0/1 [00:00<?, ?it/s]"
      ]
     },
     "metadata": {},
     "output_type": "display_data"
    },
    {
     "data": {
      "text/html": [
       "<div>\n",
       "<style scoped>\n",
       "    .dataframe tbody tr th:only-of-type {\n",
       "        vertical-align: middle;\n",
       "    }\n",
       "\n",
       "    .dataframe tbody tr th {\n",
       "        vertical-align: top;\n",
       "    }\n",
       "\n",
       "    .dataframe thead th {\n",
       "        text-align: right;\n",
       "    }\n",
       "</style>\n",
       "<table border=\"1\" class=\"dataframe\">\n",
       "  <thead>\n",
       "    <tr style=\"text-align: right;\">\n",
       "      <th></th>\n",
       "      <th>train_id</th>\n",
       "      <th>name</th>\n",
       "      <th>item_condition_id</th>\n",
       "      <th>category_name</th>\n",
       "      <th>brand_name</th>\n",
       "      <th>price</th>\n",
       "      <th>shipping</th>\n",
       "      <th>item_description</th>\n",
       "      <th>created_at</th>\n",
       "      <th>last_updated_at</th>\n",
       "    </tr>\n",
       "  </thead>\n",
       "  <tbody>\n",
       "    <tr>\n",
       "      <th>0</th>\n",
       "      <td>793697</td>\n",
       "      <td>Plaid Vest</td>\n",
       "      <td>2</td>\n",
       "      <td>Women/Coats &amp; Jackets/Vest</td>\n",
       "      <td>Old Navy</td>\n",
       "      <td>11.0</td>\n",
       "      <td>1</td>\n",
       "      <td>Green and blue. Very thick and soft! Perfect f...</td>\n",
       "      <td>2022-01-01 00:00:00</td>\n",
       "      <td>2022-01-01 00:00:00</td>\n",
       "    </tr>\n",
       "    <tr>\n",
       "      <th>1</th>\n",
       "      <td>402094</td>\n",
       "      <td>Women's Sperrys</td>\n",
       "      <td>3</td>\n",
       "      <td>Women/Shoes/Loafers &amp; Slip-Ons</td>\n",
       "      <td>Sperrys</td>\n",
       "      <td>21.0</td>\n",
       "      <td>0</td>\n",
       "      <td>EUC</td>\n",
       "      <td>2022-01-01 00:01:00</td>\n",
       "      <td>2022-01-01 00:01:00</td>\n",
       "    </tr>\n",
       "    <tr>\n",
       "      <th>2</th>\n",
       "      <td>522439</td>\n",
       "      <td>Grey sweater dress</td>\n",
       "      <td>1</td>\n",
       "      <td>Women/Dresses/Other</td>\n",
       "      <td>Fashion Nova</td>\n",
       "      <td>20.0</td>\n",
       "      <td>1</td>\n",
       "      <td>This is a heather grey sweater dress from fash...</td>\n",
       "      <td>2022-01-01 00:01:00</td>\n",
       "      <td>2022-01-01 00:01:00</td>\n",
       "    </tr>\n",
       "    <tr>\n",
       "      <th>3</th>\n",
       "      <td>214455</td>\n",
       "      <td>Tory Burch 'Perry' Leather Wallet</td>\n",
       "      <td>3</td>\n",
       "      <td>Women/Women's Accessories/Wallets</td>\n",
       "      <td>Tory Burch</td>\n",
       "      <td>91.0</td>\n",
       "      <td>0</td>\n",
       "      <td>Tory Burch 'Perry' Leather Zip Continental Wal...</td>\n",
       "      <td>2022-01-01 00:03:00</td>\n",
       "      <td>2022-01-01 00:03:00</td>\n",
       "    </tr>\n",
       "    <tr>\n",
       "      <th>4</th>\n",
       "      <td>902755</td>\n",
       "      <td>Fujifilm Rainbow Instax Film</td>\n",
       "      <td>1</td>\n",
       "      <td>Electronics/Cameras &amp; Photography/Film Photogr...</td>\n",
       "      <td>Fuji</td>\n",
       "      <td>14.0</td>\n",
       "      <td>0</td>\n",
       "      <td>No description yet</td>\n",
       "      <td>2022-01-01 00:05:00</td>\n",
       "      <td>2022-01-01 00:05:00</td>\n",
       "    </tr>\n",
       "  </tbody>\n",
       "</table>\n",
       "</div>"
      ],
      "text/plain": [
       "   train_id                               name  item_condition_id  \\\n",
       "0    793697                         Plaid Vest                  2   \n",
       "1    402094                    Women's Sperrys                  3   \n",
       "2    522439                 Grey sweater dress                  1   \n",
       "3    214455  Tory Burch 'Perry' Leather Wallet                  3   \n",
       "4    902755       Fujifilm Rainbow Instax Film                  1   \n",
       "\n",
       "                                       category_name    brand_name  price  \\\n",
       "0                         Women/Coats & Jackets/Vest      Old Navy   11.0   \n",
       "1                     Women/Shoes/Loafers & Slip-Ons       Sperrys   21.0   \n",
       "2                                Women/Dresses/Other  Fashion Nova   20.0   \n",
       "3                  Women/Women's Accessories/Wallets    Tory Burch   91.0   \n",
       "4  Electronics/Cameras & Photography/Film Photogr...          Fuji   14.0   \n",
       "\n",
       "   shipping                                   item_description  \\\n",
       "0         1  Green and blue. Very thick and soft! Perfect f...   \n",
       "1         0                                                EUC   \n",
       "2         1  This is a heather grey sweater dress from fash...   \n",
       "3         0  Tory Burch 'Perry' Leather Zip Continental Wal...   \n",
       "4         0                                 No description yet   \n",
       "\n",
       "            created_at      last_updated_at  \n",
       "0  2022-01-01 00:00:00  2022-01-01 00:00:00  \n",
       "1  2022-01-01 00:01:00  2022-01-01 00:01:00  \n",
       "2  2022-01-01 00:01:00  2022-01-01 00:01:00  \n",
       "3  2022-01-01 00:03:00  2022-01-01 00:03:00  \n",
       "4  2022-01-01 00:05:00  2022-01-01 00:05:00  "
      ]
     },
     "execution_count": 7,
     "metadata": {},
     "output_type": "execute_result"
    }
   ],
   "source": [
    "validator.head()"
   ]
  },
  {
   "cell_type": "markdown",
   "id": "b02206e2",
   "metadata": {},
   "source": [
    "Let's create some expectations"
   ]
  },
  {
   "cell_type": "code",
   "execution_count": 8,
   "id": "b4ff676f",
   "metadata": {},
   "outputs": [
    {
     "data": {
      "application/vnd.jupyter.widget-view+json": {
       "model_id": "675813a4c1cd480b8d61a205fabd5cee",
       "version_major": 2,
       "version_minor": 0
      },
      "text/plain": [
       "Calculating Metrics:   0%|          | 0/2 [00:00<?, ?it/s]"
      ]
     },
     "metadata": {},
     "output_type": "display_data"
    },
    {
     "data": {
      "application/vnd.jupyter.widget-view+json": {
       "model_id": "14c85f99638f46d6b7df540bc11909c1",
       "version_major": 2,
       "version_minor": 0
      },
      "text/plain": [
       "Calculating Metrics:   0%|          | 0/2 [00:00<?, ?it/s]"
      ]
     },
     "metadata": {},
     "output_type": "display_data"
    },
    {
     "data": {
      "application/vnd.jupyter.widget-view+json": {
       "model_id": "790f548e96c74999bf49cbcd2e0589da",
       "version_major": 2,
       "version_minor": 0
      },
      "text/plain": [
       "Calculating Metrics:   0%|          | 0/2 [00:00<?, ?it/s]"
      ]
     },
     "metadata": {},
     "output_type": "display_data"
    },
    {
     "data": {
      "application/vnd.jupyter.widget-view+json": {
       "model_id": "21afe84c345344e887f80860ce07e365",
       "version_major": 2,
       "version_minor": 0
      },
      "text/plain": [
       "Calculating Metrics:   0%|          | 0/2 [00:00<?, ?it/s]"
      ]
     },
     "metadata": {},
     "output_type": "display_data"
    },
    {
     "data": {
      "application/vnd.jupyter.widget-view+json": {
       "model_id": "8221eb47b7334b4f8012ae79d4eafe65",
       "version_major": 2,
       "version_minor": 0
      },
      "text/plain": [
       "Calculating Metrics:   0%|          | 0/2 [00:00<?, ?it/s]"
      ]
     },
     "metadata": {},
     "output_type": "display_data"
    },
    {
     "data": {
      "application/vnd.jupyter.widget-view+json": {
       "model_id": "3ff3f16e13fd4568983bfd2cf7dcf305",
       "version_major": 2,
       "version_minor": 0
      },
      "text/plain": [
       "Calculating Metrics:   0%|          | 0/2 [00:00<?, ?it/s]"
      ]
     },
     "metadata": {},
     "output_type": "display_data"
    },
    {
     "data": {
      "application/vnd.jupyter.widget-view+json": {
       "model_id": "bb065989382d4c438d3c2a99a3cfab3c",
       "version_major": 2,
       "version_minor": 0
      },
      "text/plain": [
       "Calculating Metrics:   0%|          | 0/2 [00:00<?, ?it/s]"
      ]
     },
     "metadata": {},
     "output_type": "display_data"
    },
    {
     "data": {
      "application/vnd.jupyter.widget-view+json": {
       "model_id": "7321bf490d66475ba6e43f04fbb87ae3",
       "version_major": 2,
       "version_minor": 0
      },
      "text/plain": [
       "Calculating Metrics:   0%|          | 0/2 [00:00<?, ?it/s]"
      ]
     },
     "metadata": {},
     "output_type": "display_data"
    },
    {
     "data": {
      "application/vnd.jupyter.widget-view+json": {
       "model_id": "6d5fb0b43e4f48d7a7e40a98cf55a237",
       "version_major": 2,
       "version_minor": 0
      },
      "text/plain": [
       "Calculating Metrics:   0%|          | 0/2 [00:00<?, ?it/s]"
      ]
     },
     "metadata": {},
     "output_type": "display_data"
    },
    {
     "data": {
      "application/vnd.jupyter.widget-view+json": {
       "model_id": "1fb5900b7a70450ca9599700db206966",
       "version_major": 2,
       "version_minor": 0
      },
      "text/plain": [
       "Calculating Metrics:   0%|          | 0/6 [00:00<?, ?it/s]"
      ]
     },
     "metadata": {},
     "output_type": "display_data"
    },
    {
     "data": {
      "application/vnd.jupyter.widget-view+json": {
       "model_id": "3f0e8660bac04437acfce13a04dbb389",
       "version_major": 2,
       "version_minor": 0
      },
      "text/plain": [
       "Calculating Metrics:   0%|          | 0/6 [00:00<?, ?it/s]"
      ]
     },
     "metadata": {},
     "output_type": "display_data"
    },
    {
     "data": {
      "application/vnd.jupyter.widget-view+json": {
       "model_id": "7f0b0c1aa59443b2b12f48805224d266",
       "version_major": 2,
       "version_minor": 0
      },
      "text/plain": [
       "Calculating Metrics:   0%|          | 0/6 [00:00<?, ?it/s]"
      ]
     },
     "metadata": {},
     "output_type": "display_data"
    },
    {
     "data": {
      "application/vnd.jupyter.widget-view+json": {
       "model_id": "1b823c4b59514c1dba31f1a333440ebb",
       "version_major": 2,
       "version_minor": 0
      },
      "text/plain": [
       "Calculating Metrics:   0%|          | 0/6 [00:00<?, ?it/s]"
      ]
     },
     "metadata": {},
     "output_type": "display_data"
    },
    {
     "data": {
      "application/vnd.jupyter.widget-view+json": {
       "model_id": "e8ca62c7d9f6407cb0f90d1ef3135db4",
       "version_major": 2,
       "version_minor": 0
      },
      "text/plain": [
       "Calculating Metrics:   0%|          | 0/6 [00:00<?, ?it/s]"
      ]
     },
     "metadata": {},
     "output_type": "display_data"
    },
    {
     "data": {
      "application/vnd.jupyter.widget-view+json": {
       "model_id": "10d4af73f9244c5193cc683778918de1",
       "version_major": 2,
       "version_minor": 0
      },
      "text/plain": [
       "Calculating Metrics:   0%|          | 0/6 [00:00<?, ?it/s]"
      ]
     },
     "metadata": {},
     "output_type": "display_data"
    },
    {
     "data": {
      "application/vnd.jupyter.widget-view+json": {
       "model_id": "5285963df0c84117ac54e38595d62a8c",
       "version_major": 2,
       "version_minor": 0
      },
      "text/plain": [
       "Calculating Metrics:   0%|          | 0/6 [00:00<?, ?it/s]"
      ]
     },
     "metadata": {},
     "output_type": "display_data"
    },
    {
     "data": {
      "application/vnd.jupyter.widget-view+json": {
       "model_id": "06f10b960fa245568b352031d979e3fc",
       "version_major": 2,
       "version_minor": 0
      },
      "text/plain": [
       "Calculating Metrics:   0%|          | 0/6 [00:00<?, ?it/s]"
      ]
     },
     "metadata": {},
     "output_type": "display_data"
    },
    {
     "data": {
      "application/vnd.jupyter.widget-view+json": {
       "model_id": "da53db1aef0f4852baf6188aff7785be",
       "version_major": 2,
       "version_minor": 0
      },
      "text/plain": [
       "Calculating Metrics:   0%|          | 0/6 [00:00<?, ?it/s]"
      ]
     },
     "metadata": {},
     "output_type": "display_data"
    },
    {
     "data": {
      "application/vnd.jupyter.widget-view+json": {
       "model_id": "b3d522715ae340358bc3816109762b5f",
       "version_major": 2,
       "version_minor": 0
      },
      "text/plain": [
       "Calculating Metrics:   0%|          | 0/4 [00:00<?, ?it/s]"
      ]
     },
     "metadata": {},
     "output_type": "display_data"
    },
    {
     "data": {
      "application/vnd.jupyter.widget-view+json": {
       "model_id": "a54fa9c54a074d178edce0928ddb0232",
       "version_major": 2,
       "version_minor": 0
      },
      "text/plain": [
       "Calculating Metrics:   0%|          | 0/4 [00:00<?, ?it/s]"
      ]
     },
     "metadata": {},
     "output_type": "display_data"
    },
    {
     "data": {
      "application/vnd.jupyter.widget-view+json": {
       "model_id": "01fee970e2e0487fbe5a8adec782cbca",
       "version_major": 2,
       "version_minor": 0
      },
      "text/plain": [
       "Calculating Metrics:   0%|          | 0/4 [00:00<?, ?it/s]"
      ]
     },
     "metadata": {},
     "output_type": "display_data"
    },
    {
     "data": {
      "application/vnd.jupyter.widget-view+json": {
       "model_id": "9692cdfa92a94313b2d333af0a734e78",
       "version_major": 2,
       "version_minor": 0
      },
      "text/plain": [
       "Calculating Metrics:   0%|          | 0/4 [00:00<?, ?it/s]"
      ]
     },
     "metadata": {},
     "output_type": "display_data"
    },
    {
     "data": {
      "application/vnd.jupyter.widget-view+json": {
       "model_id": "814a63b9288e4915999dfc919efc975f",
       "version_major": 2,
       "version_minor": 0
      },
      "text/plain": [
       "Calculating Metrics:   0%|          | 0/4 [00:00<?, ?it/s]"
      ]
     },
     "metadata": {},
     "output_type": "display_data"
    },
    {
     "data": {
      "application/vnd.jupyter.widget-view+json": {
       "model_id": "2825777c7bf44416b3fa52ee75d54fca",
       "version_major": 2,
       "version_minor": 0
      },
      "text/plain": [
       "Calculating Metrics:   0%|          | 0/11 [00:00<?, ?it/s]"
      ]
     },
     "metadata": {},
     "output_type": "display_data"
    },
    {
     "data": {
      "application/vnd.jupyter.widget-view+json": {
       "model_id": "041f1fb51047452f8fafc38037e2204c",
       "version_major": 2,
       "version_minor": 0
      },
      "text/plain": [
       "Calculating Metrics:   0%|          | 0/8 [00:00<?, ?it/s]"
      ]
     },
     "metadata": {},
     "output_type": "display_data"
    },
    {
     "data": {
      "application/vnd.jupyter.widget-view+json": {
       "model_id": "c97727f016124127b68c31f13e61395c",
       "version_major": 2,
       "version_minor": 0
      },
      "text/plain": [
       "Calculating Metrics:   0%|          | 0/8 [00:00<?, ?it/s]"
      ]
     },
     "metadata": {},
     "output_type": "display_data"
    },
    {
     "data": {
      "application/vnd.jupyter.widget-view+json": {
       "model_id": "48a778ed8ca84dc699bfcea4154e3ca8",
       "version_major": 2,
       "version_minor": 0
      },
      "text/plain": [
       "Calculating Metrics:   0%|          | 0/8 [00:00<?, ?it/s]"
      ]
     },
     "metadata": {},
     "output_type": "display_data"
    },
    {
     "data": {
      "application/vnd.jupyter.widget-view+json": {
       "model_id": "4c92906811b3407aaf4ef53bda3abe42",
       "version_major": 2,
       "version_minor": 0
      },
      "text/plain": [
       "Calculating Metrics:   0%|          | 0/8 [00:00<?, ?it/s]"
      ]
     },
     "metadata": {},
     "output_type": "display_data"
    },
    {
     "data": {
      "application/vnd.jupyter.widget-view+json": {
       "model_id": "9c12d84d0a8249ec9fbfc5ff87302d01",
       "version_major": 2,
       "version_minor": 0
      },
      "text/plain": [
       "Calculating Metrics:   0%|          | 0/8 [00:00<?, ?it/s]"
      ]
     },
     "metadata": {},
     "output_type": "display_data"
    },
    {
     "data": {
      "text/plain": [
       "{\n",
       "  \"success\": true,\n",
       "  \"result\": {\n",
       "    \"element_count\": 972406,\n",
       "    \"unexpected_count\": 0,\n",
       "    \"unexpected_percent\": 0.0,\n",
       "    \"partial_unexpected_list\": [],\n",
       "    \"missing_count\": 0,\n",
       "    \"missing_percent\": 0.0,\n",
       "    \"unexpected_percent_total\": 0.0,\n",
       "    \"unexpected_percent_nonmissing\": 0.0\n",
       "  },\n",
       "  \"meta\": {},\n",
       "  \"exception_info\": {\n",
       "    \"raised_exception\": false,\n",
       "    \"exception_traceback\": null,\n",
       "    \"exception_message\": null\n",
       "  }\n",
       "}"
      ]
     },
     "execution_count": 8,
     "metadata": {},
     "output_type": "execute_result"
    }
   ],
   "source": [
    "# column should exist\n",
    "validator.expect_column_to_exist(\"name\")\n",
    "validator.expect_column_to_exist(\"price\")\n",
    "validator.expect_column_to_exist(\"item_condition_id\")\n",
    "validator.expect_column_to_exist(\"category_name\")\n",
    "validator.expect_column_to_exist(\"brand_name\")\n",
    "validator.expect_column_to_exist(\"shipping\")\n",
    "validator.expect_column_to_exist(\"item_description\")\n",
    "validator.expect_column_to_exist(\"created_at\")\n",
    "validator.expect_column_to_exist(\"last_updated_at\")\n",
    "\n",
    "# not null expectations\n",
    "validator.expect_column_values_to_not_be_null(\"name\")\n",
    "validator.expect_column_values_to_not_be_null(\"price\")\n",
    "validator.expect_column_values_to_not_be_null(\"item_condition_id\")\n",
    "validator.expect_column_values_to_not_be_null(\"shipping\")\n",
    "validator.expect_column_values_to_not_be_null(\"created_at\")\n",
    "validator.expect_column_values_to_not_be_null(\"last_updated_at\")\n",
    "validator.expect_column_values_to_not_be_null(\"item_description\", mostly=0.95)\n",
    "validator.expect_column_values_to_not_be_null(\"category_name\", mostly=.95)\n",
    "validator.expect_column_values_to_not_be_null(\"brand_name\", mostly=0.5)\n",
    "\n",
    "# value expectations\n",
    "# validator.expect_column_values_to_be_between(\n",
    "#     \"price\", min_value=0, max_value=2000)\n",
    "\n",
    "validator.expect_column_max_to_be_between(\n",
    "    \"price\", min_value=1000, max_value=2500)\n",
    "\n",
    "validator.expect_column_distinct_values_to_be_in_set(\n",
    "        \"shipping\",\n",
    "        [0,1])\n",
    "\n",
    "validator.expect_column_distinct_values_to_be_in_set(\n",
    "        \"item_condition_id\",\n",
    "        [1,2,3,4,5])\n",
    "\n",
    "#  distribution expectations\n",
    "validator.expect_column_stdev_to_be_between(\n",
    "'price', min_value=30, max_value=50)\n",
    "\n",
    "validator.expect_column_mean_to_be_between(\n",
    "'price', min_value=20, max_value=30)\n",
    "\n",
    "validator.expect_column_value_z_scores_to_be_less_than(\n",
    "'price', threshold=3, mostly=.9, double_sided=False)\n",
    "\n",
    "# regex expectations\n",
    "# should not be urls\n",
    "validator.expect_column_values_to_not_match_regex(\n",
    "'name', regex='https?:\\/\\/.*[\\r\\n]*')\n",
    "\n",
    "validator.expect_column_values_to_not_match_regex(\n",
    "'brand_name', regex='https?:\\/\\/.*[\\r\\n]*')\n",
    "\n",
    "validator.expect_column_values_to_not_match_regex(\n",
    "'category_name', regex='https?:\\/\\/.*[\\r\\n]*')\n",
    "\n",
    "# date columns\n",
    "validator.expect_column_values_to_be_dateutil_parseable('created_at')\n",
    "validator.expect_column_values_to_be_dateutil_parseable('last_updated_at')"
   ]
  },
  {
   "cell_type": "markdown",
   "id": "c666969a",
   "metadata": {},
   "source": [
    "Let's run the data assistant "
   ]
  },
  {
   "cell_type": "code",
   "execution_count": 9,
   "id": "169f7498",
   "metadata": {},
   "outputs": [],
   "source": [
    "# exclude_cols_names=['train_id']"
   ]
  },
  {
   "cell_type": "code",
   "execution_count": 10,
   "id": "a1d5bbac",
   "metadata": {},
   "outputs": [],
   "source": [
    "# data_assistant_result = context.assistants.missingness.run(\n",
    "#     validator=validator,\n",
    "#     exclude_column_names=exclude_cols_names,\n",
    "# )"
   ]
  },
  {
   "cell_type": "markdown",
   "id": "5c863e0f",
   "metadata": {},
   "source": [
    "Save expectations"
   ]
  },
  {
   "cell_type": "code",
   "execution_count": 11,
   "id": "484888d5",
   "metadata": {},
   "outputs": [],
   "source": [
    "# validator.expectation_suite= data_assistant_result.get_expectation_suite(\n",
    "#     expectation_suite_name='mercari_first_expectation_suite'\n",
    "# )\n",
    "validator.save_expectation_suite(discard_failed_expectations=False)"
   ]
  },
  {
   "cell_type": "code",
   "execution_count": 12,
   "id": "8b4c1f0e",
   "metadata": {},
   "outputs": [],
   "source": [
    "checkpoint = context.add_or_update_checkpoint(\n",
    "    name=\"checkpoint_v4\",\n",
    "    validator=validator,\n",
    ")"
   ]
  },
  {
   "cell_type": "markdown",
   "id": "a0e0371b",
   "metadata": {},
   "source": [
    "Run expectations"
   ]
  },
  {
   "cell_type": "code",
   "execution_count": 13,
   "id": "ccec229b",
   "metadata": {},
   "outputs": [
    {
     "data": {
      "application/vnd.jupyter.widget-view+json": {
       "model_id": "1888bf5f42c44fd0bb3c5fe2f26006f4",
       "version_major": 2,
       "version_minor": 0
      },
      "text/plain": [
       "Calculating Metrics:   0%|          | 0/84 [00:00<?, ?it/s]"
      ]
     },
     "metadata": {},
     "output_type": "display_data"
    }
   ],
   "source": [
    "checkpoint_result = checkpoint.run()"
   ]
  },
  {
   "cell_type": "code",
   "execution_count": 14,
   "id": "f5615c1e",
   "metadata": {},
   "outputs": [],
   "source": [
    "# assert checkpoint_result[\"success\"] is True"
   ]
  },
  {
   "cell_type": "markdown",
   "id": "d594b4b8",
   "metadata": {},
   "source": [
    "View results "
   ]
  },
  {
   "cell_type": "code",
   "execution_count": 15,
   "id": "4fcb89a2",
   "metadata": {},
   "outputs": [],
   "source": [
    "# data_assistant_result.show_expectations_by_expectation_type()"
   ]
  },
  {
   "cell_type": "markdown",
   "id": "c7ffc6c5",
   "metadata": {},
   "source": [
    "Let's view the data doc"
   ]
  },
  {
   "cell_type": "code",
   "execution_count": 16,
   "id": "8d298f84",
   "metadata": {},
   "outputs": [],
   "source": [
    "context.view_validation_result(checkpoint_result)"
   ]
  },
  {
   "cell_type": "markdown",
   "id": "4febd8d7",
   "metadata": {},
   "source": [
    "## Pandera:"
   ]
  },
  {
   "cell_type": "markdown",
   "id": "3a49fa4d",
   "metadata": {},
   "source": [
    "Load dataframe"
   ]
  },
  {
   "cell_type": "code",
   "execution_count": 17,
   "id": "733d8034",
   "metadata": {},
   "outputs": [],
   "source": [
    "gcp_url = 'https://storage.googleapis.com/price_alchemy/Data/data.csv'\n",
    "\n",
    "df = pd.read_csv(gcp_url)"
   ]
  },
  {
   "cell_type": "code",
   "execution_count": 18,
   "id": "3cfef03a",
   "metadata": {},
   "outputs": [
    {
     "name": "stdout",
     "output_type": "stream",
     "text": [
      "<class 'pandas.core.frame.DataFrame'>\n",
      "RangeIndex: 972406 entries, 0 to 972405\n",
      "Data columns (total 10 columns):\n",
      " #   Column             Non-Null Count   Dtype  \n",
      "---  ------             --------------   -----  \n",
      " 0   train_id           972406 non-null  int64  \n",
      " 1   name               972406 non-null  object \n",
      " 2   item_condition_id  972406 non-null  int64  \n",
      " 3   category_name      967865 non-null  object \n",
      " 4   brand_name         534339 non-null  object \n",
      " 5   price              972406 non-null  float64\n",
      " 6   shipping           972406 non-null  int64  \n",
      " 7   item_description   972403 non-null  object \n",
      " 8   created_at         972406 non-null  object \n",
      " 9   last_updated_at    972406 non-null  object \n",
      "dtypes: float64(1), int64(3), object(6)\n",
      "memory usage: 74.2+ MB\n"
     ]
    }
   ],
   "source": [
    "df.info()"
   ]
  },
  {
   "cell_type": "code",
   "execution_count": 19,
   "id": "ae9daf3e",
   "metadata": {},
   "outputs": [
    {
     "data": {
      "text/html": [
       "<div>\n",
       "<style scoped>\n",
       "    .dataframe tbody tr th:only-of-type {\n",
       "        vertical-align: middle;\n",
       "    }\n",
       "\n",
       "    .dataframe tbody tr th {\n",
       "        vertical-align: top;\n",
       "    }\n",
       "\n",
       "    .dataframe thead th {\n",
       "        text-align: right;\n",
       "    }\n",
       "</style>\n",
       "<table border=\"1\" class=\"dataframe\">\n",
       "  <thead>\n",
       "    <tr style=\"text-align: right;\">\n",
       "      <th></th>\n",
       "      <th>train_id</th>\n",
       "      <th>name</th>\n",
       "      <th>item_condition_id</th>\n",
       "      <th>category_name</th>\n",
       "      <th>brand_name</th>\n",
       "      <th>price</th>\n",
       "      <th>shipping</th>\n",
       "      <th>item_description</th>\n",
       "      <th>created_at</th>\n",
       "      <th>last_updated_at</th>\n",
       "    </tr>\n",
       "  </thead>\n",
       "  <tbody>\n",
       "    <tr>\n",
       "      <th>0</th>\n",
       "      <td>793697</td>\n",
       "      <td>Plaid Vest</td>\n",
       "      <td>2</td>\n",
       "      <td>Women/Coats &amp; Jackets/Vest</td>\n",
       "      <td>Old Navy</td>\n",
       "      <td>11.0</td>\n",
       "      <td>1</td>\n",
       "      <td>Green and blue. Very thick and soft! Perfect f...</td>\n",
       "      <td>2022-01-01 00:00:00</td>\n",
       "      <td>2022-01-01 00:00:00</td>\n",
       "    </tr>\n",
       "    <tr>\n",
       "      <th>1</th>\n",
       "      <td>402094</td>\n",
       "      <td>Women's Sperrys</td>\n",
       "      <td>3</td>\n",
       "      <td>Women/Shoes/Loafers &amp; Slip-Ons</td>\n",
       "      <td>Sperrys</td>\n",
       "      <td>21.0</td>\n",
       "      <td>0</td>\n",
       "      <td>EUC</td>\n",
       "      <td>2022-01-01 00:01:00</td>\n",
       "      <td>2022-01-01 00:01:00</td>\n",
       "    </tr>\n",
       "    <tr>\n",
       "      <th>2</th>\n",
       "      <td>522439</td>\n",
       "      <td>Grey sweater dress</td>\n",
       "      <td>1</td>\n",
       "      <td>Women/Dresses/Other</td>\n",
       "      <td>Fashion Nova</td>\n",
       "      <td>20.0</td>\n",
       "      <td>1</td>\n",
       "      <td>This is a heather grey sweater dress from fash...</td>\n",
       "      <td>2022-01-01 00:01:00</td>\n",
       "      <td>2022-01-01 00:01:00</td>\n",
       "    </tr>\n",
       "    <tr>\n",
       "      <th>3</th>\n",
       "      <td>214455</td>\n",
       "      <td>Tory Burch 'Perry' Leather Wallet</td>\n",
       "      <td>3</td>\n",
       "      <td>Women/Women's Accessories/Wallets</td>\n",
       "      <td>Tory Burch</td>\n",
       "      <td>91.0</td>\n",
       "      <td>0</td>\n",
       "      <td>Tory Burch 'Perry' Leather Zip Continental Wal...</td>\n",
       "      <td>2022-01-01 00:03:00</td>\n",
       "      <td>2022-01-01 00:03:00</td>\n",
       "    </tr>\n",
       "    <tr>\n",
       "      <th>4</th>\n",
       "      <td>902755</td>\n",
       "      <td>Fujifilm Rainbow Instax Film</td>\n",
       "      <td>1</td>\n",
       "      <td>Electronics/Cameras &amp; Photography/Film Photogr...</td>\n",
       "      <td>Fuji</td>\n",
       "      <td>14.0</td>\n",
       "      <td>0</td>\n",
       "      <td>No description yet</td>\n",
       "      <td>2022-01-01 00:05:00</td>\n",
       "      <td>2022-01-01 00:05:00</td>\n",
       "    </tr>\n",
       "    <tr>\n",
       "      <th>5</th>\n",
       "      <td>1284875</td>\n",
       "      <td>Tartelette</td>\n",
       "      <td>3</td>\n",
       "      <td>Beauty/Makeup/Makeup Palettes</td>\n",
       "      <td>Tarte</td>\n",
       "      <td>25.0</td>\n",
       "      <td>1</td>\n",
       "      <td>Used. It looks new</td>\n",
       "      <td>2022-01-01 00:06:00</td>\n",
       "      <td>2022-01-01 00:06:00</td>\n",
       "    </tr>\n",
       "    <tr>\n",
       "      <th>6</th>\n",
       "      <td>973923</td>\n",
       "      <td>New Electric Warmer Faith Hope Love &amp;</td>\n",
       "      <td>1</td>\n",
       "      <td>Beauty/Fragrance/Candles &amp; Home Scents</td>\n",
       "      <td>NaN</td>\n",
       "      <td>20.0</td>\n",
       "      <td>0</td>\n",
       "      <td>My prices are fair and firm ☆Full size warmers...</td>\n",
       "      <td>2022-01-01 00:14:00</td>\n",
       "      <td>2022-01-01 00:14:00</td>\n",
       "    </tr>\n",
       "    <tr>\n",
       "      <th>7</th>\n",
       "      <td>495229</td>\n",
       "      <td>eroshiyda's Pumpkin Pie Lip Scrub Set</td>\n",
       "      <td>1</td>\n",
       "      <td>Beauty/Skin Care/Lips</td>\n",
       "      <td>NaN</td>\n",
       "      <td>6.0</td>\n",
       "      <td>1</td>\n",
       "      <td>This is allergen-free cruelty-free, dye-free, ...</td>\n",
       "      <td>2022-01-01 00:15:00</td>\n",
       "      <td>2022-01-01 00:15:00</td>\n",
       "    </tr>\n",
       "    <tr>\n",
       "      <th>8</th>\n",
       "      <td>829109</td>\n",
       "      <td>AEO Ripped Jeans</td>\n",
       "      <td>3</td>\n",
       "      <td>Women/Jeans/Slim, Skinny</td>\n",
       "      <td>American Eagle</td>\n",
       "      <td>21.0</td>\n",
       "      <td>0</td>\n",
       "      <td>Size 8</td>\n",
       "      <td>2022-01-01 00:19:00</td>\n",
       "      <td>2022-01-01 00:19:00</td>\n",
       "    </tr>\n",
       "    <tr>\n",
       "      <th>9</th>\n",
       "      <td>1013975</td>\n",
       "      <td>Air Jordan 4</td>\n",
       "      <td>2</td>\n",
       "      <td>Kids/Boys (4+)/Shoes</td>\n",
       "      <td>Nike</td>\n",
       "      <td>119.0</td>\n",
       "      <td>0</td>\n",
       "      <td>J4 White Cement Like new condition With origin...</td>\n",
       "      <td>2022-01-01 00:25:00</td>\n",
       "      <td>2022-01-01 00:25:00</td>\n",
       "    </tr>\n",
       "  </tbody>\n",
       "</table>\n",
       "</div>"
      ],
      "text/plain": [
       "   train_id                                   name  item_condition_id  \\\n",
       "0    793697                             Plaid Vest                  2   \n",
       "1    402094                        Women's Sperrys                  3   \n",
       "2    522439                     Grey sweater dress                  1   \n",
       "3    214455      Tory Burch 'Perry' Leather Wallet                  3   \n",
       "4    902755           Fujifilm Rainbow Instax Film                  1   \n",
       "5   1284875                             Tartelette                  3   \n",
       "6    973923  New Electric Warmer Faith Hope Love &                  1   \n",
       "7    495229  eroshiyda's Pumpkin Pie Lip Scrub Set                  1   \n",
       "8    829109                       AEO Ripped Jeans                  3   \n",
       "9   1013975                           Air Jordan 4                  2   \n",
       "\n",
       "                                       category_name      brand_name  price  \\\n",
       "0                         Women/Coats & Jackets/Vest        Old Navy   11.0   \n",
       "1                     Women/Shoes/Loafers & Slip-Ons         Sperrys   21.0   \n",
       "2                                Women/Dresses/Other    Fashion Nova   20.0   \n",
       "3                  Women/Women's Accessories/Wallets      Tory Burch   91.0   \n",
       "4  Electronics/Cameras & Photography/Film Photogr...            Fuji   14.0   \n",
       "5                      Beauty/Makeup/Makeup Palettes           Tarte   25.0   \n",
       "6             Beauty/Fragrance/Candles & Home Scents             NaN   20.0   \n",
       "7                              Beauty/Skin Care/Lips             NaN    6.0   \n",
       "8                           Women/Jeans/Slim, Skinny  American Eagle   21.0   \n",
       "9                               Kids/Boys (4+)/Shoes            Nike  119.0   \n",
       "\n",
       "   shipping                                   item_description  \\\n",
       "0         1  Green and blue. Very thick and soft! Perfect f...   \n",
       "1         0                                                EUC   \n",
       "2         1  This is a heather grey sweater dress from fash...   \n",
       "3         0  Tory Burch 'Perry' Leather Zip Continental Wal...   \n",
       "4         0                                 No description yet   \n",
       "5         1                                 Used. It looks new   \n",
       "6         0  My prices are fair and firm ☆Full size warmers...   \n",
       "7         1  This is allergen-free cruelty-free, dye-free, ...   \n",
       "8         0                                             Size 8   \n",
       "9         0  J4 White Cement Like new condition With origin...   \n",
       "\n",
       "            created_at      last_updated_at  \n",
       "0  2022-01-01 00:00:00  2022-01-01 00:00:00  \n",
       "1  2022-01-01 00:01:00  2022-01-01 00:01:00  \n",
       "2  2022-01-01 00:01:00  2022-01-01 00:01:00  \n",
       "3  2022-01-01 00:03:00  2022-01-01 00:03:00  \n",
       "4  2022-01-01 00:05:00  2022-01-01 00:05:00  \n",
       "5  2022-01-01 00:06:00  2022-01-01 00:06:00  \n",
       "6  2022-01-01 00:14:00  2022-01-01 00:14:00  \n",
       "7  2022-01-01 00:15:00  2022-01-01 00:15:00  \n",
       "8  2022-01-01 00:19:00  2022-01-01 00:19:00  \n",
       "9  2022-01-01 00:25:00  2022-01-01 00:25:00  "
      ]
     },
     "execution_count": 19,
     "metadata": {},
     "output_type": "execute_result"
    }
   ],
   "source": [
    "df.head(10)"
   ]
  },
  {
   "cell_type": "markdown",
   "id": "57786cb8",
   "metadata": {},
   "source": [
    "Let's  use pandera to declare the schema of the dataframe"
   ]
  },
  {
   "cell_type": "code",
   "execution_count": 20,
   "id": "3a6ed3ff",
   "metadata": {},
   "outputs": [],
   "source": [
    "schema= pa.DataFrameSchema({\n",
    "    'train_id':pa.Column(int),\n",
    "    'name': pa.Column(str), \n",
    "    'item_condition_id': pa.Column(int, checks=pa.Check.isin([1,2,3,4,5])),\n",
    "    'category_name':pa.Column(str, nullable=True),\n",
    "    'brand_name':pa.Column(str, nullable=True),\n",
    "    'price':pa.Column(float, checks=pa.Check(lambda x: x>=0)), \n",
    "    'shipping':pa.Column(int, checks=pa.Check.isin([0,1])),\n",
    "    'item_description':pa.Column(str, nullable=True),\n",
    "    'created_at':pa.Column(str),\n",
    "    'last_updated_at':pa.Column(str)\n",
    "}, \n",
    "unique=['train_id','name'])"
   ]
  },
  {
   "cell_type": "markdown",
   "id": "7de5aa6c",
   "metadata": {},
   "source": [
    "Validate the schema of the dataframe"
   ]
  },
  {
   "cell_type": "code",
   "execution_count": 21,
   "id": "0cc18d7b",
   "metadata": {},
   "outputs": [
    {
     "data": {
      "text/plain": [
       "True"
      ]
     },
     "execution_count": 21,
     "metadata": {},
     "output_type": "execute_result"
    }
   ],
   "source": [
    "try :\n",
    "    schema(df)\n",
    "    validated= True\n",
    "except:\n",
    "    validated= False\n",
    "\n",
    "validated"
   ]
  },
  {
   "cell_type": "code",
   "execution_count": 22,
   "id": "d76c5826",
   "metadata": {},
   "outputs": [
    {
     "name": "stdout",
     "output_type": "stream",
     "text": [
      "        train_id                               name  item_condition_id  \\\n",
      "0         793697                         Plaid Vest                  2   \n",
      "1         402094                    Women's Sperrys                  3   \n",
      "2         522439                 Grey sweater dress                  1   \n",
      "3         214455  Tory Burch 'Perry' Leather Wallet                  3   \n",
      "4         902755       Fujifilm Rainbow Instax Film                  1   \n",
      "...          ...                                ...                ...   \n",
      "972401    700766           LF Floral Hooded Flannel                  3   \n",
      "972402   1277823       Rae Dunn FAMILY & FEAST Mugs                  1   \n",
      "972403   1446057             ‼️LAST CHANCE TO GET‼️                  3   \n",
      "972404    222392                 ⭐️OPI - Race Red⭐️                  1   \n",
      "972405    151885                 Boho Cardigan Vest                  2   \n",
      "\n",
      "                                            category_name       brand_name  \\\n",
      "0                              Women/Coats & Jackets/Vest         Old Navy   \n",
      "1                          Women/Shoes/Loafers & Slip-Ons          Sperrys   \n",
      "2                                     Women/Dresses/Other     Fashion Nova   \n",
      "3                       Women/Women's Accessories/Wallets       Tory Burch   \n",
      "4       Electronics/Cameras & Photography/Film Photogr...             Fuji   \n",
      "...                                                   ...              ...   \n",
      "972401                              Women/Sweaters/Hooded               LF   \n",
      "972402     Home/Kitchen & Dining/Coffee & Tea Accessories              NaN   \n",
      "972403                     Women/Dresses/Above Knee, Mini  Brandy Melville   \n",
      "972404                                Beauty/Makeup/Nails              NaN   \n",
      "972405                            Women/Sweaters/Cardigan              NaN   \n",
      "\n",
      "        price  shipping                                   item_description  \\\n",
      "0        11.0         1  Green and blue. Very thick and soft! Perfect f...   \n",
      "1        21.0         0                                                EUC   \n",
      "2        20.0         1  This is a heather grey sweater dress from fash...   \n",
      "3        91.0         0  Tory Burch 'Perry' Leather Zip Continental Wal...   \n",
      "4        14.0         0                                 No description yet   \n",
      "...       ...       ...                                                ...   \n",
      "972401  154.0         0  LF Floral Hooded Flannel. One Size. EUC - blue...   \n",
      "972402   24.0         0  This is the exact item you will receive. I fin...   \n",
      "972403   24.0         0      Cream and grey floral dress with low cut back   \n",
      "972404    7.0         1  ❤️Brand New • Full Size • Authentic❤️ ✨In this...   \n",
      "972405   12.0         0  This cardigan is beautiful and can make any ou...   \n",
      "\n",
      "                 created_at      last_updated_at  \n",
      "0       2022-01-01 00:00:00  2022-01-01 00:00:00  \n",
      "1       2022-01-01 00:01:00  2022-01-01 00:01:00  \n",
      "2       2022-01-01 00:01:00  2022-01-01 00:01:00  \n",
      "3       2022-01-01 00:03:00  2022-01-01 00:03:00  \n",
      "4       2022-01-01 00:05:00  2022-01-01 00:05:00  \n",
      "...                     ...                  ...  \n",
      "972401  2024-03-04 23:53:00  2024-03-04 23:53:00  \n",
      "972402  2024-03-04 23:57:00  2024-03-04 23:57:00  \n",
      "972403  2024-03-04 23:57:00  2024-03-04 23:57:00  \n",
      "972404  2024-03-04 23:58:00  2024-03-04 23:58:00  \n",
      "972405  2024-03-04 23:58:00  2024-03-04 23:58:00  \n",
      "\n",
      "[972406 rows x 10 columns]\n"
     ]
    }
   ],
   "source": [
    "if validated:\n",
    "    print(schema(df))"
   ]
  }
 ],
 "metadata": {
  "kernelspec": {
   "display_name": "Python 3.9.18 (conda)",
   "language": "python",
   "name": "python3"
  },
  "language_info": {
   "codemirror_mode": {
    "name": "ipython",
    "version": 3
   },
   "file_extension": ".py",
   "mimetype": "text/x-python",
   "name": "python",
   "nbconvert_exporter": "python",
   "pygments_lexer": "ipython3",
   "version": "3.9.18"
  },
  "vscode": {
   "interpreter": {
    "hash": "03646948cc1eca1aab1a6d754d674736dcb5138b87307cb760ddb3b102c41299"
   }
  }
 },
 "nbformat": 4,
 "nbformat_minor": 5
}
