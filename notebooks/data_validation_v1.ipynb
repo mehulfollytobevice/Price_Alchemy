{
 "cells": [
  {
   "cell_type": "markdown",
   "id": "490fc631",
   "metadata": {},
   "source": [
    "## Data validation:\n",
    "This notebook contains the code for performing data validation on the Mercari Dataset. The ideal choice for performing data validation in python is using `tensorflow data validation`. Since, it is not compatible with our python environment, we can use the following packages as alternatives:\n",
    "- great expectations\n",
    "- pandas-profiling\n",
    "- pydantic"
   ]
  },
  {
   "cell_type": "code",
   "execution_count": 18,
   "id": "1de37643",
   "metadata": {},
   "outputs": [],
   "source": [
    "# import essentials\n",
    "import numpy\n",
    "import pandas as pd\n",
    "import pandera as pa\n",
    "import matplotlib.pyplot as plt\n",
    "import great_expectations as gx\n",
    "from great_expectations.checkpoint import Checkpoint\n",
    "%matplotlib inline"
   ]
  },
  {
   "cell_type": "code",
   "execution_count": 2,
   "id": "e35834fd",
   "metadata": {},
   "outputs": [
    {
     "name": "stdout",
     "output_type": "stream",
     "text": [
      "/Users/mehuljain/Documents/course_related/ML_Ops/project/Price_Alchemy\n"
     ]
    }
   ],
   "source": [
    "cd .."
   ]
  },
  {
   "cell_type": "markdown",
   "id": "15d575b5",
   "metadata": {},
   "source": [
    "## Great expectations:"
   ]
  },
  {
   "cell_type": "code",
   "execution_count": 3,
   "id": "8afe7100",
   "metadata": {},
   "outputs": [],
   "source": [
    "CTX_ROOT='./data/great_expectations'\n",
    "CSV_PATH='./data/Mercari Price Suggestion Challenge/train.csv'"
   ]
  },
  {
   "cell_type": "markdown",
   "id": "0fb16c8d",
   "metadata": {},
   "source": [
    "Create data context"
   ]
  },
  {
   "cell_type": "code",
   "execution_count": 4,
   "id": "db1ae0f4",
   "metadata": {},
   "outputs": [],
   "source": [
    "context=gx.get_context(context_root_dir=CTX_ROOT)"
   ]
  },
  {
   "cell_type": "code",
   "execution_count": 5,
   "id": "85bc0c92",
   "metadata": {},
   "outputs": [],
   "source": [
    "# add data sources\n",
    "DS_NAME='train_file'\n",
    "datasource=context.sources.add_pandas(DS_NAME)\n",
    "\n",
    "# adding csv asset\n",
    "asset_name='mercari_training'\n",
    "asset= datasource.add_csv_asset(asset_name, filepath_or_buffer=CSV_PATH)\n",
    "\n",
    "# build batch request\n",
    "batch_request= asset.build_batch_request()"
   ]
  },
  {
   "cell_type": "markdown",
   "id": "a9b14de6",
   "metadata": {},
   "source": [
    "Add expectation suite"
   ]
  },
  {
   "cell_type": "code",
   "execution_count": 6,
   "id": "d41d744a",
   "metadata": {},
   "outputs": [
    {
     "data": {
      "text/plain": [
       "{\n",
       "  \"expectation_suite_name\": \"mercari_first_expectation_suite\",\n",
       "  \"ge_cloud_id\": null,\n",
       "  \"expectations\": [],\n",
       "  \"data_asset_type\": null,\n",
       "  \"meta\": {\n",
       "    \"great_expectations_version\": \"0.18.10\"\n",
       "  }\n",
       "}"
      ]
     },
     "execution_count": 6,
     "metadata": {},
     "output_type": "execute_result"
    }
   ],
   "source": [
    "context.add_or_update_expectation_suite('mercari_first_expectation_suite')"
   ]
  },
  {
   "cell_type": "code",
   "execution_count": 7,
   "id": "851ed5e7",
   "metadata": {},
   "outputs": [],
   "source": [
    "validator = context.get_validator(\n",
    "    batch_request=batch_request,\n",
    "    expectation_suite_name='mercari_first_expectation_suite',\n",
    ")"
   ]
  },
  {
   "cell_type": "markdown",
   "id": "11369e24",
   "metadata": {},
   "source": [
    "What does the data look like?"
   ]
  },
  {
   "cell_type": "code",
   "execution_count": 8,
   "id": "75f724c3",
   "metadata": {},
   "outputs": [
    {
     "data": {
      "application/vnd.jupyter.widget-view+json": {
       "model_id": "f03af143d2da40a0a50e24139b4d62f2",
       "version_major": 2,
       "version_minor": 0
      },
      "text/plain": [
       "Calculating Metrics:   0%|          | 0/1 [00:00<?, ?it/s]"
      ]
     },
     "metadata": {},
     "output_type": "display_data"
    },
    {
     "data": {
      "text/html": [
       "<div>\n",
       "<style scoped>\n",
       "    .dataframe tbody tr th:only-of-type {\n",
       "        vertical-align: middle;\n",
       "    }\n",
       "\n",
       "    .dataframe tbody tr th {\n",
       "        vertical-align: top;\n",
       "    }\n",
       "\n",
       "    .dataframe thead th {\n",
       "        text-align: right;\n",
       "    }\n",
       "</style>\n",
       "<table border=\"1\" class=\"dataframe\">\n",
       "  <thead>\n",
       "    <tr style=\"text-align: right;\">\n",
       "      <th></th>\n",
       "      <th>train_id</th>\n",
       "      <th>name</th>\n",
       "      <th>item_condition_id</th>\n",
       "      <th>category_name</th>\n",
       "      <th>brand_name</th>\n",
       "      <th>price</th>\n",
       "      <th>shipping</th>\n",
       "      <th>item_description</th>\n",
       "    </tr>\n",
       "  </thead>\n",
       "  <tbody>\n",
       "    <tr>\n",
       "      <th>0</th>\n",
       "      <td>0</td>\n",
       "      <td>MLB Cincinnati Reds T Shirt Size XL</td>\n",
       "      <td>3</td>\n",
       "      <td>Men/Tops/T-shirts</td>\n",
       "      <td>NaN</td>\n",
       "      <td>10.0</td>\n",
       "      <td>1</td>\n",
       "      <td>No description yet</td>\n",
       "    </tr>\n",
       "    <tr>\n",
       "      <th>1</th>\n",
       "      <td>1</td>\n",
       "      <td>Razer BlackWidow Chroma Keyboard</td>\n",
       "      <td>3</td>\n",
       "      <td>Electronics/Computers &amp; Tablets/Components &amp; P...</td>\n",
       "      <td>Razer</td>\n",
       "      <td>52.0</td>\n",
       "      <td>0</td>\n",
       "      <td>This keyboard is in great condition and works ...</td>\n",
       "    </tr>\n",
       "    <tr>\n",
       "      <th>2</th>\n",
       "      <td>2</td>\n",
       "      <td>AVA-VIV Blouse</td>\n",
       "      <td>1</td>\n",
       "      <td>Women/Tops &amp; Blouses/Blouse</td>\n",
       "      <td>Target</td>\n",
       "      <td>10.0</td>\n",
       "      <td>1</td>\n",
       "      <td>Adorable top with a hint of lace and a key hol...</td>\n",
       "    </tr>\n",
       "    <tr>\n",
       "      <th>3</th>\n",
       "      <td>3</td>\n",
       "      <td>Leather Horse Statues</td>\n",
       "      <td>1</td>\n",
       "      <td>Home/Home Décor/Home Décor Accents</td>\n",
       "      <td>NaN</td>\n",
       "      <td>35.0</td>\n",
       "      <td>1</td>\n",
       "      <td>New with tags. Leather horses. Retail for [rm]...</td>\n",
       "    </tr>\n",
       "    <tr>\n",
       "      <th>4</th>\n",
       "      <td>4</td>\n",
       "      <td>24K GOLD plated rose</td>\n",
       "      <td>1</td>\n",
       "      <td>Women/Jewelry/Necklaces</td>\n",
       "      <td>NaN</td>\n",
       "      <td>44.0</td>\n",
       "      <td>0</td>\n",
       "      <td>Complete with certificate of authenticity</td>\n",
       "    </tr>\n",
       "  </tbody>\n",
       "</table>\n",
       "</div>"
      ],
      "text/plain": [
       "   train_id                                 name  item_condition_id  \\\n",
       "0         0  MLB Cincinnati Reds T Shirt Size XL                  3   \n",
       "1         1     Razer BlackWidow Chroma Keyboard                  3   \n",
       "2         2                       AVA-VIV Blouse                  1   \n",
       "3         3                Leather Horse Statues                  1   \n",
       "4         4                 24K GOLD plated rose                  1   \n",
       "\n",
       "                                       category_name brand_name  price  \\\n",
       "0                                  Men/Tops/T-shirts        NaN   10.0   \n",
       "1  Electronics/Computers & Tablets/Components & P...      Razer   52.0   \n",
       "2                        Women/Tops & Blouses/Blouse     Target   10.0   \n",
       "3                 Home/Home Décor/Home Décor Accents        NaN   35.0   \n",
       "4                            Women/Jewelry/Necklaces        NaN   44.0   \n",
       "\n",
       "   shipping                                   item_description  \n",
       "0         1                                 No description yet  \n",
       "1         0  This keyboard is in great condition and works ...  \n",
       "2         1  Adorable top with a hint of lace and a key hol...  \n",
       "3         1  New with tags. Leather horses. Retail for [rm]...  \n",
       "4         0          Complete with certificate of authenticity  "
      ]
     },
     "execution_count": 8,
     "metadata": {},
     "output_type": "execute_result"
    }
   ],
   "source": [
    "validator.head()"
   ]
  },
  {
   "cell_type": "markdown",
   "id": "b02206e2",
   "metadata": {},
   "source": [
    "Let's create some expectations"
   ]
  },
  {
   "cell_type": "code",
   "execution_count": 9,
   "id": "b4ff676f",
   "metadata": {},
   "outputs": [
    {
     "data": {
      "application/vnd.jupyter.widget-view+json": {
       "model_id": "a215db5616b145e5b8012628c6c7cf95",
       "version_major": 2,
       "version_minor": 0
      },
      "text/plain": [
       "Calculating Metrics:   0%|          | 0/2 [00:00<?, ?it/s]"
      ]
     },
     "metadata": {},
     "output_type": "display_data"
    },
    {
     "data": {
      "application/vnd.jupyter.widget-view+json": {
       "model_id": "1ede33dcd9524f1d848857a02cb58d4e",
       "version_major": 2,
       "version_minor": 0
      },
      "text/plain": [
       "Calculating Metrics:   0%|          | 0/2 [00:00<?, ?it/s]"
      ]
     },
     "metadata": {},
     "output_type": "display_data"
    },
    {
     "data": {
      "application/vnd.jupyter.widget-view+json": {
       "model_id": "7357bb44d8d8448f9cd5659a15ad5ae1",
       "version_major": 2,
       "version_minor": 0
      },
      "text/plain": [
       "Calculating Metrics:   0%|          | 0/2 [00:00<?, ?it/s]"
      ]
     },
     "metadata": {},
     "output_type": "display_data"
    },
    {
     "data": {
      "application/vnd.jupyter.widget-view+json": {
       "model_id": "4030de23e418476f9205b10e93be8e1a",
       "version_major": 2,
       "version_minor": 0
      },
      "text/plain": [
       "Calculating Metrics:   0%|          | 0/2 [00:00<?, ?it/s]"
      ]
     },
     "metadata": {},
     "output_type": "display_data"
    },
    {
     "data": {
      "application/vnd.jupyter.widget-view+json": {
       "model_id": "f06419c36aa746808bd8eef22f3b747c",
       "version_major": 2,
       "version_minor": 0
      },
      "text/plain": [
       "Calculating Metrics:   0%|          | 0/2 [00:00<?, ?it/s]"
      ]
     },
     "metadata": {},
     "output_type": "display_data"
    },
    {
     "data": {
      "application/vnd.jupyter.widget-view+json": {
       "model_id": "82c10bc8053b41e783d56a6d57d8da2f",
       "version_major": 2,
       "version_minor": 0
      },
      "text/plain": [
       "Calculating Metrics:   0%|          | 0/2 [00:00<?, ?it/s]"
      ]
     },
     "metadata": {},
     "output_type": "display_data"
    },
    {
     "data": {
      "application/vnd.jupyter.widget-view+json": {
       "model_id": "daecff00761f4621ba7bf49e2fb8748a",
       "version_major": 2,
       "version_minor": 0
      },
      "text/plain": [
       "Calculating Metrics:   0%|          | 0/2 [00:00<?, ?it/s]"
      ]
     },
     "metadata": {},
     "output_type": "display_data"
    },
    {
     "data": {
      "application/vnd.jupyter.widget-view+json": {
       "model_id": "53f2301241f742989ed4700ed452491d",
       "version_major": 2,
       "version_minor": 0
      },
      "text/plain": [
       "Calculating Metrics:   0%|          | 0/6 [00:00<?, ?it/s]"
      ]
     },
     "metadata": {},
     "output_type": "display_data"
    },
    {
     "data": {
      "application/vnd.jupyter.widget-view+json": {
       "model_id": "d57ee448b3c141b593299c79b0246116",
       "version_major": 2,
       "version_minor": 0
      },
      "text/plain": [
       "Calculating Metrics:   0%|          | 0/6 [00:00<?, ?it/s]"
      ]
     },
     "metadata": {},
     "output_type": "display_data"
    },
    {
     "data": {
      "application/vnd.jupyter.widget-view+json": {
       "model_id": "7a6f18eb0b3c4f0c827286a123665f64",
       "version_major": 2,
       "version_minor": 0
      },
      "text/plain": [
       "Calculating Metrics:   0%|          | 0/6 [00:00<?, ?it/s]"
      ]
     },
     "metadata": {},
     "output_type": "display_data"
    },
    {
     "data": {
      "application/vnd.jupyter.widget-view+json": {
       "model_id": "865061c816d74baeae2e76a40b18914f",
       "version_major": 2,
       "version_minor": 0
      },
      "text/plain": [
       "Calculating Metrics:   0%|          | 0/6 [00:00<?, ?it/s]"
      ]
     },
     "metadata": {},
     "output_type": "display_data"
    },
    {
     "data": {
      "application/vnd.jupyter.widget-view+json": {
       "model_id": "75b9abdcefed4e4db75274ae429a384f",
       "version_major": 2,
       "version_minor": 0
      },
      "text/plain": [
       "Calculating Metrics:   0%|          | 0/6 [00:00<?, ?it/s]"
      ]
     },
     "metadata": {},
     "output_type": "display_data"
    },
    {
     "data": {
      "application/vnd.jupyter.widget-view+json": {
       "model_id": "ad858fc2833d45ba8e04774ee6a6fc21",
       "version_major": 2,
       "version_minor": 0
      },
      "text/plain": [
       "Calculating Metrics:   0%|          | 0/6 [00:00<?, ?it/s]"
      ]
     },
     "metadata": {},
     "output_type": "display_data"
    },
    {
     "data": {
      "application/vnd.jupyter.widget-view+json": {
       "model_id": "80c32b3a1f8142068f8a2a9febb3cf96",
       "version_major": 2,
       "version_minor": 0
      },
      "text/plain": [
       "Calculating Metrics:   0%|          | 0/6 [00:00<?, ?it/s]"
      ]
     },
     "metadata": {},
     "output_type": "display_data"
    },
    {
     "data": {
      "application/vnd.jupyter.widget-view+json": {
       "model_id": "cd2f279eb0fd4aaf9ee803ae14a400f0",
       "version_major": 2,
       "version_minor": 0
      },
      "text/plain": [
       "Calculating Metrics:   0%|          | 0/4 [00:00<?, ?it/s]"
      ]
     },
     "metadata": {},
     "output_type": "display_data"
    },
    {
     "data": {
      "application/vnd.jupyter.widget-view+json": {
       "model_id": "7ab6387b8e8c4723acbcd3e5e0911c69",
       "version_major": 2,
       "version_minor": 0
      },
      "text/plain": [
       "Calculating Metrics:   0%|          | 0/4 [00:00<?, ?it/s]"
      ]
     },
     "metadata": {},
     "output_type": "display_data"
    },
    {
     "data": {
      "application/vnd.jupyter.widget-view+json": {
       "model_id": "def28da4dd744c21ab5f71f06c46b757",
       "version_major": 2,
       "version_minor": 0
      },
      "text/plain": [
       "Calculating Metrics:   0%|          | 0/4 [00:00<?, ?it/s]"
      ]
     },
     "metadata": {},
     "output_type": "display_data"
    },
    {
     "data": {
      "application/vnd.jupyter.widget-view+json": {
       "model_id": "ce83b163c0c1406bbfe77952fcf92621",
       "version_major": 2,
       "version_minor": 0
      },
      "text/plain": [
       "Calculating Metrics:   0%|          | 0/4 [00:00<?, ?it/s]"
      ]
     },
     "metadata": {},
     "output_type": "display_data"
    },
    {
     "data": {
      "application/vnd.jupyter.widget-view+json": {
       "model_id": "f29258437abe46f08f6899539b1e3a70",
       "version_major": 2,
       "version_minor": 0
      },
      "text/plain": [
       "Calculating Metrics:   0%|          | 0/4 [00:00<?, ?it/s]"
      ]
     },
     "metadata": {},
     "output_type": "display_data"
    },
    {
     "data": {
      "application/vnd.jupyter.widget-view+json": {
       "model_id": "9ced0053e7fc4bb48d626b6127fd5cb6",
       "version_major": 2,
       "version_minor": 0
      },
      "text/plain": [
       "Calculating Metrics:   0%|          | 0/11 [00:00<?, ?it/s]"
      ]
     },
     "metadata": {},
     "output_type": "display_data"
    },
    {
     "data": {
      "application/vnd.jupyter.widget-view+json": {
       "model_id": "176e88b3cca3453faf6adc644fdf5e80",
       "version_major": 2,
       "version_minor": 0
      },
      "text/plain": [
       "Calculating Metrics:   0%|          | 0/8 [00:00<?, ?it/s]"
      ]
     },
     "metadata": {},
     "output_type": "display_data"
    },
    {
     "data": {
      "application/vnd.jupyter.widget-view+json": {
       "model_id": "8af024683dbe45fc9ed1cc322d2f4c03",
       "version_major": 2,
       "version_minor": 0
      },
      "text/plain": [
       "Calculating Metrics:   0%|          | 0/8 [00:00<?, ?it/s]"
      ]
     },
     "metadata": {},
     "output_type": "display_data"
    },
    {
     "data": {
      "application/vnd.jupyter.widget-view+json": {
       "model_id": "f9e8502669e64f8c89fe686c9d5fc9a2",
       "version_major": 2,
       "version_minor": 0
      },
      "text/plain": [
       "Calculating Metrics:   0%|          | 0/8 [00:00<?, ?it/s]"
      ]
     },
     "metadata": {},
     "output_type": "display_data"
    },
    {
     "data": {
      "text/plain": [
       "{\n",
       "  \"success\": true,\n",
       "  \"result\": {\n",
       "    \"element_count\": 1482535,\n",
       "    \"unexpected_count\": 0,\n",
       "    \"unexpected_percent\": 0.0,\n",
       "    \"partial_unexpected_list\": [],\n",
       "    \"missing_count\": 6327,\n",
       "    \"missing_percent\": 0.42676901388500105,\n",
       "    \"unexpected_percent_total\": 0.0,\n",
       "    \"unexpected_percent_nonmissing\": 0.0\n",
       "  },\n",
       "  \"meta\": {},\n",
       "  \"exception_info\": {\n",
       "    \"raised_exception\": false,\n",
       "    \"exception_traceback\": null,\n",
       "    \"exception_message\": null\n",
       "  }\n",
       "}"
      ]
     },
     "execution_count": 9,
     "metadata": {},
     "output_type": "execute_result"
    }
   ],
   "source": [
    "# column should exist\n",
    "validator.expect_column_to_exist(\"name\")\n",
    "validator.expect_column_to_exist(\"price\")\n",
    "validator.expect_column_to_exist(\"item_condition_id\")\n",
    "validator.expect_column_to_exist(\"category_name\")\n",
    "validator.expect_column_to_exist(\"brand_name\")\n",
    "validator.expect_column_to_exist(\"shipping\")\n",
    "validator.expect_column_to_exist(\"item_description\")\n",
    "\n",
    "# not null expectations\n",
    "validator.expect_column_values_to_not_be_null(\"name\")\n",
    "validator.expect_column_values_to_not_be_null(\"price\")\n",
    "validator.expect_column_values_to_not_be_null(\"item_condition_id\")\n",
    "validator.expect_column_values_to_not_be_null(\"shipping\")\n",
    "validator.expect_column_values_to_not_be_null(\"item_description\", mostly=0.95)\n",
    "validator.expect_column_values_to_not_be_null(\"category_name\", mostly=.95)\n",
    "validator.expect_column_values_to_not_be_null(\"brand_name\", mostly=0.5)\n",
    "\n",
    "# value expectations\n",
    "# validator.expect_column_values_to_be_between(\n",
    "#     \"price\", min_value=0, max_value=2000)\n",
    "\n",
    "validator.expect_column_max_to_be_between(\n",
    "    \"price\", min_value=1000, max_value=2500)\n",
    "\n",
    "validator.expect_column_distinct_values_to_be_in_set(\n",
    "        \"shipping\",\n",
    "        [0,1])\n",
    "\n",
    "validator.expect_column_distinct_values_to_be_in_set(\n",
    "        \"item_condition_id\",\n",
    "        [1,2,3,4,5])\n",
    "\n",
    "#  distribution expectations\n",
    "validator.expect_column_stdev_to_be_between(\n",
    "'price', min_value=30, max_value=50)\n",
    "\n",
    "validator.expect_column_mean_to_be_between(\n",
    "'price', min_value=20, max_value=30)\n",
    "\n",
    "validator.expect_column_value_z_scores_to_be_less_than(\n",
    "'price', threshold=3, mostly=.9, double_sided=False)\n",
    "\n",
    "# regex expectations\n",
    "# should not be urls\n",
    "validator.expect_column_values_to_not_match_regex(\n",
    "'name', regex='https?:\\/\\/.*[\\r\\n]*')\n",
    "\n",
    "validator.expect_column_values_to_not_match_regex(\n",
    "'brand_name', regex='https?:\\/\\/.*[\\r\\n]*')\n",
    "\n",
    "validator.expect_column_values_to_not_match_regex(\n",
    "'category_name', regex='https?:\\/\\/.*[\\r\\n]*')"
   ]
  },
  {
   "cell_type": "markdown",
   "id": "c666969a",
   "metadata": {},
   "source": [
    "Let's run the data assistant "
   ]
  },
  {
   "cell_type": "code",
   "execution_count": 10,
   "id": "169f7498",
   "metadata": {},
   "outputs": [],
   "source": [
    "# exclude_cols_names=['train_id']"
   ]
  },
  {
   "cell_type": "code",
   "execution_count": 11,
   "id": "a1d5bbac",
   "metadata": {},
   "outputs": [],
   "source": [
    "# data_assistant_result = context.assistants.missingness.run(\n",
    "#     validator=validator,\n",
    "#     exclude_column_names=exclude_cols_names,\n",
    "# )"
   ]
  },
  {
   "cell_type": "markdown",
   "id": "5c863e0f",
   "metadata": {},
   "source": [
    "Save expectations"
   ]
  },
  {
   "cell_type": "code",
   "execution_count": 12,
   "id": "484888d5",
   "metadata": {},
   "outputs": [],
   "source": [
    "# validator.expectation_suite= data_assistant_result.get_expectation_suite(\n",
    "#     expectation_suite_name='mercari_first_expectation_suite'\n",
    "# )\n",
    "validator.save_expectation_suite(discard_failed_expectations=False)"
   ]
  },
  {
   "cell_type": "code",
   "execution_count": 13,
   "id": "8b4c1f0e",
   "metadata": {},
   "outputs": [],
   "source": [
    "checkpoint = context.add_or_update_checkpoint(\n",
    "    name=\"checkpoint_v4\",\n",
    "    validator=validator,\n",
    ")"
   ]
  },
  {
   "cell_type": "markdown",
   "id": "a0e0371b",
   "metadata": {},
   "source": [
    "Run expectations"
   ]
  },
  {
   "cell_type": "code",
   "execution_count": 14,
   "id": "ccec229b",
   "metadata": {},
   "outputs": [
    {
     "data": {
      "application/vnd.jupyter.widget-view+json": {
       "model_id": "5ccc0ce516204236b4fe99f7ae6da643",
       "version_major": 2,
       "version_minor": 0
      },
      "text/plain": [
       "Calculating Metrics:   0%|          | 0/64 [00:00<?, ?it/s]"
      ]
     },
     "metadata": {},
     "output_type": "display_data"
    }
   ],
   "source": [
    "checkpoint_result = checkpoint.run()"
   ]
  },
  {
   "cell_type": "code",
   "execution_count": 15,
   "id": "f5615c1e",
   "metadata": {},
   "outputs": [],
   "source": [
    "# assert checkpoint_result[\"success\"] is True"
   ]
  },
  {
   "cell_type": "markdown",
   "id": "d594b4b8",
   "metadata": {},
   "source": [
    "View results "
   ]
  },
  {
   "cell_type": "code",
   "execution_count": 16,
   "id": "4fcb89a2",
   "metadata": {},
   "outputs": [],
   "source": [
    "# data_assistant_result.show_expectations_by_expectation_type()"
   ]
  },
  {
   "cell_type": "markdown",
   "id": "c7ffc6c5",
   "metadata": {},
   "source": [
    "Let's view the data doc"
   ]
  },
  {
   "cell_type": "code",
   "execution_count": 17,
   "id": "8d298f84",
   "metadata": {},
   "outputs": [],
   "source": [
    "context.view_validation_result(checkpoint_result)"
   ]
  },
  {
   "cell_type": "markdown",
   "id": "4febd8d7",
   "metadata": {},
   "source": [
    "## Pandera:"
   ]
  },
  {
   "cell_type": "code",
   "execution_count": null,
   "id": "733d8034",
   "metadata": {},
   "outputs": [],
   "source": []
  }
 ],
 "metadata": {
  "kernelspec": {
   "display_name": "my-python3-kernel",
   "language": "python",
   "name": "my-python3-kernel"
  },
  "language_info": {
   "codemirror_mode": {
    "name": "ipython",
    "version": 3
   },
   "file_extension": ".py",
   "mimetype": "text/x-python",
   "name": "python",
   "nbconvert_exporter": "python",
   "pygments_lexer": "ipython3",
   "version": "3.9.18"
  },
  "vscode": {
   "interpreter": {
    "hash": "03646948cc1eca1aab1a6d754d674736dcb5138b87307cb760ddb3b102c41299"
   }
  }
 },
 "nbformat": 4,
 "nbformat_minor": 5
}
