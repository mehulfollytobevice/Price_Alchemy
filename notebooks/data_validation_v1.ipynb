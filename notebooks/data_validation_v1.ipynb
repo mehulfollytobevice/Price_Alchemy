{
 "cells": [
  {
   "cell_type": "markdown",
   "id": "490fc631",
   "metadata": {},
   "source": [
    "## Data validation:\n",
    "This notebook contains the code for performing data validation on the Mercari Dataset. The ideal choice for performing data validation in python is using `tensorflow data validation`. Since, it is not compatible with our python environment, we can use the following packages as alternatives:\n",
    "- great expectations\n",
    "- pandas-profiling\n",
    "- pydantic"
   ]
  },
  {
   "cell_type": "code",
   "execution_count": 67,
   "id": "1de37643",
   "metadata": {},
   "outputs": [],
   "source": [
    "# import essentials\n",
    "import numpy\n",
    "import pandas as pd\n",
    "import pandera as pa\n",
    "import matplotlib.pyplot as plt\n",
    "import great_expectations as gx\n",
    "from great_expectations.checkpoint import Checkpoint\n",
    "%matplotlib inline"
   ]
  },
  {
   "cell_type": "code",
   "execution_count": 68,
   "id": "e35834fd",
   "metadata": {},
   "outputs": [
    {
     "name": "stdout",
     "output_type": "stream",
     "text": [
      "/Users/mehuljain/Documents/course_related\n"
     ]
    }
   ],
   "source": [
    "cd .."
   ]
  },
  {
   "cell_type": "markdown",
   "id": "15d575b5",
   "metadata": {},
   "source": [
    "## Great expectations:"
   ]
  },
  {
   "cell_type": "code",
   "execution_count": 69,
   "id": "8afe7100",
   "metadata": {},
   "outputs": [],
   "source": [
    "CTX_ROOT='./data/great_expectations'\n",
    "CSV_PATH='./data/Mercari Price Suggestion Challenge/train.csv'"
   ]
  },
  {
   "cell_type": "markdown",
   "id": "0fb16c8d",
   "metadata": {},
   "source": [
    "Create data context"
   ]
  },
  {
   "cell_type": "code",
   "execution_count": 70,
   "id": "db1ae0f4",
   "metadata": {},
   "outputs": [],
   "source": [
    "context=gx.get_context(context_root_dir=CTX_ROOT)"
   ]
  },
  {
   "cell_type": "code",
   "execution_count": 71,
   "id": "85bc0c92",
   "metadata": {},
   "outputs": [],
   "source": [
    "# add data sources\n",
    "DS_NAME='train_file'\n",
    "datasource=context.sources.add_pandas(DS_NAME)\n",
    "\n",
    "# adding csv asset\n",
    "asset_name='mercari_training'\n",
    "asset= datasource.add_csv_asset(asset_name, filepath_or_buffer=CSV_PATH)\n",
    "\n",
    "# build batch request\n",
    "batch_request= asset.build_batch_request()"
   ]
  },
  {
   "cell_type": "markdown",
   "id": "a9b14de6",
   "metadata": {},
   "source": [
    "Add expectation suite"
   ]
  },
  {
   "cell_type": "code",
   "execution_count": 72,
   "id": "d41d744a",
   "metadata": {},
   "outputs": [
    {
     "data": {
      "text/plain": [
       "{\n",
       "  \"expectation_suite_name\": \"mercari_first_expectation_suite\",\n",
       "  \"ge_cloud_id\": null,\n",
       "  \"expectations\": [],\n",
       "  \"data_asset_type\": null,\n",
       "  \"meta\": {\n",
       "    \"great_expectations_version\": \"0.18.10\"\n",
       "  }\n",
       "}"
      ]
     },
     "execution_count": 72,
     "metadata": {},
     "output_type": "execute_result"
    }
   ],
   "source": [
    "context.add_or_update_expectation_suite('mercari_first_expectation_suite')"
   ]
  },
  {
   "cell_type": "code",
   "execution_count": 73,
   "id": "851ed5e7",
   "metadata": {},
   "outputs": [
    {
     "ename": "FileNotFoundError",
     "evalue": "[Errno 2] No such file or directory: './data/Mercari Price Suggestion Challenge/train.csv'",
     "output_type": "error",
     "traceback": [
      "\u001b[0;31m---------------------------------------------------------------------------\u001b[0m",
      "\u001b[0;31mFileNotFoundError\u001b[0m                         Traceback (most recent call last)",
      "Cell \u001b[0;32mIn[73], line 1\u001b[0m\n\u001b[0;32m----> 1\u001b[0m validator \u001b[39m=\u001b[39m context\u001b[39m.\u001b[39;49mget_validator(\n\u001b[1;32m      2\u001b[0m     batch_request\u001b[39m=\u001b[39;49mbatch_request,\n\u001b[1;32m      3\u001b[0m     expectation_suite_name\u001b[39m=\u001b[39;49m\u001b[39m'\u001b[39;49m\u001b[39mmercari_first_expectation_suite\u001b[39;49m\u001b[39m'\u001b[39;49m,\n\u001b[1;32m      4\u001b[0m )\n",
      "File \u001b[0;32m~/miniconda3/envs/mlops_project/lib/python3.9/site-packages/great_expectations/data_context/data_context/abstract_data_context.py:2374\u001b[0m, in \u001b[0;36mAbstractDataContext.get_validator\u001b[0;34m(***failed resolving arguments***)\u001b[0m\n\u001b[1;32m   2370\u001b[0m         batch_request_list \u001b[39m=\u001b[39m [batch_request]  \u001b[39m# type: ignore[list-item]\u001b[39;00m\n\u001b[1;32m   2372\u001b[0m     \u001b[39mfor\u001b[39;00m batch_request \u001b[39min\u001b[39;00m batch_request_list:\n\u001b[1;32m   2373\u001b[0m         batch_list\u001b[39m.\u001b[39mextend(\n\u001b[0;32m-> 2374\u001b[0m             \u001b[39mself\u001b[39;49m\u001b[39m.\u001b[39;49mget_batch_list(\n\u001b[1;32m   2375\u001b[0m                 datasource_name\u001b[39m=\u001b[39;49mdatasource_name,\n\u001b[1;32m   2376\u001b[0m                 data_connector_name\u001b[39m=\u001b[39;49mdata_connector_name,\n\u001b[1;32m   2377\u001b[0m                 data_asset_name\u001b[39m=\u001b[39;49mdata_asset_name,\n\u001b[1;32m   2378\u001b[0m                 batch_request\u001b[39m=\u001b[39;49mbatch_request,\n\u001b[1;32m   2379\u001b[0m                 batch_data\u001b[39m=\u001b[39;49mbatch_data,\n\u001b[1;32m   2380\u001b[0m                 data_connector_query\u001b[39m=\u001b[39;49mdata_connector_query,\n\u001b[1;32m   2381\u001b[0m                 batch_identifiers\u001b[39m=\u001b[39;49mbatch_identifiers,\n\u001b[1;32m   2382\u001b[0m                 limit\u001b[39m=\u001b[39;49mlimit,\n\u001b[1;32m   2383\u001b[0m                 index\u001b[39m=\u001b[39;49mindex,\n\u001b[1;32m   2384\u001b[0m                 custom_filter_function\u001b[39m=\u001b[39;49mcustom_filter_function,\n\u001b[1;32m   2385\u001b[0m                 sampling_method\u001b[39m=\u001b[39;49msampling_method,\n\u001b[1;32m   2386\u001b[0m                 sampling_kwargs\u001b[39m=\u001b[39;49msampling_kwargs,\n\u001b[1;32m   2387\u001b[0m                 splitter_method\u001b[39m=\u001b[39;49msplitter_method,\n\u001b[1;32m   2388\u001b[0m                 splitter_kwargs\u001b[39m=\u001b[39;49msplitter_kwargs,\n\u001b[1;32m   2389\u001b[0m                 runtime_parameters\u001b[39m=\u001b[39;49mruntime_parameters,\n\u001b[1;32m   2390\u001b[0m                 query\u001b[39m=\u001b[39;49mquery,\n\u001b[1;32m   2391\u001b[0m                 path\u001b[39m=\u001b[39;49mpath,\n\u001b[1;32m   2392\u001b[0m                 batch_filter_parameters\u001b[39m=\u001b[39;49mbatch_filter_parameters,\n\u001b[1;32m   2393\u001b[0m                 batch_spec_passthrough\u001b[39m=\u001b[39;49mbatch_spec_passthrough,\n\u001b[1;32m   2394\u001b[0m                 \u001b[39m*\u001b[39;49m\u001b[39m*\u001b[39;49mkwargs,\n\u001b[1;32m   2395\u001b[0m             )\n\u001b[1;32m   2396\u001b[0m         )\n\u001b[1;32m   2398\u001b[0m \u001b[39mreturn\u001b[39;00m \u001b[39mself\u001b[39m\u001b[39m.\u001b[39mget_validator_using_batch_list(\n\u001b[1;32m   2399\u001b[0m     expectation_suite\u001b[39m=\u001b[39mexpectation_suite,  \u001b[39m# type: ignore[arg-type]\u001b[39;00m\n\u001b[1;32m   2400\u001b[0m     batch_list\u001b[39m=\u001b[39mbatch_list,\n\u001b[1;32m   2401\u001b[0m     include_rendered_content\u001b[39m=\u001b[39minclude_rendered_content,\n\u001b[1;32m   2402\u001b[0m )\n",
      "File \u001b[0;32m~/miniconda3/envs/mlops_project/lib/python3.9/site-packages/great_expectations/core/usage_statistics/usage_statistics.py:266\u001b[0m, in \u001b[0;36musage_statistics_enabled_method.<locals>.usage_statistics_wrapped_method\u001b[0;34m(*args, **kwargs)\u001b[0m\n\u001b[1;32m    263\u001b[0m         args_payload \u001b[39m=\u001b[39m args_payload_fn(\u001b[39m*\u001b[39margs, \u001b[39m*\u001b[39m\u001b[39m*\u001b[39mkwargs) \u001b[39mor\u001b[39;00m {}\n\u001b[1;32m    264\u001b[0m         nested_update(event_payload, args_payload)\n\u001b[0;32m--> 266\u001b[0m     result \u001b[39m=\u001b[39m func(\u001b[39m*\u001b[39;49margs, \u001b[39m*\u001b[39;49m\u001b[39m*\u001b[39;49mkwargs)\n\u001b[1;32m    267\u001b[0m     message[\u001b[39m\"\u001b[39m\u001b[39msuccess\u001b[39m\u001b[39m\"\u001b[39m] \u001b[39m=\u001b[39m \u001b[39mTrue\u001b[39;00m\n\u001b[1;32m    268\u001b[0m \u001b[39mexcept\u001b[39;00m \u001b[39mException\u001b[39;00m:\n",
      "File \u001b[0;32m~/miniconda3/envs/mlops_project/lib/python3.9/site-packages/great_expectations/data_context/data_context/abstract_data_context.py:2543\u001b[0m, in \u001b[0;36mAbstractDataContext.get_batch_list\u001b[0;34m(self, datasource_name, data_connector_name, data_asset_name, batch_request, batch_data, data_connector_query, batch_identifiers, limit, index, custom_filter_function, sampling_method, sampling_kwargs, splitter_method, splitter_kwargs, runtime_parameters, query, path, batch_filter_parameters, batch_spec_passthrough, batch_request_options, **kwargs)\u001b[0m\n\u001b[1;32m   2465\u001b[0m \u001b[39m@public_api\u001b[39m\n\u001b[1;32m   2466\u001b[0m \u001b[39m@usage_statistics_enabled_method\u001b[39m(\n\u001b[1;32m   2467\u001b[0m     event_name\u001b[39m=\u001b[39mUsageStatsEvents\u001b[39m.\u001b[39mDATA_CONTEXT_GET_BATCH_LIST,\n\u001b[0;32m   (...)\u001b[0m\n\u001b[1;32m   2492\u001b[0m     \u001b[39m*\u001b[39m\u001b[39m*\u001b[39mkwargs: Optional[\u001b[39mdict\u001b[39m],\n\u001b[1;32m   2493\u001b[0m ) \u001b[39m-\u001b[39m\u001b[39m>\u001b[39m List[Batch]:\n\u001b[1;32m   2494\u001b[0m \u001b[39m    \u001b[39m\u001b[39m\"\"\"Get the list of zero or more batches, based on a variety of flexible input types.\u001b[39;00m\n\u001b[1;32m   2495\u001b[0m \n\u001b[1;32m   2496\u001b[0m \u001b[39m    `get_batch_list` is the main user-facing API for getting batches.\u001b[39;00m\n\u001b[0;32m   (...)\u001b[0m\n\u001b[1;32m   2541\u001b[0m \n\u001b[1;32m   2542\u001b[0m \u001b[39m    \"\"\"\u001b[39;00m\n\u001b[0;32m-> 2543\u001b[0m     \u001b[39mreturn\u001b[39;00m \u001b[39mself\u001b[39;49m\u001b[39m.\u001b[39;49m_get_batch_list(\n\u001b[1;32m   2544\u001b[0m         datasource_name\u001b[39m=\u001b[39;49mdatasource_name,\n\u001b[1;32m   2545\u001b[0m         data_connector_name\u001b[39m=\u001b[39;49mdata_connector_name,\n\u001b[1;32m   2546\u001b[0m         data_asset_name\u001b[39m=\u001b[39;49mdata_asset_name,\n\u001b[1;32m   2547\u001b[0m         batch_request\u001b[39m=\u001b[39;49mbatch_request,\n\u001b[1;32m   2548\u001b[0m         batch_data\u001b[39m=\u001b[39;49mbatch_data,\n\u001b[1;32m   2549\u001b[0m         data_connector_query\u001b[39m=\u001b[39;49mdata_connector_query,\n\u001b[1;32m   2550\u001b[0m         batch_identifiers\u001b[39m=\u001b[39;49mbatch_identifiers,\n\u001b[1;32m   2551\u001b[0m         limit\u001b[39m=\u001b[39;49mlimit,\n\u001b[1;32m   2552\u001b[0m         index\u001b[39m=\u001b[39;49mindex,\n\u001b[1;32m   2553\u001b[0m         custom_filter_function\u001b[39m=\u001b[39;49mcustom_filter_function,\n\u001b[1;32m   2554\u001b[0m         sampling_method\u001b[39m=\u001b[39;49msampling_method,\n\u001b[1;32m   2555\u001b[0m         sampling_kwargs\u001b[39m=\u001b[39;49msampling_kwargs,\n\u001b[1;32m   2556\u001b[0m         splitter_method\u001b[39m=\u001b[39;49msplitter_method,\n\u001b[1;32m   2557\u001b[0m         splitter_kwargs\u001b[39m=\u001b[39;49msplitter_kwargs,\n\u001b[1;32m   2558\u001b[0m         runtime_parameters\u001b[39m=\u001b[39;49mruntime_parameters,\n\u001b[1;32m   2559\u001b[0m         query\u001b[39m=\u001b[39;49mquery,\n\u001b[1;32m   2560\u001b[0m         path\u001b[39m=\u001b[39;49mpath,\n\u001b[1;32m   2561\u001b[0m         batch_filter_parameters\u001b[39m=\u001b[39;49mbatch_filter_parameters,\n\u001b[1;32m   2562\u001b[0m         batch_spec_passthrough\u001b[39m=\u001b[39;49mbatch_spec_passthrough,\n\u001b[1;32m   2563\u001b[0m         batch_request_options\u001b[39m=\u001b[39;49mbatch_request_options,\n\u001b[1;32m   2564\u001b[0m         \u001b[39m*\u001b[39;49m\u001b[39m*\u001b[39;49mkwargs,\n\u001b[1;32m   2565\u001b[0m     )\n",
      "File \u001b[0;32m~/miniconda3/envs/mlops_project/lib/python3.9/site-packages/great_expectations/data_context/data_context/abstract_data_context.py:2624\u001b[0m, in \u001b[0;36mAbstractDataContext._get_batch_list\u001b[0;34m(self, datasource_name, data_connector_name, data_asset_name, batch_request, batch_data, data_connector_query, batch_identifiers, limit, index, custom_filter_function, sampling_method, sampling_kwargs, splitter_method, splitter_kwargs, runtime_parameters, query, path, batch_filter_parameters, batch_spec_passthrough, batch_request_options, **kwargs)\u001b[0m\n\u001b[1;32m   2617\u001b[0m \u001b[39mif\u001b[39;00m \u001b[39mnot\u001b[39;00m datasource:\n\u001b[1;32m   2618\u001b[0m     \u001b[39mraise\u001b[39;00m gx_exceptions\u001b[39m.\u001b[39mDatasourceError(\n\u001b[1;32m   2619\u001b[0m         datasource_name,\n\u001b[1;32m   2620\u001b[0m         \u001b[39m\"\u001b[39m\u001b[39mThe given datasource could not be retrieved from the DataContext; \u001b[39m\u001b[39m\"\u001b[39m\n\u001b[1;32m   2621\u001b[0m         \u001b[39m\"\u001b[39m\u001b[39mplease confirm that your configuration is accurate.\u001b[39m\u001b[39m\"\u001b[39m,\n\u001b[1;32m   2622\u001b[0m     )\n\u001b[0;32m-> 2624\u001b[0m \u001b[39mreturn\u001b[39;00m datasource\u001b[39m.\u001b[39;49mget_batch_list_from_batch_request(batch_request\u001b[39m=\u001b[39;49mresult)\n",
      "File \u001b[0;32m~/miniconda3/envs/mlops_project/lib/python3.9/site-packages/great_expectations/datasource/fluent/interfaces.py:474\u001b[0m, in \u001b[0;36mDatasource.get_batch_list_from_batch_request\u001b[0;34m(self, batch_request)\u001b[0m\n\u001b[1;32m    464\u001b[0m \u001b[39m\u001b[39m\u001b[39m\"\"\"A list of batches that correspond to the BatchRequest.\u001b[39;00m\n\u001b[1;32m    465\u001b[0m \n\u001b[1;32m    466\u001b[0m \u001b[39mArgs:\u001b[39;00m\n\u001b[0;32m   (...)\u001b[0m\n\u001b[1;32m    471\u001b[0m \u001b[39m    A list of batches that match the options specified in the batch request.\u001b[39;00m\n\u001b[1;32m    472\u001b[0m \u001b[39m\"\"\"\u001b[39;00m\n\u001b[1;32m    473\u001b[0m data_asset \u001b[39m=\u001b[39m \u001b[39mself\u001b[39m\u001b[39m.\u001b[39mget_asset(batch_request\u001b[39m.\u001b[39mdata_asset_name)\n\u001b[0;32m--> 474\u001b[0m \u001b[39mreturn\u001b[39;00m data_asset\u001b[39m.\u001b[39;49mget_batch_list_from_batch_request(batch_request)\n",
      "File \u001b[0;32m~/miniconda3/envs/mlops_project/lib/python3.9/site-packages/great_expectations/datasource/fluent/pandas_datasource.py:135\u001b[0m, in \u001b[0;36m_PandasDataAsset.get_batch_list_from_batch_request\u001b[0;34m(self, batch_request)\u001b[0m\n\u001b[1;32m    125\u001b[0m batch_spec \u001b[39m=\u001b[39m PandasBatchSpec(\n\u001b[1;32m    126\u001b[0m     reader_method\u001b[39m=\u001b[39m\u001b[39mself\u001b[39m\u001b[39m.\u001b[39m_get_reader_method(),\n\u001b[1;32m    127\u001b[0m     reader_options\u001b[39m=\u001b[39m\u001b[39mself\u001b[39m\u001b[39m.\u001b[39mdict(\n\u001b[0;32m   (...)\u001b[0m\n\u001b[1;32m    132\u001b[0m     ),\n\u001b[1;32m    133\u001b[0m )\n\u001b[1;32m    134\u001b[0m execution_engine: PandasExecutionEngine \u001b[39m=\u001b[39m \u001b[39mself\u001b[39m\u001b[39m.\u001b[39mdatasource\u001b[39m.\u001b[39mget_execution_engine()\n\u001b[0;32m--> 135\u001b[0m data, markers \u001b[39m=\u001b[39m execution_engine\u001b[39m.\u001b[39;49mget_batch_data_and_markers(\n\u001b[1;32m    136\u001b[0m     batch_spec\u001b[39m=\u001b[39;49mbatch_spec\n\u001b[1;32m    137\u001b[0m )\n\u001b[1;32m    139\u001b[0m \u001b[39m# batch_definition (along with batch_spec and markers) is only here to satisfy a\u001b[39;00m\n\u001b[1;32m    140\u001b[0m \u001b[39m# legacy constraint when computing usage statistics in a validator. We hope to remove\u001b[39;00m\n\u001b[1;32m    141\u001b[0m \u001b[39m# it in the future.\u001b[39;00m\n\u001b[1;32m    142\u001b[0m \u001b[39m# imports are done inline to prevent a circular dependency with core/batch.py\u001b[39;00m\n\u001b[1;32m    143\u001b[0m \u001b[39mfrom\u001b[39;00m \u001b[39mgreat_expectations\u001b[39;00m\u001b[39m.\u001b[39;00m\u001b[39mcore\u001b[39;00m \u001b[39mimport\u001b[39;00m IDDict\n",
      "File \u001b[0;32m~/miniconda3/envs/mlops_project/lib/python3.9/site-packages/great_expectations/execution_engine/pandas_execution_engine.py:346\u001b[0m, in \u001b[0;36mPandasExecutionEngine.get_batch_data_and_markers\u001b[0;34m(self, batch_spec)\u001b[0m\n\u001b[1;32m    342\u001b[0m reader_options \u001b[39m=\u001b[39m batch_spec\u001b[39m.\u001b[39mreader_options\n\u001b[1;32m    343\u001b[0m reader_fn \u001b[39m=\u001b[39m \u001b[39mself\u001b[39m\u001b[39m.\u001b[39m_get_reader_fn(reader_method)\n\u001b[1;32m    344\u001b[0m reader_fn_result: pd\u001b[39m.\u001b[39mDataFrame \u001b[39m|\u001b[39m \u001b[39mlist\u001b[39m[\n\u001b[1;32m    345\u001b[0m     pd\u001b[39m.\u001b[39mDataFrame\n\u001b[0;32m--> 346\u001b[0m ] \u001b[39m=\u001b[39m execute_pandas_reader_fn(reader_fn, reader_options)\n\u001b[1;32m    347\u001b[0m \u001b[39mif\u001b[39;00m \u001b[39misinstance\u001b[39m(reader_fn_result, \u001b[39mlist\u001b[39m):\n\u001b[1;32m    348\u001b[0m     \u001b[39mif\u001b[39;00m \u001b[39mlen\u001b[39m(reader_fn_result) \u001b[39m>\u001b[39m \u001b[39m1\u001b[39m:\n",
      "File \u001b[0;32m~/miniconda3/envs/mlops_project/lib/python3.9/site-packages/great_expectations/compatibility/sqlalchemy_and_pandas.py:46\u001b[0m, in \u001b[0;36mexecute_pandas_reader_fn\u001b[0;34m(reader_fn, reader_options)\u001b[0m\n\u001b[1;32m     42\u001b[0m         reader_fn_result: pd\u001b[39m.\u001b[39mDataFrame \u001b[39m|\u001b[39m \u001b[39mlist\u001b[39m[pd\u001b[39m.\u001b[39mDataFrame] \u001b[39m=\u001b[39m reader_fn(\n\u001b[1;32m     43\u001b[0m             \u001b[39m*\u001b[39m\u001b[39m*\u001b[39mreader_options\n\u001b[1;32m     44\u001b[0m         )\n\u001b[1;32m     45\u001b[0m \u001b[39melse\u001b[39;00m:\n\u001b[0;32m---> 46\u001b[0m     reader_fn_result \u001b[39m=\u001b[39m reader_fn(\u001b[39m*\u001b[39;49m\u001b[39m*\u001b[39;49mreader_options)\n\u001b[1;32m     47\u001b[0m \u001b[39mreturn\u001b[39;00m reader_fn_result\n",
      "File \u001b[0;32m~/miniconda3/envs/mlops_project/lib/python3.9/site-packages/pandas/io/parsers/readers.py:1026\u001b[0m, in \u001b[0;36mread_csv\u001b[0;34m(filepath_or_buffer, sep, delimiter, header, names, index_col, usecols, dtype, engine, converters, true_values, false_values, skipinitialspace, skiprows, skipfooter, nrows, na_values, keep_default_na, na_filter, verbose, skip_blank_lines, parse_dates, infer_datetime_format, keep_date_col, date_parser, date_format, dayfirst, cache_dates, iterator, chunksize, compression, thousands, decimal, lineterminator, quotechar, quoting, doublequote, escapechar, comment, encoding, encoding_errors, dialect, on_bad_lines, delim_whitespace, low_memory, memory_map, float_precision, storage_options, dtype_backend)\u001b[0m\n\u001b[1;32m   1013\u001b[0m kwds_defaults \u001b[39m=\u001b[39m _refine_defaults_read(\n\u001b[1;32m   1014\u001b[0m     dialect,\n\u001b[1;32m   1015\u001b[0m     delimiter,\n\u001b[0;32m   (...)\u001b[0m\n\u001b[1;32m   1022\u001b[0m     dtype_backend\u001b[39m=\u001b[39mdtype_backend,\n\u001b[1;32m   1023\u001b[0m )\n\u001b[1;32m   1024\u001b[0m kwds\u001b[39m.\u001b[39mupdate(kwds_defaults)\n\u001b[0;32m-> 1026\u001b[0m \u001b[39mreturn\u001b[39;00m _read(filepath_or_buffer, kwds)\n",
      "File \u001b[0;32m~/miniconda3/envs/mlops_project/lib/python3.9/site-packages/pandas/io/parsers/readers.py:620\u001b[0m, in \u001b[0;36m_read\u001b[0;34m(filepath_or_buffer, kwds)\u001b[0m\n\u001b[1;32m    617\u001b[0m _validate_names(kwds\u001b[39m.\u001b[39mget(\u001b[39m\"\u001b[39m\u001b[39mnames\u001b[39m\u001b[39m\"\u001b[39m, \u001b[39mNone\u001b[39;00m))\n\u001b[1;32m    619\u001b[0m \u001b[39m# Create the parser.\u001b[39;00m\n\u001b[0;32m--> 620\u001b[0m parser \u001b[39m=\u001b[39m TextFileReader(filepath_or_buffer, \u001b[39m*\u001b[39;49m\u001b[39m*\u001b[39;49mkwds)\n\u001b[1;32m    622\u001b[0m \u001b[39mif\u001b[39;00m chunksize \u001b[39mor\u001b[39;00m iterator:\n\u001b[1;32m    623\u001b[0m     \u001b[39mreturn\u001b[39;00m parser\n",
      "File \u001b[0;32m~/miniconda3/envs/mlops_project/lib/python3.9/site-packages/pandas/io/parsers/readers.py:1620\u001b[0m, in \u001b[0;36mTextFileReader.__init__\u001b[0;34m(self, f, engine, **kwds)\u001b[0m\n\u001b[1;32m   1617\u001b[0m     \u001b[39mself\u001b[39m\u001b[39m.\u001b[39moptions[\u001b[39m\"\u001b[39m\u001b[39mhas_index_names\u001b[39m\u001b[39m\"\u001b[39m] \u001b[39m=\u001b[39m kwds[\u001b[39m\"\u001b[39m\u001b[39mhas_index_names\u001b[39m\u001b[39m\"\u001b[39m]\n\u001b[1;32m   1619\u001b[0m \u001b[39mself\u001b[39m\u001b[39m.\u001b[39mhandles: IOHandles \u001b[39m|\u001b[39m \u001b[39mNone\u001b[39;00m \u001b[39m=\u001b[39m \u001b[39mNone\u001b[39;00m\n\u001b[0;32m-> 1620\u001b[0m \u001b[39mself\u001b[39m\u001b[39m.\u001b[39m_engine \u001b[39m=\u001b[39m \u001b[39mself\u001b[39;49m\u001b[39m.\u001b[39;49m_make_engine(f, \u001b[39mself\u001b[39;49m\u001b[39m.\u001b[39;49mengine)\n",
      "File \u001b[0;32m~/miniconda3/envs/mlops_project/lib/python3.9/site-packages/pandas/io/parsers/readers.py:1880\u001b[0m, in \u001b[0;36mTextFileReader._make_engine\u001b[0;34m(self, f, engine)\u001b[0m\n\u001b[1;32m   1878\u001b[0m     \u001b[39mif\u001b[39;00m \u001b[39m\"\u001b[39m\u001b[39mb\u001b[39m\u001b[39m\"\u001b[39m \u001b[39mnot\u001b[39;00m \u001b[39min\u001b[39;00m mode:\n\u001b[1;32m   1879\u001b[0m         mode \u001b[39m+\u001b[39m\u001b[39m=\u001b[39m \u001b[39m\"\u001b[39m\u001b[39mb\u001b[39m\u001b[39m\"\u001b[39m\n\u001b[0;32m-> 1880\u001b[0m \u001b[39mself\u001b[39m\u001b[39m.\u001b[39mhandles \u001b[39m=\u001b[39m get_handle(\n\u001b[1;32m   1881\u001b[0m     f,\n\u001b[1;32m   1882\u001b[0m     mode,\n\u001b[1;32m   1883\u001b[0m     encoding\u001b[39m=\u001b[39;49m\u001b[39mself\u001b[39;49m\u001b[39m.\u001b[39;49moptions\u001b[39m.\u001b[39;49mget(\u001b[39m\"\u001b[39;49m\u001b[39mencoding\u001b[39;49m\u001b[39m\"\u001b[39;49m, \u001b[39mNone\u001b[39;49;00m),\n\u001b[1;32m   1884\u001b[0m     compression\u001b[39m=\u001b[39;49m\u001b[39mself\u001b[39;49m\u001b[39m.\u001b[39;49moptions\u001b[39m.\u001b[39;49mget(\u001b[39m\"\u001b[39;49m\u001b[39mcompression\u001b[39;49m\u001b[39m\"\u001b[39;49m, \u001b[39mNone\u001b[39;49;00m),\n\u001b[1;32m   1885\u001b[0m     memory_map\u001b[39m=\u001b[39;49m\u001b[39mself\u001b[39;49m\u001b[39m.\u001b[39;49moptions\u001b[39m.\u001b[39;49mget(\u001b[39m\"\u001b[39;49m\u001b[39mmemory_map\u001b[39;49m\u001b[39m\"\u001b[39;49m, \u001b[39mFalse\u001b[39;49;00m),\n\u001b[1;32m   1886\u001b[0m     is_text\u001b[39m=\u001b[39;49mis_text,\n\u001b[1;32m   1887\u001b[0m     errors\u001b[39m=\u001b[39;49m\u001b[39mself\u001b[39;49m\u001b[39m.\u001b[39;49moptions\u001b[39m.\u001b[39;49mget(\u001b[39m\"\u001b[39;49m\u001b[39mencoding_errors\u001b[39;49m\u001b[39m\"\u001b[39;49m, \u001b[39m\"\u001b[39;49m\u001b[39mstrict\u001b[39;49m\u001b[39m\"\u001b[39;49m),\n\u001b[1;32m   1888\u001b[0m     storage_options\u001b[39m=\u001b[39;49m\u001b[39mself\u001b[39;49m\u001b[39m.\u001b[39;49moptions\u001b[39m.\u001b[39;49mget(\u001b[39m\"\u001b[39;49m\u001b[39mstorage_options\u001b[39;49m\u001b[39m\"\u001b[39;49m, \u001b[39mNone\u001b[39;49;00m),\n\u001b[1;32m   1889\u001b[0m )\n\u001b[1;32m   1890\u001b[0m \u001b[39massert\u001b[39;00m \u001b[39mself\u001b[39m\u001b[39m.\u001b[39mhandles \u001b[39mis\u001b[39;00m \u001b[39mnot\u001b[39;00m \u001b[39mNone\u001b[39;00m\n\u001b[1;32m   1891\u001b[0m f \u001b[39m=\u001b[39m \u001b[39mself\u001b[39m\u001b[39m.\u001b[39mhandles\u001b[39m.\u001b[39mhandle\n",
      "File \u001b[0;32m~/miniconda3/envs/mlops_project/lib/python3.9/site-packages/pandas/io/common.py:873\u001b[0m, in \u001b[0;36mget_handle\u001b[0;34m(path_or_buf, mode, encoding, compression, memory_map, is_text, errors, storage_options)\u001b[0m\n\u001b[1;32m    868\u001b[0m \u001b[39melif\u001b[39;00m \u001b[39misinstance\u001b[39m(handle, \u001b[39mstr\u001b[39m):\n\u001b[1;32m    869\u001b[0m     \u001b[39m# Check whether the filename is to be opened in binary mode.\u001b[39;00m\n\u001b[1;32m    870\u001b[0m     \u001b[39m# Binary mode does not support 'encoding' and 'newline'.\u001b[39;00m\n\u001b[1;32m    871\u001b[0m     \u001b[39mif\u001b[39;00m ioargs\u001b[39m.\u001b[39mencoding \u001b[39mand\u001b[39;00m \u001b[39m\"\u001b[39m\u001b[39mb\u001b[39m\u001b[39m\"\u001b[39m \u001b[39mnot\u001b[39;00m \u001b[39min\u001b[39;00m ioargs\u001b[39m.\u001b[39mmode:\n\u001b[1;32m    872\u001b[0m         \u001b[39m# Encoding\u001b[39;00m\n\u001b[0;32m--> 873\u001b[0m         handle \u001b[39m=\u001b[39m \u001b[39mopen\u001b[39;49m(\n\u001b[1;32m    874\u001b[0m             handle,\n\u001b[1;32m    875\u001b[0m             ioargs\u001b[39m.\u001b[39;49mmode,\n\u001b[1;32m    876\u001b[0m             encoding\u001b[39m=\u001b[39;49mioargs\u001b[39m.\u001b[39;49mencoding,\n\u001b[1;32m    877\u001b[0m             errors\u001b[39m=\u001b[39;49merrors,\n\u001b[1;32m    878\u001b[0m             newline\u001b[39m=\u001b[39;49m\u001b[39m\"\u001b[39;49m\u001b[39m\"\u001b[39;49m,\n\u001b[1;32m    879\u001b[0m         )\n\u001b[1;32m    880\u001b[0m     \u001b[39melse\u001b[39;00m:\n\u001b[1;32m    881\u001b[0m         \u001b[39m# Binary mode\u001b[39;00m\n\u001b[1;32m    882\u001b[0m         handle \u001b[39m=\u001b[39m \u001b[39mopen\u001b[39m(handle, ioargs\u001b[39m.\u001b[39mmode)\n",
      "\u001b[0;31mFileNotFoundError\u001b[0m: [Errno 2] No such file or directory: './data/Mercari Price Suggestion Challenge/train.csv'"
     ]
    }
   ],
   "source": [
    "validator = context.get_validator(\n",
    "    batch_request=batch_request,\n",
    "    expectation_suite_name='mercari_first_expectation_suite',\n",
    ")"
   ]
  },
  {
   "cell_type": "markdown",
   "id": "11369e24",
   "metadata": {},
   "source": [
    "What does the data look like?"
   ]
  },
  {
   "cell_type": "code",
   "execution_count": null,
   "id": "75f724c3",
   "metadata": {},
   "outputs": [
    {
     "data": {
      "application/vnd.jupyter.widget-view+json": {
       "model_id": "81521620cb3242a1bc3d5bc4ab1f70c2",
       "version_major": 2,
       "version_minor": 0
      },
      "text/plain": [
       "Calculating Metrics:   0%|          | 0/1 [00:00<?, ?it/s]"
      ]
     },
     "metadata": {},
     "output_type": "display_data"
    },
    {
     "data": {
      "text/html": [
       "<div>\n",
       "<style scoped>\n",
       "    .dataframe tbody tr th:only-of-type {\n",
       "        vertical-align: middle;\n",
       "    }\n",
       "\n",
       "    .dataframe tbody tr th {\n",
       "        vertical-align: top;\n",
       "    }\n",
       "\n",
       "    .dataframe thead th {\n",
       "        text-align: right;\n",
       "    }\n",
       "</style>\n",
       "<table border=\"1\" class=\"dataframe\">\n",
       "  <thead>\n",
       "    <tr style=\"text-align: right;\">\n",
       "      <th></th>\n",
       "      <th>train_id</th>\n",
       "      <th>name</th>\n",
       "      <th>item_condition_id</th>\n",
       "      <th>category_name</th>\n",
       "      <th>brand_name</th>\n",
       "      <th>price</th>\n",
       "      <th>shipping</th>\n",
       "      <th>item_description</th>\n",
       "    </tr>\n",
       "  </thead>\n",
       "  <tbody>\n",
       "    <tr>\n",
       "      <th>0</th>\n",
       "      <td>0</td>\n",
       "      <td>MLB Cincinnati Reds T Shirt Size XL</td>\n",
       "      <td>3</td>\n",
       "      <td>Men/Tops/T-shirts</td>\n",
       "      <td>NaN</td>\n",
       "      <td>10.0</td>\n",
       "      <td>1</td>\n",
       "      <td>No description yet</td>\n",
       "    </tr>\n",
       "    <tr>\n",
       "      <th>1</th>\n",
       "      <td>1</td>\n",
       "      <td>Razer BlackWidow Chroma Keyboard</td>\n",
       "      <td>3</td>\n",
       "      <td>Electronics/Computers &amp; Tablets/Components &amp; P...</td>\n",
       "      <td>Razer</td>\n",
       "      <td>52.0</td>\n",
       "      <td>0</td>\n",
       "      <td>This keyboard is in great condition and works ...</td>\n",
       "    </tr>\n",
       "    <tr>\n",
       "      <th>2</th>\n",
       "      <td>2</td>\n",
       "      <td>AVA-VIV Blouse</td>\n",
       "      <td>1</td>\n",
       "      <td>Women/Tops &amp; Blouses/Blouse</td>\n",
       "      <td>Target</td>\n",
       "      <td>10.0</td>\n",
       "      <td>1</td>\n",
       "      <td>Adorable top with a hint of lace and a key hol...</td>\n",
       "    </tr>\n",
       "    <tr>\n",
       "      <th>3</th>\n",
       "      <td>3</td>\n",
       "      <td>Leather Horse Statues</td>\n",
       "      <td>1</td>\n",
       "      <td>Home/Home Décor/Home Décor Accents</td>\n",
       "      <td>NaN</td>\n",
       "      <td>35.0</td>\n",
       "      <td>1</td>\n",
       "      <td>New with tags. Leather horses. Retail for [rm]...</td>\n",
       "    </tr>\n",
       "    <tr>\n",
       "      <th>4</th>\n",
       "      <td>4</td>\n",
       "      <td>24K GOLD plated rose</td>\n",
       "      <td>1</td>\n",
       "      <td>Women/Jewelry/Necklaces</td>\n",
       "      <td>NaN</td>\n",
       "      <td>44.0</td>\n",
       "      <td>0</td>\n",
       "      <td>Complete with certificate of authenticity</td>\n",
       "    </tr>\n",
       "  </tbody>\n",
       "</table>\n",
       "</div>"
      ],
      "text/plain": [
       "   train_id                                 name  item_condition_id  \\\n",
       "0         0  MLB Cincinnati Reds T Shirt Size XL                  3   \n",
       "1         1     Razer BlackWidow Chroma Keyboard                  3   \n",
       "2         2                       AVA-VIV Blouse                  1   \n",
       "3         3                Leather Horse Statues                  1   \n",
       "4         4                 24K GOLD plated rose                  1   \n",
       "\n",
       "                                       category_name brand_name  price  \\\n",
       "0                                  Men/Tops/T-shirts        NaN   10.0   \n",
       "1  Electronics/Computers & Tablets/Components & P...      Razer   52.0   \n",
       "2                        Women/Tops & Blouses/Blouse     Target   10.0   \n",
       "3                 Home/Home Décor/Home Décor Accents        NaN   35.0   \n",
       "4                            Women/Jewelry/Necklaces        NaN   44.0   \n",
       "\n",
       "   shipping                                   item_description  \n",
       "0         1                                 No description yet  \n",
       "1         0  This keyboard is in great condition and works ...  \n",
       "2         1  Adorable top with a hint of lace and a key hol...  \n",
       "3         1  New with tags. Leather horses. Retail for [rm]...  \n",
       "4         0          Complete with certificate of authenticity  "
      ]
     },
     "execution_count": 9,
     "metadata": {},
     "output_type": "execute_result"
    }
   ],
   "source": [
    "validator.head()"
   ]
  },
  {
   "cell_type": "markdown",
   "id": "b02206e2",
   "metadata": {},
   "source": [
    "Let's create some expectations"
   ]
  },
  {
   "cell_type": "code",
   "execution_count": null,
   "id": "b4ff676f",
   "metadata": {},
   "outputs": [
    {
     "data": {
      "application/vnd.jupyter.widget-view+json": {
       "model_id": "d2184e5d3e4f4501853945ef50b93beb",
       "version_major": 2,
       "version_minor": 0
      },
      "text/plain": [
       "Calculating Metrics:   0%|          | 0/2 [00:00<?, ?it/s]"
      ]
     },
     "metadata": {},
     "output_type": "display_data"
    },
    {
     "data": {
      "application/vnd.jupyter.widget-view+json": {
       "model_id": "6fbc6dcbb32e4737a17d9a4978310fca",
       "version_major": 2,
       "version_minor": 0
      },
      "text/plain": [
       "Calculating Metrics:   0%|          | 0/2 [00:00<?, ?it/s]"
      ]
     },
     "metadata": {},
     "output_type": "display_data"
    },
    {
     "data": {
      "application/vnd.jupyter.widget-view+json": {
       "model_id": "7be5b500ce7240c6ba8e5d1d6543228d",
       "version_major": 2,
       "version_minor": 0
      },
      "text/plain": [
       "Calculating Metrics:   0%|          | 0/2 [00:00<?, ?it/s]"
      ]
     },
     "metadata": {},
     "output_type": "display_data"
    },
    {
     "data": {
      "application/vnd.jupyter.widget-view+json": {
       "model_id": "b90a882183894283adae89f3e817a788",
       "version_major": 2,
       "version_minor": 0
      },
      "text/plain": [
       "Calculating Metrics:   0%|          | 0/2 [00:00<?, ?it/s]"
      ]
     },
     "metadata": {},
     "output_type": "display_data"
    },
    {
     "data": {
      "application/vnd.jupyter.widget-view+json": {
       "model_id": "18dbc2ed701e4a338f06b8a1f48a47bc",
       "version_major": 2,
       "version_minor": 0
      },
      "text/plain": [
       "Calculating Metrics:   0%|          | 0/2 [00:00<?, ?it/s]"
      ]
     },
     "metadata": {},
     "output_type": "display_data"
    },
    {
     "data": {
      "application/vnd.jupyter.widget-view+json": {
       "model_id": "98ecfe0940334e698706f9f0c8051d60",
       "version_major": 2,
       "version_minor": 0
      },
      "text/plain": [
       "Calculating Metrics:   0%|          | 0/2 [00:00<?, ?it/s]"
      ]
     },
     "metadata": {},
     "output_type": "display_data"
    },
    {
     "data": {
      "application/vnd.jupyter.widget-view+json": {
       "model_id": "db12a17995c04f2786880642534a4333",
       "version_major": 2,
       "version_minor": 0
      },
      "text/plain": [
       "Calculating Metrics:   0%|          | 0/2 [00:00<?, ?it/s]"
      ]
     },
     "metadata": {},
     "output_type": "display_data"
    },
    {
     "data": {
      "application/vnd.jupyter.widget-view+json": {
       "model_id": "a07ca9f085d944788bd03897d88ce13b",
       "version_major": 2,
       "version_minor": 0
      },
      "text/plain": [
       "Calculating Metrics:   0%|          | 0/6 [00:00<?, ?it/s]"
      ]
     },
     "metadata": {},
     "output_type": "display_data"
    },
    {
     "data": {
      "application/vnd.jupyter.widget-view+json": {
       "model_id": "da94250bf5764d1585844223249a6866",
       "version_major": 2,
       "version_minor": 0
      },
      "text/plain": [
       "Calculating Metrics:   0%|          | 0/6 [00:00<?, ?it/s]"
      ]
     },
     "metadata": {},
     "output_type": "display_data"
    },
    {
     "data": {
      "application/vnd.jupyter.widget-view+json": {
       "model_id": "9bc1999f07b24a99b670212a16439108",
       "version_major": 2,
       "version_minor": 0
      },
      "text/plain": [
       "Calculating Metrics:   0%|          | 0/6 [00:00<?, ?it/s]"
      ]
     },
     "metadata": {},
     "output_type": "display_data"
    },
    {
     "data": {
      "application/vnd.jupyter.widget-view+json": {
       "model_id": "c8dbdf0150784d49b11a8fa989cee2f5",
       "version_major": 2,
       "version_minor": 0
      },
      "text/plain": [
       "Calculating Metrics:   0%|          | 0/6 [00:00<?, ?it/s]"
      ]
     },
     "metadata": {},
     "output_type": "display_data"
    },
    {
     "data": {
      "application/vnd.jupyter.widget-view+json": {
       "model_id": "33fb60c6e58f466183e8fae862caffbc",
       "version_major": 2,
       "version_minor": 0
      },
      "text/plain": [
       "Calculating Metrics:   0%|          | 0/6 [00:00<?, ?it/s]"
      ]
     },
     "metadata": {},
     "output_type": "display_data"
    },
    {
     "data": {
      "application/vnd.jupyter.widget-view+json": {
       "model_id": "911bc9c1e4e54c62b83734f1cfcf90ea",
       "version_major": 2,
       "version_minor": 0
      },
      "text/plain": [
       "Calculating Metrics:   0%|          | 0/6 [00:00<?, ?it/s]"
      ]
     },
     "metadata": {},
     "output_type": "display_data"
    },
    {
     "data": {
      "application/vnd.jupyter.widget-view+json": {
       "model_id": "8ea32b42c28f452683f9c77d0282c866",
       "version_major": 2,
       "version_minor": 0
      },
      "text/plain": [
       "Calculating Metrics:   0%|          | 0/6 [00:00<?, ?it/s]"
      ]
     },
     "metadata": {},
     "output_type": "display_data"
    },
    {
     "data": {
      "application/vnd.jupyter.widget-view+json": {
       "model_id": "326cb6c1248343d0944a3809b0b5033b",
       "version_major": 2,
       "version_minor": 0
      },
      "text/plain": [
       "Calculating Metrics:   0%|          | 0/4 [00:00<?, ?it/s]"
      ]
     },
     "metadata": {},
     "output_type": "display_data"
    },
    {
     "data": {
      "application/vnd.jupyter.widget-view+json": {
       "model_id": "953e5e20893a4335a362a7951579f4e4",
       "version_major": 2,
       "version_minor": 0
      },
      "text/plain": [
       "Calculating Metrics:   0%|          | 0/4 [00:00<?, ?it/s]"
      ]
     },
     "metadata": {},
     "output_type": "display_data"
    },
    {
     "data": {
      "application/vnd.jupyter.widget-view+json": {
       "model_id": "495812222a4f4aef9a68267076a26274",
       "version_major": 2,
       "version_minor": 0
      },
      "text/plain": [
       "Calculating Metrics:   0%|          | 0/4 [00:00<?, ?it/s]"
      ]
     },
     "metadata": {},
     "output_type": "display_data"
    },
    {
     "data": {
      "application/vnd.jupyter.widget-view+json": {
       "model_id": "8029a860781044b8b6795d68b27fae31",
       "version_major": 2,
       "version_minor": 0
      },
      "text/plain": [
       "Calculating Metrics:   0%|          | 0/4 [00:00<?, ?it/s]"
      ]
     },
     "metadata": {},
     "output_type": "display_data"
    },
    {
     "data": {
      "application/vnd.jupyter.widget-view+json": {
       "model_id": "6f8c1c4afc3b40e197d9163945e792ba",
       "version_major": 2,
       "version_minor": 0
      },
      "text/plain": [
       "Calculating Metrics:   0%|          | 0/4 [00:00<?, ?it/s]"
      ]
     },
     "metadata": {},
     "output_type": "display_data"
    },
    {
     "data": {
      "application/vnd.jupyter.widget-view+json": {
       "model_id": "6a99f5a1792b45c8bf23d882ca754c93",
       "version_major": 2,
       "version_minor": 0
      },
      "text/plain": [
       "Calculating Metrics:   0%|          | 0/11 [00:00<?, ?it/s]"
      ]
     },
     "metadata": {},
     "output_type": "display_data"
    },
    {
     "data": {
      "application/vnd.jupyter.widget-view+json": {
       "model_id": "8b13cd2b13ee4f529e273c6fc0ff5f7f",
       "version_major": 2,
       "version_minor": 0
      },
      "text/plain": [
       "Calculating Metrics:   0%|          | 0/8 [00:00<?, ?it/s]"
      ]
     },
     "metadata": {},
     "output_type": "display_data"
    },
    {
     "data": {
      "application/vnd.jupyter.widget-view+json": {
       "model_id": "56dd1e0010024cdca27727f81fec1e84",
       "version_major": 2,
       "version_minor": 0
      },
      "text/plain": [
       "Calculating Metrics:   0%|          | 0/8 [00:00<?, ?it/s]"
      ]
     },
     "metadata": {},
     "output_type": "display_data"
    },
    {
     "data": {
      "application/vnd.jupyter.widget-view+json": {
       "model_id": "346eb85e029b41b69ad1c91f05635c26",
       "version_major": 2,
       "version_minor": 0
      },
      "text/plain": [
       "Calculating Metrics:   0%|          | 0/8 [00:00<?, ?it/s]"
      ]
     },
     "metadata": {},
     "output_type": "display_data"
    },
    {
     "data": {
      "text/plain": [
       "{\n",
       "  \"success\": true,\n",
       "  \"result\": {\n",
       "    \"element_count\": 1482535,\n",
       "    \"unexpected_count\": 0,\n",
       "    \"unexpected_percent\": 0.0,\n",
       "    \"partial_unexpected_list\": [],\n",
       "    \"missing_count\": 6327,\n",
       "    \"missing_percent\": 0.42676901388500105,\n",
       "    \"unexpected_percent_total\": 0.0,\n",
       "    \"unexpected_percent_nonmissing\": 0.0\n",
       "  },\n",
       "  \"meta\": {},\n",
       "  \"exception_info\": {\n",
       "    \"raised_exception\": false,\n",
       "    \"exception_traceback\": null,\n",
       "    \"exception_message\": null\n",
       "  }\n",
       "}"
      ]
     },
     "execution_count": 10,
     "metadata": {},
     "output_type": "execute_result"
    }
   ],
   "source": [
    "# column should exist\n",
    "validator.expect_column_to_exist(\"name\")\n",
    "validator.expect_column_to_exist(\"price\")\n",
    "validator.expect_column_to_exist(\"item_condition_id\")\n",
    "validator.expect_column_to_exist(\"category_name\")\n",
    "validator.expect_column_to_exist(\"brand_name\")\n",
    "validator.expect_column_to_exist(\"shipping\")\n",
    "validator.expect_column_to_exist(\"item_description\")\n",
    "\n",
    "# not null expectations\n",
    "validator.expect_column_values_to_not_be_null(\"name\")\n",
    "validator.expect_column_values_to_not_be_null(\"price\")\n",
    "validator.expect_column_values_to_not_be_null(\"item_condition_id\")\n",
    "validator.expect_column_values_to_not_be_null(\"shipping\")\n",
    "validator.expect_column_values_to_not_be_null(\"item_description\", mostly=0.95)\n",
    "validator.expect_column_values_to_not_be_null(\"category_name\", mostly=.95)\n",
    "validator.expect_column_values_to_not_be_null(\"brand_name\", mostly=0.5)\n",
    "\n",
    "# value expectations\n",
    "# validator.expect_column_values_to_be_between(\n",
    "#     \"price\", min_value=0, max_value=2000)\n",
    "\n",
    "validator.expect_column_max_to_be_between(\n",
    "    \"price\", min_value=1000, max_value=2500)\n",
    "\n",
    "validator.expect_column_distinct_values_to_be_in_set(\n",
    "        \"shipping\",\n",
    "        [0,1])\n",
    "\n",
    "validator.expect_column_distinct_values_to_be_in_set(\n",
    "        \"item_condition_id\",\n",
    "        [1,2,3,4,5])\n",
    "\n",
    "#  distribution expectations\n",
    "validator.expect_column_stdev_to_be_between(\n",
    "'price', min_value=30, max_value=50)\n",
    "\n",
    "validator.expect_column_mean_to_be_between(\n",
    "'price', min_value=20, max_value=30)\n",
    "\n",
    "validator.expect_column_value_z_scores_to_be_less_than(\n",
    "'price', threshold=3, mostly=.9, double_sided=False)\n",
    "\n",
    "# regex expectations\n",
    "# should not be urls\n",
    "validator.expect_column_values_to_not_match_regex(\n",
    "'name', regex='https?:\\/\\/.*[\\r\\n]*')\n",
    "\n",
    "validator.expect_column_values_to_not_match_regex(\n",
    "'brand_name', regex='https?:\\/\\/.*[\\r\\n]*')\n",
    "\n",
    "validator.expect_column_values_to_not_match_regex(\n",
    "'category_name', regex='https?:\\/\\/.*[\\r\\n]*')"
   ]
  },
  {
   "cell_type": "markdown",
   "id": "c666969a",
   "metadata": {},
   "source": [
    "Let's run the data assistant "
   ]
  },
  {
   "cell_type": "code",
   "execution_count": null,
   "id": "169f7498",
   "metadata": {},
   "outputs": [],
   "source": [
    "# exclude_cols_names=['train_id']"
   ]
  },
  {
   "cell_type": "code",
   "execution_count": null,
   "id": "a1d5bbac",
   "metadata": {},
   "outputs": [],
   "source": [
    "# data_assistant_result = context.assistants.missingness.run(\n",
    "#     validator=validator,\n",
    "#     exclude_column_names=exclude_cols_names,\n",
    "# )"
   ]
  },
  {
   "cell_type": "markdown",
   "id": "5c863e0f",
   "metadata": {},
   "source": [
    "Save expectations"
   ]
  },
  {
   "cell_type": "code",
   "execution_count": null,
   "id": "484888d5",
   "metadata": {},
   "outputs": [],
   "source": [
    "# validator.expectation_suite= data_assistant_result.get_expectation_suite(\n",
    "#     expectation_suite_name='mercari_first_expectation_suite'\n",
    "# )\n",
    "validator.save_expectation_suite(discard_failed_expectations=False)"
   ]
  },
  {
   "cell_type": "code",
   "execution_count": null,
   "id": "8b4c1f0e",
   "metadata": {},
   "outputs": [],
   "source": [
    "checkpoint = context.add_or_update_checkpoint(\n",
    "    name=\"checkpoint_v4\",\n",
    "    validator=validator,\n",
    ")"
   ]
  },
  {
   "cell_type": "markdown",
   "id": "a0e0371b",
   "metadata": {},
   "source": [
    "Run expectations"
   ]
  },
  {
   "cell_type": "code",
   "execution_count": null,
   "id": "ccec229b",
   "metadata": {},
   "outputs": [
    {
     "data": {
      "application/vnd.jupyter.widget-view+json": {
       "model_id": "dbe1f0e0071c4502ad1eff12f84a4e0d",
       "version_major": 2,
       "version_minor": 0
      },
      "text/plain": [
       "Calculating Metrics:   0%|          | 0/64 [00:00<?, ?it/s]"
      ]
     },
     "metadata": {},
     "output_type": "display_data"
    }
   ],
   "source": [
    "checkpoint_result = checkpoint.run()"
   ]
  },
  {
   "cell_type": "code",
   "execution_count": null,
   "id": "f5615c1e",
   "metadata": {},
   "outputs": [],
   "source": [
    "# assert checkpoint_result[\"success\"] is True"
   ]
  },
  {
   "cell_type": "markdown",
   "id": "d594b4b8",
   "metadata": {},
   "source": [
    "View results "
   ]
  },
  {
   "cell_type": "code",
   "execution_count": null,
   "id": "4fcb89a2",
   "metadata": {},
   "outputs": [],
   "source": [
    "# data_assistant_result.show_expectations_by_expectation_type()"
   ]
  },
  {
   "cell_type": "markdown",
   "id": "c7ffc6c5",
   "metadata": {},
   "source": [
    "Let's view the data doc"
   ]
  },
  {
   "cell_type": "code",
   "execution_count": null,
   "id": "8d298f84",
   "metadata": {},
   "outputs": [],
   "source": [
    "context.view_validation_result(checkpoint_result)"
   ]
  },
  {
   "cell_type": "markdown",
   "id": "4febd8d7",
   "metadata": {},
   "source": [
    "## Pandera:"
   ]
  },
  {
   "cell_type": "markdown",
   "id": "3a49fa4d",
   "metadata": {},
   "source": [
    "Load dataframe"
   ]
  },
  {
   "cell_type": "code",
   "execution_count": null,
   "id": "733d8034",
   "metadata": {},
   "outputs": [],
   "source": [
    "df= pd.read_csv(CSV_PATH)"
   ]
  },
  {
   "cell_type": "code",
   "execution_count": 74,
   "id": "3cfef03a",
   "metadata": {},
   "outputs": [
    {
     "name": "stdout",
     "output_type": "stream",
     "text": [
      "<class 'pandas.core.frame.DataFrame'>\n",
      "RangeIndex: 1482535 entries, 0 to 1482534\n",
      "Data columns (total 8 columns):\n",
      " #   Column             Non-Null Count    Dtype  \n",
      "---  ------             --------------    -----  \n",
      " 0   train_id           1482535 non-null  int64  \n",
      " 1   name               1482535 non-null  object \n",
      " 2   item_condition_id  1482535 non-null  int64  \n",
      " 3   category_name      1476208 non-null  object \n",
      " 4   brand_name         849853 non-null   object \n",
      " 5   price              1482535 non-null  float64\n",
      " 6   shipping           1482535 non-null  int64  \n",
      " 7   item_description   1482529 non-null  object \n",
      "dtypes: float64(1), int64(3), object(4)\n",
      "memory usage: 90.5+ MB\n"
     ]
    }
   ],
   "source": [
    "df.info()"
   ]
  },
  {
   "cell_type": "markdown",
   "id": "57786cb8",
   "metadata": {},
   "source": [
    "Let's  use pandera to declare the schema of the dataframe"
   ]
  },
  {
   "cell_type": "code",
   "execution_count": 94,
   "id": "3a6ed3ff",
   "metadata": {},
   "outputs": [],
   "source": [
    "schema= pa.DataFrameSchema({\n",
    "    'train_id':pa.Column(int),\n",
    "    'name': pa.Column(str), \n",
    "    'item_condition_id': pa.Column(int, checks=pa.Check.isin([1,2,3,4,5])),\n",
    "    'category_name':pa.Column(str, nullable=True),\n",
    "    'brand_name':pa.Column(str, nullable=True),\n",
    "    'price':pa.Column(float, checks=pa.Check(lambda x: x>=0)), \n",
    "    'shipping':pa.Column(int, checks=pa.Check.isin([0,1])),\n",
    "    'item_description':pa.Column(str, nullable=True)\n",
    "}, \n",
    "unique=['train_id','name'])"
   ]
  },
  {
   "cell_type": "markdown",
   "id": "7de5aa6c",
   "metadata": {},
   "source": [
    "Validate the schema of the dataframe"
   ]
  },
  {
   "cell_type": "code",
   "execution_count": 95,
   "id": "0cc18d7b",
   "metadata": {},
   "outputs": [
    {
     "data": {
      "text/plain": [
       "True"
      ]
     },
     "execution_count": 95,
     "metadata": {},
     "output_type": "execute_result"
    }
   ],
   "source": [
    "try :\n",
    "    schema(df)\n",
    "    validated= True\n",
    "except:\n",
    "    validated= False\n",
    "\n",
    "validated"
   ]
  },
  {
   "cell_type": "code",
   "execution_count": 96,
   "id": "d76c5826",
   "metadata": {},
   "outputs": [
    {
     "name": "stdout",
     "output_type": "stream",
     "text": [
      "         train_id                                   name  item_condition_id  \\\n",
      "0               0    MLB Cincinnati Reds T Shirt Size XL                  3   \n",
      "1               1       Razer BlackWidow Chroma Keyboard                  3   \n",
      "2               2                         AVA-VIV Blouse                  1   \n",
      "3               3                  Leather Horse Statues                  1   \n",
      "4               4                   24K GOLD plated rose                  1   \n",
      "...           ...                                    ...                ...   \n",
      "1482530   1482530             Free People Inspired Dress                  2   \n",
      "1482531   1482531          Little mermaid handmade dress                  2   \n",
      "1482532   1482532  21 day fix containers and eating plan                  2   \n",
      "1482533   1482533                 World markets lanterns                  3   \n",
      "1482534   1482534          Brand new lux de ville wallet                  1   \n",
      "\n",
      "                                             category_name   brand_name  \\\n",
      "0                                        Men/Tops/T-shirts          NaN   \n",
      "1        Electronics/Computers & Tablets/Components & P...        Razer   \n",
      "2                              Women/Tops & Blouses/Blouse       Target   \n",
      "3                       Home/Home Décor/Home Décor Accents          NaN   \n",
      "4                                  Women/Jewelry/Necklaces          NaN   \n",
      "...                                                    ...          ...   \n",
      "1482530                             Women/Dresses/Mid-Calf  Free People   \n",
      "1482531                           Kids/Girls 2T-5T/Dresses       Disney   \n",
      "1482532     Sports & Outdoors/Exercise/Fitness accessories          NaN   \n",
      "1482533                 Home/Home Décor/Home Décor Accents          NaN   \n",
      "1482534                  Women/Women's Accessories/Wallets          NaN   \n",
      "\n",
      "         price  shipping                                   item_description  \n",
      "0         10.0         1                                 No description yet  \n",
      "1         52.0         0  This keyboard is in great condition and works ...  \n",
      "2         10.0         1  Adorable top with a hint of lace and a key hol...  \n",
      "3         35.0         1  New with tags. Leather horses. Retail for [rm]...  \n",
      "4         44.0         0          Complete with certificate of authenticity  \n",
      "...        ...       ...                                                ...  \n",
      "1482530   20.0         1  Lace, says size small but fits medium perfectl...  \n",
      "1482531   14.0         0   Little mermaid handmade dress never worn size 2t  \n",
      "1482532   12.0         0          Used once or twice, still in great shape.  \n",
      "1482533   45.0         1  There is 2 of each one that you see! So 2 red ...  \n",
      "1482534   22.0         0  New with tag, red with sparkle. Firm price, no...  \n",
      "\n",
      "[1482535 rows x 8 columns]\n"
     ]
    }
   ],
   "source": [
    "if validated:\n",
    "    print(schema(df))"
   ]
  }
 ],
 "metadata": {
  "kernelspec": {
   "display_name": "my-python3-kernel",
   "language": "python",
   "name": "my-python3-kernel"
  },
  "language_info": {
   "codemirror_mode": {
    "name": "ipython",
    "version": 3
   },
   "file_extension": ".py",
   "mimetype": "text/x-python",
   "name": "python",
   "nbconvert_exporter": "python",
   "pygments_lexer": "ipython3",
   "version": "3.9.18"
  },
  "vscode": {
   "interpreter": {
    "hash": "03646948cc1eca1aab1a6d754d674736dcb5138b87307cb760ddb3b102c41299"
   }
  }
 },
 "nbformat": 4,
 "nbformat_minor": 5
}
