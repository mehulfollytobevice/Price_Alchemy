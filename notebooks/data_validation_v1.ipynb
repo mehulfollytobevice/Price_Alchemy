{
 "cells": [
  {
   "cell_type": "markdown",
   "id": "490fc631",
   "metadata": {},
   "source": [
    "## Data validation:\n",
    "This notebook contains the code for performing data validation on the Mercari Dataset. The ideal choice for performing data validation in python is using `tensorflow data validation`. Since, it is not compatible with our python environment, we can use the following packages as alternatives:\n",
    "- great expectations\n",
    "- pandas-profiling\n",
    "- pydantic"
   ]
  },
  {
   "cell_type": "code",
   "execution_count": 1,
   "id": "1de37643",
   "metadata": {},
   "outputs": [],
   "source": [
    "# import essentials\n",
    "import numpy\n",
    "import pandas as pd\n",
    "import matplotlib.pyplot as plt\n",
    "import great_expectations as gx\n",
    "from great_expectations.checkpoint import Checkpoint\n",
    "%matplotlib inline"
   ]
  },
  {
   "cell_type": "code",
   "execution_count": 2,
   "id": "e35834fd",
   "metadata": {},
   "outputs": [
    {
     "name": "stdout",
     "output_type": "stream",
     "text": [
      "/Users/mehuljain/Documents/course_related/ML_Ops/project/Price_Alchemy\n"
     ]
    }
   ],
   "source": [
    "cd .."
   ]
  },
  {
   "cell_type": "markdown",
   "id": "15d575b5",
   "metadata": {},
   "source": [
    "## Great expectations:"
   ]
  },
  {
   "cell_type": "code",
   "execution_count": 3,
   "id": "8afe7100",
   "metadata": {},
   "outputs": [],
   "source": [
    "CTX_ROOT='./data/great_expectations'\n",
    "CSV_PATH='./data/Mercari Price Suggestion Challenge/train.csv'"
   ]
  },
  {
   "cell_type": "markdown",
   "id": "0fb16c8d",
   "metadata": {},
   "source": [
    "Create data context"
   ]
  },
  {
   "cell_type": "code",
   "execution_count": 4,
   "id": "db1ae0f4",
   "metadata": {},
   "outputs": [],
   "source": [
    "context=gx.get_context(context_root_dir=CTX_ROOT)"
   ]
  },
  {
   "cell_type": "code",
   "execution_count": 5,
   "id": "85bc0c92",
   "metadata": {},
   "outputs": [],
   "source": [
    "# add data sources\n",
    "DS_NAME='train_file'\n",
    "datasource=context.sources.add_pandas(DS_NAME)\n",
    "\n",
    "# adding csv asset\n",
    "asset_name='mercari_training'\n",
    "asset= datasource.add_csv_asset(asset_name, filepath_or_buffer=CSV_PATH)\n",
    "\n",
    "# build batch request\n",
    "batch_request= asset.build_batch_request()"
   ]
  },
  {
   "cell_type": "markdown",
   "id": "a9b14de6",
   "metadata": {},
   "source": [
    "Add expectation suite"
   ]
  },
  {
   "cell_type": "code",
   "execution_count": 6,
   "id": "d41d744a",
   "metadata": {},
   "outputs": [
    {
     "data": {
      "text/plain": [
       "{\n",
       "  \"expectation_suite_name\": \"mercari_first_expectation_suite\",\n",
       "  \"ge_cloud_id\": null,\n",
       "  \"expectations\": [],\n",
       "  \"data_asset_type\": null,\n",
       "  \"meta\": {\n",
       "    \"great_expectations_version\": \"0.18.10\"\n",
       "  }\n",
       "}"
      ]
     },
     "execution_count": 6,
     "metadata": {},
     "output_type": "execute_result"
    }
   ],
   "source": [
    "context.add_or_update_expectation_suite('mercari_first_expectation_suite')"
   ]
  },
  {
   "cell_type": "code",
   "execution_count": 7,
   "id": "851ed5e7",
   "metadata": {},
   "outputs": [],
   "source": [
    "validator = context.get_validator(\n",
    "    batch_request=batch_request,\n",
    "    expectation_suite_name='mercari_first_expectation_suite',\n",
    ")"
   ]
  },
  {
   "cell_type": "markdown",
   "id": "11369e24",
   "metadata": {},
   "source": [
    "What does the data look like?"
   ]
  },
  {
   "cell_type": "code",
   "execution_count": 8,
   "id": "75f724c3",
   "metadata": {},
   "outputs": [
    {
     "data": {
      "application/vnd.jupyter.widget-view+json": {
       "model_id": "b6a91c4deb1149dba0e93144e9c92950",
       "version_major": 2,
       "version_minor": 0
      },
      "text/plain": [
       "Calculating Metrics:   0%|          | 0/1 [00:00<?, ?it/s]"
      ]
     },
     "metadata": {},
     "output_type": "display_data"
    },
    {
     "data": {
      "text/html": [
       "<div>\n",
       "<style scoped>\n",
       "    .dataframe tbody tr th:only-of-type {\n",
       "        vertical-align: middle;\n",
       "    }\n",
       "\n",
       "    .dataframe tbody tr th {\n",
       "        vertical-align: top;\n",
       "    }\n",
       "\n",
       "    .dataframe thead th {\n",
       "        text-align: right;\n",
       "    }\n",
       "</style>\n",
       "<table border=\"1\" class=\"dataframe\">\n",
       "  <thead>\n",
       "    <tr style=\"text-align: right;\">\n",
       "      <th></th>\n",
       "      <th>train_id</th>\n",
       "      <th>name</th>\n",
       "      <th>item_condition_id</th>\n",
       "      <th>category_name</th>\n",
       "      <th>brand_name</th>\n",
       "      <th>price</th>\n",
       "      <th>shipping</th>\n",
       "      <th>item_description</th>\n",
       "    </tr>\n",
       "  </thead>\n",
       "  <tbody>\n",
       "    <tr>\n",
       "      <th>0</th>\n",
       "      <td>0</td>\n",
       "      <td>MLB Cincinnati Reds T Shirt Size XL</td>\n",
       "      <td>3</td>\n",
       "      <td>Men/Tops/T-shirts</td>\n",
       "      <td>NaN</td>\n",
       "      <td>10.0</td>\n",
       "      <td>1</td>\n",
       "      <td>No description yet</td>\n",
       "    </tr>\n",
       "    <tr>\n",
       "      <th>1</th>\n",
       "      <td>1</td>\n",
       "      <td>Razer BlackWidow Chroma Keyboard</td>\n",
       "      <td>3</td>\n",
       "      <td>Electronics/Computers &amp; Tablets/Components &amp; P...</td>\n",
       "      <td>Razer</td>\n",
       "      <td>52.0</td>\n",
       "      <td>0</td>\n",
       "      <td>This keyboard is in great condition and works ...</td>\n",
       "    </tr>\n",
       "    <tr>\n",
       "      <th>2</th>\n",
       "      <td>2</td>\n",
       "      <td>AVA-VIV Blouse</td>\n",
       "      <td>1</td>\n",
       "      <td>Women/Tops &amp; Blouses/Blouse</td>\n",
       "      <td>Target</td>\n",
       "      <td>10.0</td>\n",
       "      <td>1</td>\n",
       "      <td>Adorable top with a hint of lace and a key hol...</td>\n",
       "    </tr>\n",
       "    <tr>\n",
       "      <th>3</th>\n",
       "      <td>3</td>\n",
       "      <td>Leather Horse Statues</td>\n",
       "      <td>1</td>\n",
       "      <td>Home/Home Décor/Home Décor Accents</td>\n",
       "      <td>NaN</td>\n",
       "      <td>35.0</td>\n",
       "      <td>1</td>\n",
       "      <td>New with tags. Leather horses. Retail for [rm]...</td>\n",
       "    </tr>\n",
       "    <tr>\n",
       "      <th>4</th>\n",
       "      <td>4</td>\n",
       "      <td>24K GOLD plated rose</td>\n",
       "      <td>1</td>\n",
       "      <td>Women/Jewelry/Necklaces</td>\n",
       "      <td>NaN</td>\n",
       "      <td>44.0</td>\n",
       "      <td>0</td>\n",
       "      <td>Complete with certificate of authenticity</td>\n",
       "    </tr>\n",
       "  </tbody>\n",
       "</table>\n",
       "</div>"
      ],
      "text/plain": [
       "   train_id                                 name  item_condition_id  \\\n",
       "0         0  MLB Cincinnati Reds T Shirt Size XL                  3   \n",
       "1         1     Razer BlackWidow Chroma Keyboard                  3   \n",
       "2         2                       AVA-VIV Blouse                  1   \n",
       "3         3                Leather Horse Statues                  1   \n",
       "4         4                 24K GOLD plated rose                  1   \n",
       "\n",
       "                                       category_name brand_name  price  \\\n",
       "0                                  Men/Tops/T-shirts        NaN   10.0   \n",
       "1  Electronics/Computers & Tablets/Components & P...      Razer   52.0   \n",
       "2                        Women/Tops & Blouses/Blouse     Target   10.0   \n",
       "3                 Home/Home Décor/Home Décor Accents        NaN   35.0   \n",
       "4                            Women/Jewelry/Necklaces        NaN   44.0   \n",
       "\n",
       "   shipping                                   item_description  \n",
       "0         1                                 No description yet  \n",
       "1         0  This keyboard is in great condition and works ...  \n",
       "2         1  Adorable top with a hint of lace and a key hol...  \n",
       "3         1  New with tags. Leather horses. Retail for [rm]...  \n",
       "4         0          Complete with certificate of authenticity  "
      ]
     },
     "execution_count": 8,
     "metadata": {},
     "output_type": "execute_result"
    }
   ],
   "source": [
    "validator.head()"
   ]
  },
  {
   "cell_type": "markdown",
   "id": "b02206e2",
   "metadata": {},
   "source": [
    "Let's create some expectations"
   ]
  },
  {
   "cell_type": "code",
   "execution_count": 9,
   "id": "b4ff676f",
   "metadata": {},
   "outputs": [
    {
     "data": {
      "application/vnd.jupyter.widget-view+json": {
       "model_id": "19954da27fd34f088cc56cbe62e9f8d3",
       "version_major": 2,
       "version_minor": 0
      },
      "text/plain": [
       "Calculating Metrics:   0%|          | 0/6 [00:00<?, ?it/s]"
      ]
     },
     "metadata": {},
     "output_type": "display_data"
    },
    {
     "data": {
      "application/vnd.jupyter.widget-view+json": {
       "model_id": "f209025d32334ab8b5519977aab7b78b",
       "version_major": 2,
       "version_minor": 0
      },
      "text/plain": [
       "Calculating Metrics:   0%|          | 0/6 [00:00<?, ?it/s]"
      ]
     },
     "metadata": {},
     "output_type": "display_data"
    },
    {
     "data": {
      "text/plain": [
       "{\n",
       "  \"success\": true,\n",
       "  \"result\": {\n",
       "    \"element_count\": 1482535,\n",
       "    \"unexpected_count\": 0,\n",
       "    \"unexpected_percent\": 0.0,\n",
       "    \"partial_unexpected_list\": []\n",
       "  },\n",
       "  \"meta\": {},\n",
       "  \"exception_info\": {\n",
       "    \"raised_exception\": false,\n",
       "    \"exception_traceback\": null,\n",
       "    \"exception_message\": null\n",
       "  }\n",
       "}"
      ]
     },
     "execution_count": 9,
     "metadata": {},
     "output_type": "execute_result"
    }
   ],
   "source": [
    "# not null expectations\n",
    "validator.expect_column_values_to_not_be_null(\"name\")\n",
    "validator.expect_column_values_to_not_be_null(\"price\")"
   ]
  },
  {
   "cell_type": "markdown",
   "id": "c666969a",
   "metadata": {},
   "source": [
    "Let's run the data assistant "
   ]
  },
  {
   "cell_type": "code",
   "execution_count": 10,
   "id": "169f7498",
   "metadata": {},
   "outputs": [],
   "source": [
    "exclude_cols_names=['train_id']"
   ]
  },
  {
   "cell_type": "code",
   "execution_count": 11,
   "id": "a1d5bbac",
   "metadata": {},
   "outputs": [
    {
     "name": "stdout",
     "output_type": "stream",
     "text": [
      "\n"
     ]
    },
    {
     "data": {
      "application/vnd.jupyter.widget-view+json": {
       "model_id": "568b4b39fecc4183893bdb74f74097bb",
       "version_major": 2,
       "version_minor": 0
      },
      "text/plain": [
       "Generating Expectations:   0%|          | 0/1 [00:00<?, ?it/s]"
      ]
     },
     "metadata": {},
     "output_type": "display_data"
    },
    {
     "data": {
      "application/vnd.jupyter.widget-view+json": {
       "model_id": "5c29fc694e3c409c8e6d2031617055c2",
       "version_major": 2,
       "version_minor": 0
      },
      "text/plain": [
       "Calculating Metrics:   0%|          | 0/2 [00:00<?, ?it/s]"
      ]
     },
     "metadata": {},
     "output_type": "display_data"
    },
    {
     "data": {
      "application/vnd.jupyter.widget-view+json": {
       "model_id": "7fb524c0e53d4115bc58981a7349f878",
       "version_major": 2,
       "version_minor": 0
      },
      "text/plain": [
       "Calculating Metrics:   0%|          | 0/1 [00:00<?, ?it/s]"
      ]
     },
     "metadata": {},
     "output_type": "display_data"
    },
    {
     "data": {
      "application/vnd.jupyter.widget-view+json": {
       "model_id": "bcab1fe3da004ab2bf21faf2e3d45171",
       "version_major": 2,
       "version_minor": 0
      },
      "text/plain": [
       "Profiling Dataset:         0%|          | 0/7 [00:00<?, ?it/s]"
      ]
     },
     "metadata": {},
     "output_type": "display_data"
    },
    {
     "data": {
      "application/vnd.jupyter.widget-view+json": {
       "model_id": "303f1d12f51043ef879ea8e8c2fef39f",
       "version_major": 2,
       "version_minor": 0
      },
      "text/plain": [
       "Calculating Metrics:   0%|          | 0/5 [00:00<?, ?it/s]"
      ]
     },
     "metadata": {},
     "output_type": "display_data"
    },
    {
     "data": {
      "application/vnd.jupyter.widget-view+json": {
       "model_id": "d8f3272dedf44deb818dfa83e5928fa2",
       "version_major": 2,
       "version_minor": 0
      },
      "text/plain": [
       "Calculating Metrics:   0%|          | 0/1 [00:00<?, ?it/s]"
      ]
     },
     "metadata": {},
     "output_type": "display_data"
    },
    {
     "data": {
      "application/vnd.jupyter.widget-view+json": {
       "model_id": "99a3a0934b30429b906824b61bf0ae9f",
       "version_major": 2,
       "version_minor": 0
      },
      "text/plain": [
       "Calculating Metrics:   0%|          | 0/5 [00:00<?, ?it/s]"
      ]
     },
     "metadata": {},
     "output_type": "display_data"
    },
    {
     "data": {
      "application/vnd.jupyter.widget-view+json": {
       "model_id": "084b1dc8eb2547d0927bd64afd077e0e",
       "version_major": 2,
       "version_minor": 0
      },
      "text/plain": [
       "Calculating Metrics:   0%|          | 0/5 [00:00<?, ?it/s]"
      ]
     },
     "metadata": {},
     "output_type": "display_data"
    },
    {
     "data": {
      "application/vnd.jupyter.widget-view+json": {
       "model_id": "65b3363a88af4cf79210f3cd12be3070",
       "version_major": 2,
       "version_minor": 0
      },
      "text/plain": [
       "Calculating Metrics:   0%|          | 0/1 [00:00<?, ?it/s]"
      ]
     },
     "metadata": {},
     "output_type": "display_data"
    },
    {
     "data": {
      "application/vnd.jupyter.widget-view+json": {
       "model_id": "c9dc628df77e4391886706f703c912c0",
       "version_major": 2,
       "version_minor": 0
      },
      "text/plain": [
       "Calculating Metrics:   0%|          | 0/5 [00:00<?, ?it/s]"
      ]
     },
     "metadata": {},
     "output_type": "display_data"
    },
    {
     "data": {
      "application/vnd.jupyter.widget-view+json": {
       "model_id": "18feeb81d7ba40e6ad1b5688b43da73d",
       "version_major": 2,
       "version_minor": 0
      },
      "text/plain": [
       "Calculating Metrics:   0%|          | 0/5 [00:00<?, ?it/s]"
      ]
     },
     "metadata": {},
     "output_type": "display_data"
    },
    {
     "data": {
      "application/vnd.jupyter.widget-view+json": {
       "model_id": "03907ccd0fd14ebd99ae57ac138e7e7e",
       "version_major": 2,
       "version_minor": 0
      },
      "text/plain": [
       "Calculating Metrics:   0%|          | 0/1 [00:00<?, ?it/s]"
      ]
     },
     "metadata": {},
     "output_type": "display_data"
    },
    {
     "data": {
      "application/vnd.jupyter.widget-view+json": {
       "model_id": "b912285bee7a4c719f50728f7a72b73a",
       "version_major": 2,
       "version_minor": 0
      },
      "text/plain": [
       "Calculating Metrics:   0%|          | 0/5 [00:00<?, ?it/s]"
      ]
     },
     "metadata": {},
     "output_type": "display_data"
    },
    {
     "data": {
      "application/vnd.jupyter.widget-view+json": {
       "model_id": "239719ae4c764b1b8915994ff7c774c2",
       "version_major": 2,
       "version_minor": 0
      },
      "text/plain": [
       "Calculating Metrics:   0%|          | 0/5 [00:00<?, ?it/s]"
      ]
     },
     "metadata": {},
     "output_type": "display_data"
    },
    {
     "data": {
      "application/vnd.jupyter.widget-view+json": {
       "model_id": "eeaa209fc9d24c89985ec6f2444c7b95",
       "version_major": 2,
       "version_minor": 0
      },
      "text/plain": [
       "Calculating Metrics:   0%|          | 0/1 [00:00<?, ?it/s]"
      ]
     },
     "metadata": {},
     "output_type": "display_data"
    },
    {
     "data": {
      "application/vnd.jupyter.widget-view+json": {
       "model_id": "3318814a62e341a68dbe540c77e962bc",
       "version_major": 2,
       "version_minor": 0
      },
      "text/plain": [
       "Calculating Metrics:   0%|          | 0/5 [00:00<?, ?it/s]"
      ]
     },
     "metadata": {},
     "output_type": "display_data"
    },
    {
     "data": {
      "application/vnd.jupyter.widget-view+json": {
       "model_id": "8508f6b6b30e4dee9277322b3d636615",
       "version_major": 2,
       "version_minor": 0
      },
      "text/plain": [
       "Calculating Metrics:   0%|          | 0/5 [00:00<?, ?it/s]"
      ]
     },
     "metadata": {},
     "output_type": "display_data"
    },
    {
     "data": {
      "application/vnd.jupyter.widget-view+json": {
       "model_id": "9aad2598717d4281abaa31cff42e0372",
       "version_major": 2,
       "version_minor": 0
      },
      "text/plain": [
       "Calculating Metrics:   0%|          | 0/1 [00:00<?, ?it/s]"
      ]
     },
     "metadata": {},
     "output_type": "display_data"
    },
    {
     "data": {
      "application/vnd.jupyter.widget-view+json": {
       "model_id": "ee5c4b94946a4695859e5b4db0b32335",
       "version_major": 2,
       "version_minor": 0
      },
      "text/plain": [
       "Calculating Metrics:   0%|          | 0/5 [00:00<?, ?it/s]"
      ]
     },
     "metadata": {},
     "output_type": "display_data"
    },
    {
     "data": {
      "application/vnd.jupyter.widget-view+json": {
       "model_id": "0f981ac1745544ab95cbe40d0c9b8fb2",
       "version_major": 2,
       "version_minor": 0
      },
      "text/plain": [
       "Calculating Metrics:   0%|          | 0/5 [00:00<?, ?it/s]"
      ]
     },
     "metadata": {},
     "output_type": "display_data"
    },
    {
     "data": {
      "application/vnd.jupyter.widget-view+json": {
       "model_id": "ab1256f91ab848ae9c389c5093900f30",
       "version_major": 2,
       "version_minor": 0
      },
      "text/plain": [
       "Calculating Metrics:   0%|          | 0/1 [00:00<?, ?it/s]"
      ]
     },
     "metadata": {},
     "output_type": "display_data"
    },
    {
     "data": {
      "application/vnd.jupyter.widget-view+json": {
       "model_id": "069778f9e9f94b0d91afe1fb66cddb12",
       "version_major": 2,
       "version_minor": 0
      },
      "text/plain": [
       "Calculating Metrics:   0%|          | 0/5 [00:00<?, ?it/s]"
      ]
     },
     "metadata": {},
     "output_type": "display_data"
    },
    {
     "data": {
      "application/vnd.jupyter.widget-view+json": {
       "model_id": "6c313a8faf854181af5abea6a94308e1",
       "version_major": 2,
       "version_minor": 0
      },
      "text/plain": [
       "Calculating Metrics:   0%|          | 0/5 [00:00<?, ?it/s]"
      ]
     },
     "metadata": {},
     "output_type": "display_data"
    },
    {
     "data": {
      "application/vnd.jupyter.widget-view+json": {
       "model_id": "9183a50cbcaa4313989946b72a63b3bf",
       "version_major": 2,
       "version_minor": 0
      },
      "text/plain": [
       "Calculating Metrics:   0%|          | 0/1 [00:00<?, ?it/s]"
      ]
     },
     "metadata": {},
     "output_type": "display_data"
    },
    {
     "data": {
      "application/vnd.jupyter.widget-view+json": {
       "model_id": "c54d6dc04b2642139cf11c85fc52d1f7",
       "version_major": 2,
       "version_minor": 0
      },
      "text/plain": [
       "Calculating Metrics:   0%|          | 0/5 [00:00<?, ?it/s]"
      ]
     },
     "metadata": {},
     "output_type": "display_data"
    }
   ],
   "source": [
    "data_assistant_result = context.assistants.missingness.run(\n",
    "    validator=validator,\n",
    "    exclude_column_names=exclude_cols_names,\n",
    ")"
   ]
  },
  {
   "cell_type": "markdown",
   "id": "5c863e0f",
   "metadata": {},
   "source": [
    "Save expectations"
   ]
  },
  {
   "cell_type": "code",
   "execution_count": 12,
   "id": "484888d5",
   "metadata": {},
   "outputs": [],
   "source": [
    "validator.expectation_suite= data_assistant_result.get_expectation_suite(\n",
    "    expectation_suite_name='mercari_first_expectation_suite'\n",
    ")\n",
    "validator.save_expectation_suite(discard_failed_expectations=False)"
   ]
  },
  {
   "cell_type": "code",
   "execution_count": 13,
   "id": "8b4c1f0e",
   "metadata": {},
   "outputs": [],
   "source": [
    "checkpoint = context.add_or_update_checkpoint(\n",
    "    name=\"checkpoint_v1\",\n",
    "    validator=validator,\n",
    ")"
   ]
  },
  {
   "cell_type": "markdown",
   "id": "a0e0371b",
   "metadata": {},
   "source": [
    "Run expectations"
   ]
  },
  {
   "cell_type": "code",
   "execution_count": 14,
   "id": "ccec229b",
   "metadata": {},
   "outputs": [
    {
     "data": {
      "application/vnd.jupyter.widget-view+json": {
       "model_id": "f3cfb9643c444b9faf3a1e1593dd6dc3",
       "version_major": 2,
       "version_minor": 0
      },
      "text/plain": [
       "Calculating Metrics:   0%|          | 0/38 [00:00<?, ?it/s]"
      ]
     },
     "metadata": {},
     "output_type": "display_data"
    }
   ],
   "source": [
    "checkpoint_result = checkpoint.run()"
   ]
  },
  {
   "cell_type": "code",
   "execution_count": 15,
   "id": "f5615c1e",
   "metadata": {},
   "outputs": [],
   "source": [
    "assert checkpoint_result[\"success\"] is True"
   ]
  },
  {
   "cell_type": "markdown",
   "id": "2ef0c9c5",
   "metadata": {},
   "source": [
    "Let's plot and view the results"
   ]
  },
  {
   "cell_type": "code",
   "execution_count": 18,
   "id": "3410c90f",
   "metadata": {},
   "outputs": [
    {
     "name": "stdout",
     "output_type": "stream",
     "text": [
      "56 Metrics calculated, 14 Metric plots implemented\n",
      "Use DataAssistantResult.metrics_by_domain to show all calculated Metrics\n"
     ]
    },
    {
     "data": {
      "text/html": [
       "\n",
       "                <style>\n",
       "                @import url('https://fonts.googleapis.com/css2?family=Montserrat:wght@500;600&display=swap');\n",
       "                </style>\n",
       "                "
      ],
      "text/plain": [
       "<IPython.core.display.HTML object>"
      ]
     },
     "metadata": {},
     "output_type": "display_data"
    },
    {
     "data": {
      "text/html": [
       "\n",
       "                <style>\n",
       "                span.vega-bind-name {\n",
       "                    color: #404041;\n",
       "                    font-family: Montserrat;\n",
       "                    font-size: 14px;\n",
       "                    font-weight: 500;\n",
       "                }\n",
       "                form.vega-bindings {\n",
       "                    color: #404041;\n",
       "                    font-family: Montserrat;\n",
       "                    font-size: 14px;\n",
       "                    font-weight: 500;\n",
       "                    position: absolute;\n",
       "                    left: 75px;\n",
       "                    top: 28px;\n",
       "                }\n",
       "                </style>\n",
       "            "
      ],
      "text/plain": [
       "<IPython.core.display.HTML object>"
      ]
     },
     "metadata": {},
     "output_type": "display_data"
    },
    {
     "data": {
      "text/html": [
       "\n",
       "                <style>\n",
       "                .widget-inline-hbox .widget-label {\n",
       "                    color: #404041;\n",
       "                    font-family: Montserrat;\n",
       "                    font-size: 14px;\n",
       "                    font-weight: 500;\n",
       "                }\n",
       "                .widget-dropdown > select {\n",
       "                    padding-right: 21px;\n",
       "                    padding-left: 3px;\n",
       "                    color: #404041;\n",
       "                    font-family: Montserrat;\n",
       "                    font-size: 14px;\n",
       "                    font-weight: 500;\n",
       "                    height: 20px;\n",
       "                    line-height: 14px;\n",
       "                    background-size: 20px;\n",
       "                    border-radius: 2px;\n",
       "                }\n",
       "                </style>\n",
       "            "
      ],
      "text/plain": [
       "<IPython.core.display.HTML object>"
      ]
     },
     "metadata": {},
     "output_type": "display_data"
    },
    {
     "data": {
      "application/vnd.jupyter.widget-view+json": {
       "model_id": "1d3347d7605c4095aeeba01d68098357",
       "version_major": 2,
       "version_minor": 0
      },
      "text/plain": [
       "interactive(children=(Dropdown(description='Select Plot Type: ', layout=Layout(margin='0px', width='max-conten…"
      ]
     },
     "metadata": {},
     "output_type": "display_data"
    },
    {
     "data": {
      "text/plain": []
     },
     "execution_count": 18,
     "metadata": {},
     "output_type": "execute_result"
    }
   ],
   "source": [
    "data_assistant_result.plot_metrics()"
   ]
  },
  {
   "cell_type": "markdown",
   "id": "d594b4b8",
   "metadata": {},
   "source": [
    "View results "
   ]
  },
  {
   "cell_type": "code",
   "execution_count": 17,
   "id": "4fcb89a2",
   "metadata": {},
   "outputs": [
    {
     "name": "stdout",
     "output_type": "stream",
     "text": [
      "[ { 'expect_column_values_to_not_be_null': { 'column': 'name',\n",
      "                                             'domain': 'column',\n",
      "                                             'mostly': 1.0}},\n",
      "  { 'expect_column_values_to_not_be_null': { 'column': 'item_condition_id',\n",
      "                                             'domain': 'column',\n",
      "                                             'mostly': 1.0}},\n",
      "  { 'expect_column_values_to_not_be_null': { 'column': 'category_name',\n",
      "                                             'domain': 'column',\n",
      "                                             'mostly': 0.99}},\n",
      "  { 'expect_column_values_to_not_be_null': { 'column': 'brand_name',\n",
      "                                             'domain': 'column',\n",
      "                                             'mostly': 0.55}},\n",
      "  { 'expect_column_values_to_not_be_null': { 'column': 'price',\n",
      "                                             'domain': 'column',\n",
      "                                             'mostly': 1.0}},\n",
      "  { 'expect_column_values_to_not_be_null': { 'column': 'shipping',\n",
      "                                             'domain': 'column',\n",
      "                                             'mostly': 1.0}},\n",
      "  { 'expect_column_values_to_not_be_null': { 'column': 'item_description',\n",
      "                                             'domain': 'column',\n",
      "                                             'mostly': 0.99}}]\n"
     ]
    }
   ],
   "source": [
    "data_assistant_result.show_expectations_by_expectation_type()"
   ]
  }
 ],
 "metadata": {
  "kernelspec": {
   "display_name": "Python 3.9.18 64-bit ('.conda')",
   "language": "python",
   "name": "python3"
  },
  "language_info": {
   "codemirror_mode": {
    "name": "ipython",
    "version": 3
   },
   "file_extension": ".py",
   "mimetype": "text/x-python",
   "name": "python",
   "nbconvert_exporter": "python",
   "pygments_lexer": "ipython3",
   "version": "3.9.18"
  },
  "vscode": {
   "interpreter": {
    "hash": "03646948cc1eca1aab1a6d754d674736dcb5138b87307cb760ddb3b102c41299"
   }
  }
 },
 "nbformat": 4,
 "nbformat_minor": 5
}
