{
 "cells": [
  {
   "cell_type": "markdown",
   "id": "490fc631",
   "metadata": {},
   "source": [
    "## Data validation:\n",
    "This notebook contains the code for performing data validation on the Mercari Dataset. The ideal choice for performing data validation in python is using `tensorflow data validation`. Since, it is not compatible with our python environment, we can use the following packages as alternatives:\n",
    "- great expectations\n",
    "- pandas-profiling\n",
    "- pydantic"
   ]
  },
  {
   "cell_type": "code",
   "execution_count": 1,
   "id": "1de37643",
   "metadata": {},
   "outputs": [],
   "source": [
    "# import essentials\n",
    "import numpy\n",
    "import pandas as pd\n",
    "import great_expectations as gx"
   ]
  },
  {
   "cell_type": "code",
   "execution_count": 2,
   "id": "e35834fd",
   "metadata": {},
   "outputs": [
    {
     "name": "stdout",
     "output_type": "stream",
     "text": [
      "/Users/mehuljain/Documents/course_related/ML_Ops/project/Price_Alchemy\n"
     ]
    }
   ],
   "source": [
    "cd .."
   ]
  },
  {
   "cell_type": "markdown",
   "id": "15d575b5",
   "metadata": {},
   "source": [
    "## Great expectations:"
   ]
  },
  {
   "cell_type": "markdown",
   "id": "0fb16c8d",
   "metadata": {},
   "source": [
    "Create data context"
   ]
  },
  {
   "cell_type": "code",
   "execution_count": 3,
   "id": "db1ae0f4",
   "metadata": {},
   "outputs": [],
   "source": [
    "context = gx.get_context()"
   ]
  },
  {
   "cell_type": "markdown",
   "id": "5176fe27",
   "metadata": {},
   "source": [
    "Connect to the data source"
   ]
  },
  {
   "cell_type": "code",
   "execution_count": 4,
   "id": "f0219b2b",
   "metadata": {},
   "outputs": [],
   "source": [
    "validator=context.sources.pandas_default.read_csv('./data/Mercari Price Suggestion Challenge/train.tsv', sep='\\t', header=0)"
   ]
  },
  {
   "cell_type": "code",
   "execution_count": 5,
   "id": "48b5e136",
   "metadata": {},
   "outputs": [],
   "source": [
    "df=pd.read_csv('./data/Mercari Price Suggestion Challenge/train.tsv', sep='\\t', header=0)"
   ]
  },
  {
   "cell_type": "code",
   "execution_count": 6,
   "id": "ed394732",
   "metadata": {},
   "outputs": [
    {
     "name": "stdout",
     "output_type": "stream",
     "text": [
      "<class 'pandas.core.frame.DataFrame'>\n",
      "RangeIndex: 1482535 entries, 0 to 1482534\n",
      "Data columns (total 8 columns):\n",
      " #   Column             Non-Null Count    Dtype  \n",
      "---  ------             --------------    -----  \n",
      " 0   train_id           1482535 non-null  int64  \n",
      " 1   name               1482535 non-null  object \n",
      " 2   item_condition_id  1482535 non-null  int64  \n",
      " 3   category_name      1476208 non-null  object \n",
      " 4   brand_name         849853 non-null   object \n",
      " 5   price              1482535 non-null  float64\n",
      " 6   shipping           1482535 non-null  int64  \n",
      " 7   item_description   1482529 non-null  object \n",
      "dtypes: float64(1), int64(3), object(4)\n",
      "memory usage: 90.5+ MB\n"
     ]
    }
   ],
   "source": [
    "df.info()"
   ]
  },
  {
   "cell_type": "markdown",
   "id": "b02206e2",
   "metadata": {},
   "source": [
    "Let's create some expectations"
   ]
  },
  {
   "cell_type": "code",
   "execution_count": 12,
   "id": "b4ff676f",
   "metadata": {},
   "outputs": [
    {
     "data": {
      "application/vnd.jupyter.widget-view+json": {
       "model_id": "61a7a40656404de4a38255e5105e8172",
       "version_major": 2,
       "version_minor": 0
      },
      "text/plain": [
       "Calculating Metrics:   0%|          | 0/6 [00:00<?, ?it/s]"
      ]
     },
     "metadata": {},
     "output_type": "display_data"
    },
    {
     "data": {
      "application/vnd.jupyter.widget-view+json": {
       "model_id": "2c85a5a2602c456c9b036d85d41bb82f",
       "version_major": 2,
       "version_minor": 0
      },
      "text/plain": [
       "Calculating Metrics:   0%|          | 0/6 [00:00<?, ?it/s]"
      ]
     },
     "metadata": {},
     "output_type": "display_data"
    },
    {
     "data": {
      "text/plain": [
       "{\n",
       "  \"success\": true,\n",
       "  \"result\": {\n",
       "    \"element_count\": 1482535,\n",
       "    \"unexpected_count\": 0,\n",
       "    \"unexpected_percent\": 0.0,\n",
       "    \"partial_unexpected_list\": []\n",
       "  },\n",
       "  \"meta\": {},\n",
       "  \"exception_info\": {\n",
       "    \"raised_exception\": false,\n",
       "    \"exception_traceback\": null,\n",
       "    \"exception_message\": null\n",
       "  }\n",
       "}"
      ]
     },
     "execution_count": 12,
     "metadata": {},
     "output_type": "execute_result"
    }
   ],
   "source": [
    "# not null expectations\n",
    "validator.expect_column_values_to_not_be_null(\"name\")\n",
    "validator.expect_column_values_to_not_be_null(\"price\")"
   ]
  },
  {
   "cell_type": "markdown",
   "id": "5c863e0f",
   "metadata": {},
   "source": [
    "Save expectations"
   ]
  },
  {
   "cell_type": "code",
   "execution_count": 8,
   "id": "484888d5",
   "metadata": {},
   "outputs": [],
   "source": [
    "validator.save_expectation_suite()"
   ]
  },
  {
   "cell_type": "code",
   "execution_count": 9,
   "id": "8b4c1f0e",
   "metadata": {},
   "outputs": [],
   "source": [
    "checkpoint = context.add_or_update_checkpoint(\n",
    "    name=\"checkpoint_v1\",\n",
    "    validator=validator,\n",
    ")"
   ]
  },
  {
   "cell_type": "markdown",
   "id": "a0e0371b",
   "metadata": {},
   "source": [
    "Run expectations"
   ]
  },
  {
   "cell_type": "code",
   "execution_count": 10,
   "id": "ccec229b",
   "metadata": {},
   "outputs": [
    {
     "data": {
      "application/vnd.jupyter.widget-view+json": {
       "model_id": "19bde8aa472846f1a7fb96ebe271899e",
       "version_major": 2,
       "version_minor": 0
      },
      "text/plain": [
       "Calculating Metrics:   0%|          | 0/13 [00:00<?, ?it/s]"
      ]
     },
     "metadata": {},
     "output_type": "display_data"
    }
   ],
   "source": [
    "checkpoint_result = checkpoint.run()"
   ]
  },
  {
   "cell_type": "markdown",
   "id": "d594b4b8",
   "metadata": {},
   "source": [
    "View results "
   ]
  },
  {
   "cell_type": "code",
   "execution_count": 11,
   "id": "4fcb89a2",
   "metadata": {},
   "outputs": [],
   "source": [
    "context.view_validation_result(checkpoint_result)"
   ]
  }
 ],
 "metadata": {
  "kernelspec": {
   "display_name": "Python 3.9.18 64-bit ('.conda')",
   "language": "python",
   "name": "python3"
  },
  "language_info": {
   "codemirror_mode": {
    "name": "ipython",
    "version": 3
   },
   "file_extension": ".py",
   "mimetype": "text/x-python",
   "name": "python",
   "nbconvert_exporter": "python",
   "pygments_lexer": "ipython3",
   "version": "3.9.18"
  },
  "vscode": {
   "interpreter": {
    "hash": "03646948cc1eca1aab1a6d754d674736dcb5138b87307cb760ddb3b102c41299"
   }
  }
 },
 "nbformat": 4,
 "nbformat_minor": 5
}
