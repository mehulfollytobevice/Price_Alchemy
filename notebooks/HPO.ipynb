{
 "cells": [
  {
   "cell_type": "markdown",
   "metadata": {},
   "source": [
    "# Hyper-parameter optimization:"
   ]
  },
  {
   "cell_type": "markdown",
   "metadata": {},
   "source": [
    "This notebook focuses on hyper-parameter optimization for the `MLPRegressor` model. "
   ]
  },
  {
   "cell_type": "code",
   "execution_count": 1,
   "metadata": {},
   "outputs": [],
   "source": [
    "import numpy as np\n",
    "import pandas as pd\n",
    "from scipy.sparse import csr_matrix, csc_matrix\n",
    "import logging\n",
    "import time\n",
    "from functools import partial\n",
    "from hyperopt import hp,fmin,tpe,Trials\n",
    "from hyperopt.pyll.base import scope\n",
    "import price_alchemy.data_preprocessing as dp\n",
    "import price_alchemy.config as cfg\n",
    "import cred\n",
    "import price_alchemy.logging_setup as ls\n",
    "import price_alchemy.data_loading as dl\n",
    "import price_alchemy.model_dispatcher as md\n",
    "import price_alchemy.hpo as hpo\n",
    "import price_alchemy.train as tr\n",
    "from sklearn.model_selection import KFold\n",
    "from sklearn.metrics import mean_squared_log_error\n",
    "import mlflow\n",
    "from mlflow.models import infer_signature"
   ]
  },
  {
   "cell_type": "code",
   "execution_count": 2,
   "metadata": {},
   "outputs": [
    {
     "name": "stdout",
     "output_type": "stream",
     "text": [
      "/Users/mehuljain/Documents/course_related/ML_Ops/project/Price_Alchemy\n"
     ]
    },
    {
     "name": "stderr",
     "output_type": "stream",
     "text": [
      "/Users/mehuljain/Documents/course_related/ML_Ops/project/Price_Alchemy/.conda/lib/python3.9/site-packages/IPython/core/magics/osm.py:417: UserWarning: using dhist requires you to install the `pickleshare` library.\n",
      "  self.shell.db['dhist'] = compress_dhist(dhist)[-100:]\n"
     ]
    }
   ],
   "source": [
    "cd .."
   ]
  },
  {
   "cell_type": "code",
   "execution_count": 4,
   "metadata": {},
   "outputs": [],
   "source": [
    "# df= dl.load_data_sql(cred.MYSQL_PASSWORD)"
   ]
  },
  {
   "cell_type": "markdown",
   "metadata": {},
   "source": [
    "## Load the data:"
   ]
  },
  {
   "cell_type": "code",
   "execution_count": 7,
   "metadata": {},
   "outputs": [],
   "source": [
    "# in case of no internet\n",
    "df= pd.read_csv('data/train.csv')"
   ]
  },
  {
   "cell_type": "code",
   "execution_count": 8,
   "metadata": {},
   "outputs": [],
   "source": [
    "df_sample= dp.sample_df(df, sample_size=20000)"
   ]
  },
  {
   "cell_type": "markdown",
   "metadata": {},
   "source": [
    "## Data preprocessing:"
   ]
  },
  {
   "cell_type": "code",
   "execution_count": 24,
   "metadata": {},
   "outputs": [
    {
     "name": "stderr",
     "output_type": "stream",
     "text": [
      "/Users/mehuljain/Documents/course_related/ML_Ops/project/Price_Alchemy/dags/price_alchemy/data_preprocessing.py:140: FutureWarning: A value is trying to be set on a copy of a DataFrame or Series through chained assignment using an inplace method.\n",
      "The behavior will change in pandas 3.0. This inplace method will never work because the intermediate object on which we are setting values always behaves as a copy.\n",
      "\n",
      "For example, when doing 'df[col].method(value, inplace=True)', try using 'df.method({col: value}, inplace=True)' or df[col] = df[col].method(value) instead, to perform the operation inplace on the original object.\n",
      "\n",
      "\n",
      "  df['category_name'].replace('', np.nan, inplace=True)\n",
      "/Users/mehuljain/Documents/course_related/ML_Ops/project/Price_Alchemy/dags/price_alchemy/data_preprocessing.py:144: SettingWithCopyWarning: \n",
      "A value is trying to be set on a copy of a slice from a DataFrame.\n",
      "Try using .loc[row_indexer,col_indexer] = value instead\n",
      "\n",
      "See the caveats in the documentation: https://pandas.pydata.org/pandas-docs/stable/user_guide/indexing.html#returning-a-view-versus-a-copy\n",
      "  m_df['price'] = pd.to_numeric(m_df['price'], errors='coerce')\n"
     ]
    }
   ],
   "source": [
    "text_prep= cfg.TEXT_PREP_OPTS['spacy']\n",
    "col_trans= 'tfidf_full'\n",
    "\n",
    "X,y= dp.preprocessing_pipe(df_sample, text_prep, cfg.COL_TRANS_OPTS[col_trans])"
   ]
  },
  {
   "cell_type": "code",
   "execution_count": 25,
   "metadata": {},
   "outputs": [
    {
     "data": {
      "text/plain": [
       "((19915, 22725), (19915,))"
      ]
     },
     "execution_count": 25,
     "metadata": {},
     "output_type": "execute_result"
    }
   ],
   "source": [
    "X.shape, y.shape"
   ]
  },
  {
   "cell_type": "code",
   "execution_count": 26,
   "metadata": {},
   "outputs": [],
   "source": [
    "dp.dump_preprocessed_data([X,y], \"tfidf_fullvocab_data_sm.pickle\")"
   ]
  },
  {
   "cell_type": "markdown",
   "metadata": {},
   "source": [
    "## Fine-tune parameters for the model:"
   ]
  },
  {
   "cell_type": "code",
   "execution_count": 8,
   "metadata": {},
   "outputs": [],
   "source": [
    "model_dispatch= md.models['mlp']"
   ]
  },
  {
   "cell_type": "code",
   "execution_count": 9,
   "metadata": {},
   "outputs": [
    {
     "name": "stdout",
     "output_type": "stream",
     "text": [
      "100%|██████████| 15/15 [1:13:04<00:00, 292.32s/trial, best loss: 0.638574052984292] \n"
     ]
    }
   ],
   "source": [
    "# define optimization function\n",
    "optmization_function=partial(hpo.optimize,\n",
    "                            X=X,\n",
    "                            y=y.values,\n",
    "                            model=model_dispatch)\n",
    "\n",
    "# define trials \n",
    "trials=Trials()\n",
    "\n",
    "result=fmin(fn=optmization_function,\n",
    "        space=md.PARAMS,\n",
    "        algo=tpe.suggest,\n",
    "        max_evals=15,\n",
    "        trials=trials,\n",
    "        )"
   ]
  },
  {
   "cell_type": "markdown",
   "metadata": {},
   "source": [
    "What are the optimized parameters?"
   ]
  },
  {
   "cell_type": "code",
   "execution_count": 10,
   "metadata": {},
   "outputs": [
    {
     "data": {
      "text/plain": [
       "{'batch_size': 392,\n",
       " 'hidden_layers': 2.0,\n",
       " 'hidden_neurons': 40.0,\n",
       " 'learning_rate': 0,\n",
       " 'learning_rate_init': 0.07178543610281606,\n",
       " 'max_iter': 174.0}"
      ]
     },
     "execution_count": 10,
     "metadata": {},
     "output_type": "execute_result"
    }
   ],
   "source": [
    "result"
   ]
  },
  {
   "cell_type": "markdown",
   "metadata": {},
   "source": [
    "Retrain the model"
   ]
  },
  {
   "cell_type": "code",
   "execution_count": 11,
   "metadata": {},
   "outputs": [
    {
     "name": "stdout",
     "output_type": "stream",
     "text": [
      "{'hidden_layer_sizes': (40, 40), 'max_iter': 174, 'learning_rate_init': 0.07178543610281606, 'batch_size': 392, 'learning_rate': 'invscaling'}\n"
     ]
    }
   ],
   "source": [
    "lr_type=[\"invscaling\",\"adaptive\"]\n",
    "\n",
    "ps= { \n",
    "    'hidden_layer_sizes': tuple([int(result['hidden_neurons'])] * int(result['hidden_layers'])),\n",
    "    \"max_iter\":int(result[\"max_iter\"]),\n",
    "    \"learning_rate_init\": float(result[\"learning_rate_init\"]),\n",
    "    \"batch_size\":int(result[\"batch_size\"]),\n",
    "    \"learning_rate\":lr_type[int(result[\"learning_rate\"])]\n",
    "    }\n",
    "\n",
    "print(ps)\n",
    "\n",
    "# set optimized parameters\n",
    "model_dispatch.set_params(**ps)\n",
    "\n",
    "# train the model\n",
    "model,metrics= tr.train_model(X, y.values, model=model_dispatch)"
   ]
  },
  {
   "cell_type": "markdown",
   "metadata": {},
   "source": [
    "Print the metrics from the cross-validation"
   ]
  },
  {
   "cell_type": "code",
   "execution_count": 12,
   "metadata": {},
   "outputs": [
    {
     "data": {
      "text/plain": [
       "{'mse': 1195.190586288016,\n",
       " 'rmse': 34.26525658530161,\n",
       " 'r_2': 0.20634697349776737,\n",
       " 'rmsle': 0.638574052984292}"
      ]
     },
     "execution_count": 12,
     "metadata": {},
     "output_type": "execute_result"
    }
   ],
   "source": [
    "metrics"
   ]
  },
  {
   "cell_type": "code",
   "execution_count": 13,
   "metadata": {},
   "outputs": [
    {
     "data": {
      "text/plain": [
       "array([ 9.85326749, 15.7522718 , 23.77956996,  9.85326749, 22.33101569,\n",
       "       51.88262699, 13.65574284,  9.85326749, 13.32648811,  9.85326749,\n",
       "       30.14747206, 12.97507125, 23.79788408, 13.01321044, 23.39780098,\n",
       "       49.76458554, 15.34987673, 19.69728455, 83.94379329, 17.0519751 ])"
      ]
     },
     "execution_count": 13,
     "metadata": {},
     "output_type": "execute_result"
    }
   ],
   "source": [
    "model.predict(X[:20])"
   ]
  },
  {
   "cell_type": "code",
   "execution_count": 14,
   "metadata": {},
   "outputs": [
    {
     "data": {
      "text/plain": [
       "array([ 12.,  76.,  12.,   3.,  30., 225.,  16.,  12.,  15.,  17.,  28.,\n",
       "         9.,  19.,   4.,  14.,  71.,  10.,  14.,  80.,  17.])"
      ]
     },
     "execution_count": 14,
     "metadata": {},
     "output_type": "execute_result"
    }
   ],
   "source": [
    "y[:20].values"
   ]
  },
  {
   "cell_type": "markdown",
   "metadata": {},
   "source": [
    "## Log the results in MLFlow:"
   ]
  },
  {
   "cell_type": "markdown",
   "metadata": {},
   "source": [
    "Log the optimal parameters in MLFlow for later use"
   ]
  },
  {
   "cell_type": "code",
   "execution_count": 16,
   "metadata": {},
   "outputs": [
    {
     "name": "stderr",
     "output_type": "stream",
     "text": [
      "/Users/mehuljain/Documents/course_related/ML_Ops/project/Price_Alchemy/.conda/lib/python3.9/site-packages/_distutils_hack/__init__.py:18: UserWarning: Distutils was imported before Setuptools, but importing Setuptools also replaces the `distutils` module in `sys.modules`. This may lead to undesirable behaviors or errors. To avoid these issues, avoid using distutils directly, ensure that setuptools is installed in the traditional way (e.g. not an editable install), and/or make sure that setuptools is always imported before distutils.\n",
      "  warnings.warn(\n",
      "/Users/mehuljain/Documents/course_related/ML_Ops/project/Price_Alchemy/.conda/lib/python3.9/site-packages/_distutils_hack/__init__.py:33: UserWarning: Setuptools is replacing distutils.\n",
      "  warnings.warn(\"Setuptools is replacing distutils.\")\n",
      "Registered model 'mlp-chargram-optimized' already exists. Creating a new version of this model...\n",
      "2024/04/19 20:45:21 INFO mlflow.store.model_registry.abstract_store: Waiting up to 300 seconds for model version to finish creation. Model name: mlp-chargram-optimized, version 2\n",
      "Created version '2' of model 'mlp-chargram-optimized'.\n"
     ]
    }
   ],
   "source": [
    "# Set our tracking server uri for logging\n",
    "mlflow.set_tracking_uri(uri=\"http://127.0.0.1:9000\")\n",
    "\n",
    "# Create a new MLflow Experiment\n",
    "mlflow.set_experiment(\"tfidf_chargram\")\n",
    "\n",
    "# Start an MLflow run\n",
    "with mlflow.start_run():\n",
    "    # Log the hyperparameters\n",
    "    mlflow.log_params(model.get_params())\n",
    "\n",
    "    # Log the loss metric\n",
    "    mlflow.log_metric(\"mean squared error\", metrics['mse'])\n",
    "    mlflow.log_metric(\"root mean squared error\", metrics['rmse'])\n",
    "    mlflow.log_metric(\"mean squared log error\", metrics['rmsle'])\n",
    "    mlflow.log_metric(\"r2\", metrics['r_2'])\n",
    "\n",
    "    # Set a tag that we can use to remind ourselves what this run was for\n",
    "    mlflow.set_tag(\"sample_size\", f\"{X.shape[0]}\")\n",
    "    mlflow.set_tag(\"num_cols\", f\"{X.shape[1]}\")\n",
    "    mlflow.set_tag(\"text_preprocessor\", f\"{text_prep}\")\n",
    "    mlflow.set_tag(\"column_transformer\", f\"{col_trans}\")\n",
    "    mlflow.set_tag(\"model_name\",f\"{type(model).__name__}\")\n",
    "\n",
    "    # Infer the model signature\n",
    "    signature = infer_signature(X, model.predict(X))\n",
    "\n",
    "    # Log the model\n",
    "    model_info = mlflow.sklearn.log_model(\n",
    "        sk_model=model,\n",
    "        artifact_path=\"mlp3_reg\",\n",
    "        signature=signature,\n",
    "        input_example=X,\n",
    "        registered_model_name=\"mlp-chargram-optimized\",\n",
    "    )"
   ]
  }
 ],
 "metadata": {
  "kernelspec": {
   "display_name": "Python 3.9.18 (conda)",
   "language": "python",
   "name": "python3"
  },
  "language_info": {
   "codemirror_mode": {
    "name": "ipython",
    "version": 3
   },
   "file_extension": ".py",
   "mimetype": "text/x-python",
   "name": "python",
   "nbconvert_exporter": "python",
   "pygments_lexer": "ipython3",
   "version": "3.9.18"
  },
  "orig_nbformat": 4,
  "vscode": {
   "interpreter": {
    "hash": "03646948cc1eca1aab1a6d754d674736dcb5138b87307cb760ddb3b102c41299"
   }
  }
 },
 "nbformat": 4,
 "nbformat_minor": 2
}
