{
 "cells": [
  {
   "cell_type": "markdown",
   "metadata": {},
   "source": [
    "# Hyper-parameter optimization:"
   ]
  },
  {
   "cell_type": "markdown",
   "metadata": {},
   "source": [
    "This notebook focuses on hyper-parameter optimization for the `MLPRegressor` model. "
   ]
  },
  {
   "cell_type": "code",
   "execution_count": 4,
   "metadata": {},
   "outputs": [],
   "source": [
    "import numpy as np\n",
    "import pandas as pd\n",
    "from scipy.sparse import csr_matrix, csc_matrix\n",
    "import logging\n",
    "import time\n",
    "from functools import partial\n",
    "from hyperopt import hp,fmin,tpe,Trials\n",
    "from hyperopt.pyll.base import scope\n",
    "import price_alchemy.data_preprocessing as dp\n",
    "import price_alchemy.config as cfg\n",
    "import price_alchemy.logging_setup as ls\n",
    "import price_alchemy.data_loading as dl\n",
    "import price_alchemy.model_dispatcher as md\n",
    "import price_alchemy.hpo as hpo\n",
    "import price_alchemy.train as tr\n",
    "from sklearn.model_selection import KFold\n",
    "from sklearn.metrics import mean_squared_log_error"
   ]
  },
  {
   "cell_type": "code",
   "execution_count": 2,
   "metadata": {},
   "outputs": [
    {
     "name": "stdout",
     "output_type": "stream",
     "text": [
      "/Users/mehuljain/Documents/course_related/ML_Ops/project/Price_Alchemy\n"
     ]
    },
    {
     "name": "stderr",
     "output_type": "stream",
     "text": [
      "/Users/mehuljain/Documents/course_related/ML_Ops/project/Price_Alchemy/.conda/lib/python3.9/site-packages/IPython/core/magics/osm.py:417: UserWarning: using dhist requires you to install the `pickleshare` library.\n",
      "  self.shell.db['dhist'] = compress_dhist(dhist)[-100:]\n"
     ]
    }
   ],
   "source": [
    "cd .."
   ]
  },
  {
   "cell_type": "code",
   "execution_count": null,
   "metadata": {},
   "outputs": [],
   "source": [
    "# df= dl.load_data_sql(cfg.MYSQL_PASSWORD)"
   ]
  },
  {
   "cell_type": "code",
   "execution_count": 5,
   "metadata": {},
   "outputs": [],
   "source": [
    "# in case of no internet\n",
    "df= pd.read_csv('data/train.csv')"
   ]
  },
  {
   "cell_type": "code",
   "execution_count": 7,
   "metadata": {},
   "outputs": [],
   "source": [
    "df_sample= dp.sample_df(df, sample_size=2000)"
   ]
  },
  {
   "cell_type": "code",
   "execution_count": 8,
   "metadata": {},
   "outputs": [
    {
     "name": "stderr",
     "output_type": "stream",
     "text": [
      "/Users/mehuljain/Documents/course_related/ML_Ops/project/Price_Alchemy/dags/price_alchemy/data_preprocessing.py:142: FutureWarning: A value is trying to be set on a copy of a DataFrame or Series through chained assignment using an inplace method.\n",
      "The behavior will change in pandas 3.0. This inplace method will never work because the intermediate object on which we are setting values always behaves as a copy.\n",
      "\n",
      "For example, when doing 'df[col].method(value, inplace=True)', try using 'df.method({col: value}, inplace=True)' or df[col] = df[col].method(value) instead, to perform the operation inplace on the original object.\n",
      "\n",
      "\n",
      "  df['category_name'].replace('', np.nan, inplace=True)\n",
      "/Users/mehuljain/Documents/course_related/ML_Ops/project/Price_Alchemy/dags/price_alchemy/data_preprocessing.py:146: SettingWithCopyWarning: \n",
      "A value is trying to be set on a copy of a slice from a DataFrame.\n",
      "Try using .loc[row_indexer,col_indexer] = value instead\n",
      "\n",
      "See the caveats in the documentation: https://pandas.pydata.org/pandas-docs/stable/user_guide/indexing.html#returning-a-view-versus-a-copy\n",
      "  m_df['price'] = pd.to_numeric(m_df['price'], errors='coerce')\n"
     ]
    }
   ],
   "source": [
    "text_prep= cfg.TEXT_PREP_OPTS['spacy']\n",
    "col_trans= 'tfidf_concat'\n",
    "\n",
    "X,y= dp.preprocessing_pipe(df_sample, text_prep, cfg.COL_TRANS_OPTS[col_trans])"
   ]
  },
  {
   "cell_type": "code",
   "execution_count": 9,
   "metadata": {},
   "outputs": [],
   "source": [
    "model_dispatch= md.models['mlp']"
   ]
  },
  {
   "cell_type": "code",
   "execution_count": 10,
   "metadata": {},
   "outputs": [
    {
     "name": "stdout",
     "output_type": "stream",
     "text": [
      "  0%|          | 0/15 [00:00<?, ?trial/s, best loss=?]"
     ]
    },
    {
     "name": "stderr",
     "output_type": "stream",
     "text": [
      "/Users/mehuljain/Documents/course_related/ML_Ops/project/Price_Alchemy/.conda/lib/python3.9/site-packages/sklearn/neural_network/_multilayer_perceptron.py:609: UserWarning: Got `batch_size` less than 1 or larger than sample size. It is going to be clipped\n",
      "  warnings.warn(\n",
      "\n",
      "/Users/mehuljain/Documents/course_related/ML_Ops/project/Price_Alchemy/.conda/lib/python3.9/site-packages/sklearn/neural_network/_multilayer_perceptron.py:609: UserWarning: Got `batch_size` less than 1 or larger than sample size. It is going to be clipped\n",
      "  warnings.warn(\n",
      "\n",
      "/Users/mehuljain/Documents/course_related/ML_Ops/project/Price_Alchemy/.conda/lib/python3.9/site-packages/sklearn/neural_network/_multilayer_perceptron.py:609: UserWarning: Got `batch_size` less than 1 or larger than sample size. It is going to be clipped\n",
      "  warnings.warn(\n",
      "\n",
      "/Users/mehuljain/Documents/course_related/ML_Ops/project/Price_Alchemy/.conda/lib/python3.9/site-packages/sklearn/neural_network/_multilayer_perceptron.py:609: UserWarning: Got `batch_size` less than 1 or larger than sample size. It is going to be clipped\n",
      "  warnings.warn(\n",
      "\n",
      "/Users/mehuljain/Documents/course_related/ML_Ops/project/Price_Alchemy/.conda/lib/python3.9/site-packages/sklearn/neural_network/_multilayer_perceptron.py:609: UserWarning: Got `batch_size` less than 1 or larger than sample size. It is going to be clipped\n",
      "  warnings.warn(\n",
      "\n"
     ]
    },
    {
     "name": "stdout",
     "output_type": "stream",
     "text": [
      "  7%|▋         | 1/15 [00:12<02:56, 12.60s/trial, best loss: 0.7416269555696863]"
     ]
    },
    {
     "name": "stderr",
     "output_type": "stream",
     "text": [
      "/Users/mehuljain/Documents/course_related/ML_Ops/project/Price_Alchemy/.conda/lib/python3.9/site-packages/sklearn/neural_network/_multilayer_perceptron.py:609: UserWarning: Got `batch_size` less than 1 or larger than sample size. It is going to be clipped\n",
      "  warnings.warn(\n",
      "\n",
      "/Users/mehuljain/Documents/course_related/ML_Ops/project/Price_Alchemy/.conda/lib/python3.9/site-packages/sklearn/neural_network/_multilayer_perceptron.py:609: UserWarning: Got `batch_size` less than 1 or larger than sample size. It is going to be clipped\n",
      "  warnings.warn(\n",
      "\n",
      "/Users/mehuljain/Documents/course_related/ML_Ops/project/Price_Alchemy/.conda/lib/python3.9/site-packages/sklearn/neural_network/_multilayer_perceptron.py:609: UserWarning: Got `batch_size` less than 1 or larger than sample size. It is going to be clipped\n",
      "  warnings.warn(\n",
      "\n",
      "/Users/mehuljain/Documents/course_related/ML_Ops/project/Price_Alchemy/.conda/lib/python3.9/site-packages/sklearn/neural_network/_multilayer_perceptron.py:609: UserWarning: Got `batch_size` less than 1 or larger than sample size. It is going to be clipped\n",
      "  warnings.warn(\n",
      "\n",
      "/Users/mehuljain/Documents/course_related/ML_Ops/project/Price_Alchemy/.conda/lib/python3.9/site-packages/sklearn/neural_network/_multilayer_perceptron.py:609: UserWarning: Got `batch_size` less than 1 or larger than sample size. It is going to be clipped\n",
      "  warnings.warn(\n",
      "\n"
     ]
    },
    {
     "name": "stdout",
     "output_type": "stream",
     "text": [
      " 13%|█▎        | 2/15 [00:29<03:18, 15.27s/trial, best loss: 0.7416269555696863]"
     ]
    },
    {
     "name": "stderr",
     "output_type": "stream",
     "text": [
      "/Users/mehuljain/Documents/course_related/ML_Ops/project/Price_Alchemy/.conda/lib/python3.9/site-packages/sklearn/neural_network/_multilayer_perceptron.py:609: UserWarning: Got `batch_size` less than 1 or larger than sample size. It is going to be clipped\n",
      "  warnings.warn(\n",
      "\n",
      "/Users/mehuljain/Documents/course_related/ML_Ops/project/Price_Alchemy/.conda/lib/python3.9/site-packages/sklearn/neural_network/_multilayer_perceptron.py:609: UserWarning: Got `batch_size` less than 1 or larger than sample size. It is going to be clipped\n",
      "  warnings.warn(\n",
      "\n",
      "/Users/mehuljain/Documents/course_related/ML_Ops/project/Price_Alchemy/.conda/lib/python3.9/site-packages/sklearn/neural_network/_multilayer_perceptron.py:609: UserWarning: Got `batch_size` less than 1 or larger than sample size. It is going to be clipped\n",
      "  warnings.warn(\n",
      "\n",
      "/Users/mehuljain/Documents/course_related/ML_Ops/project/Price_Alchemy/.conda/lib/python3.9/site-packages/sklearn/neural_network/_multilayer_perceptron.py:609: UserWarning: Got `batch_size` less than 1 or larger than sample size. It is going to be clipped\n",
      "  warnings.warn(\n",
      "\n",
      "/Users/mehuljain/Documents/course_related/ML_Ops/project/Price_Alchemy/.conda/lib/python3.9/site-packages/sklearn/neural_network/_multilayer_perceptron.py:609: UserWarning: Got `batch_size` less than 1 or larger than sample size. It is going to be clipped\n",
      "  warnings.warn(\n",
      "\n"
     ]
    },
    {
     "name": "stdout",
     "output_type": "stream",
     "text": [
      " 20%|██        | 3/15 [00:47<03:15, 16.32s/trial, best loss: 0.7377000215442465]"
     ]
    },
    {
     "name": "stderr",
     "output_type": "stream",
     "text": [
      "/Users/mehuljain/Documents/course_related/ML_Ops/project/Price_Alchemy/.conda/lib/python3.9/site-packages/sklearn/neural_network/_multilayer_perceptron.py:609: UserWarning: Got `batch_size` less than 1 or larger than sample size. It is going to be clipped\n",
      "  warnings.warn(\n",
      "\n",
      "/Users/mehuljain/Documents/course_related/ML_Ops/project/Price_Alchemy/.conda/lib/python3.9/site-packages/sklearn/neural_network/_multilayer_perceptron.py:609: UserWarning: Got `batch_size` less than 1 or larger than sample size. It is going to be clipped\n",
      "  warnings.warn(\n",
      "\n",
      "/Users/mehuljain/Documents/course_related/ML_Ops/project/Price_Alchemy/.conda/lib/python3.9/site-packages/sklearn/neural_network/_multilayer_perceptron.py:609: UserWarning: Got `batch_size` less than 1 or larger than sample size. It is going to be clipped\n",
      "  warnings.warn(\n",
      "\n",
      "/Users/mehuljain/Documents/course_related/ML_Ops/project/Price_Alchemy/.conda/lib/python3.9/site-packages/sklearn/neural_network/_multilayer_perceptron.py:609: UserWarning: Got `batch_size` less than 1 or larger than sample size. It is going to be clipped\n",
      "  warnings.warn(\n",
      "\n",
      "/Users/mehuljain/Documents/course_related/ML_Ops/project/Price_Alchemy/.conda/lib/python3.9/site-packages/sklearn/neural_network/_multilayer_perceptron.py:609: UserWarning: Got `batch_size` less than 1 or larger than sample size. It is going to be clipped\n",
      "  warnings.warn(\n",
      "\n"
     ]
    },
    {
     "name": "stdout",
     "output_type": "stream",
     "text": [
      " 27%|██▋       | 4/15 [01:03<02:57, 16.13s/trial, best loss: 0.7377000215442465]"
     ]
    },
    {
     "name": "stderr",
     "output_type": "stream",
     "text": [
      "/Users/mehuljain/Documents/course_related/ML_Ops/project/Price_Alchemy/.conda/lib/python3.9/site-packages/sklearn/neural_network/_multilayer_perceptron.py:609: UserWarning: Got `batch_size` less than 1 or larger than sample size. It is going to be clipped\n",
      "  warnings.warn(\n",
      "\n",
      "/Users/mehuljain/Documents/course_related/ML_Ops/project/Price_Alchemy/.conda/lib/python3.9/site-packages/sklearn/neural_network/_multilayer_perceptron.py:609: UserWarning: Got `batch_size` less than 1 or larger than sample size. It is going to be clipped\n",
      "  warnings.warn(\n",
      "\n",
      "/Users/mehuljain/Documents/course_related/ML_Ops/project/Price_Alchemy/.conda/lib/python3.9/site-packages/sklearn/neural_network/_multilayer_perceptron.py:609: UserWarning: Got `batch_size` less than 1 or larger than sample size. It is going to be clipped\n",
      "  warnings.warn(\n",
      "\n",
      "/Users/mehuljain/Documents/course_related/ML_Ops/project/Price_Alchemy/.conda/lib/python3.9/site-packages/sklearn/neural_network/_multilayer_perceptron.py:609: UserWarning: Got `batch_size` less than 1 or larger than sample size. It is going to be clipped\n",
      "  warnings.warn(\n",
      "\n",
      "/Users/mehuljain/Documents/course_related/ML_Ops/project/Price_Alchemy/.conda/lib/python3.9/site-packages/sklearn/neural_network/_multilayer_perceptron.py:609: UserWarning: Got `batch_size` less than 1 or larger than sample size. It is going to be clipped\n",
      "  warnings.warn(\n",
      "\n"
     ]
    },
    {
     "name": "stdout",
     "output_type": "stream",
     "text": [
      " 40%|████      | 6/15 [01:27<02:10, 14.48s/trial, best loss: 0.7377000215442465]"
     ]
    },
    {
     "name": "stderr",
     "output_type": "stream",
     "text": [
      "/Users/mehuljain/Documents/course_related/ML_Ops/project/Price_Alchemy/.conda/lib/python3.9/site-packages/sklearn/neural_network/_multilayer_perceptron.py:609: UserWarning: Got `batch_size` less than 1 or larger than sample size. It is going to be clipped\n",
      "  warnings.warn(\n",
      "\n",
      "/Users/mehuljain/Documents/course_related/ML_Ops/project/Price_Alchemy/.conda/lib/python3.9/site-packages/sklearn/neural_network/_multilayer_perceptron.py:609: UserWarning: Got `batch_size` less than 1 or larger than sample size. It is going to be clipped\n",
      "  warnings.warn(\n",
      "\n",
      "/Users/mehuljain/Documents/course_related/ML_Ops/project/Price_Alchemy/.conda/lib/python3.9/site-packages/sklearn/neural_network/_multilayer_perceptron.py:609: UserWarning: Got `batch_size` less than 1 or larger than sample size. It is going to be clipped\n",
      "  warnings.warn(\n",
      "\n",
      "/Users/mehuljain/Documents/course_related/ML_Ops/project/Price_Alchemy/.conda/lib/python3.9/site-packages/sklearn/neural_network/_multilayer_perceptron.py:609: UserWarning: Got `batch_size` less than 1 or larger than sample size. It is going to be clipped\n",
      "  warnings.warn(\n",
      "\n",
      "/Users/mehuljain/Documents/course_related/ML_Ops/project/Price_Alchemy/.conda/lib/python3.9/site-packages/sklearn/neural_network/_multilayer_perceptron.py:609: UserWarning: Got `batch_size` less than 1 or larger than sample size. It is going to be clipped\n",
      "  warnings.warn(\n",
      "\n"
     ]
    },
    {
     "name": "stdout",
     "output_type": "stream",
     "text": [
      " 47%|████▋     | 7/15 [01:31<01:28, 11.01s/trial, best loss: 0.7012379880169652]"
     ]
    },
    {
     "name": "stderr",
     "output_type": "stream",
     "text": [
      "/Users/mehuljain/Documents/course_related/ML_Ops/project/Price_Alchemy/.conda/lib/python3.9/site-packages/sklearn/neural_network/_multilayer_perceptron.py:609: UserWarning: Got `batch_size` less than 1 or larger than sample size. It is going to be clipped\n",
      "  warnings.warn(\n",
      "\n",
      "/Users/mehuljain/Documents/course_related/ML_Ops/project/Price_Alchemy/.conda/lib/python3.9/site-packages/sklearn/neural_network/_multilayer_perceptron.py:609: UserWarning: Got `batch_size` less than 1 or larger than sample size. It is going to be clipped\n",
      "  warnings.warn(\n",
      "\n",
      "/Users/mehuljain/Documents/course_related/ML_Ops/project/Price_Alchemy/.conda/lib/python3.9/site-packages/sklearn/neural_network/_multilayer_perceptron.py:609: UserWarning: Got `batch_size` less than 1 or larger than sample size. It is going to be clipped\n",
      "  warnings.warn(\n",
      "\n",
      "/Users/mehuljain/Documents/course_related/ML_Ops/project/Price_Alchemy/.conda/lib/python3.9/site-packages/sklearn/neural_network/_multilayer_perceptron.py:609: UserWarning: Got `batch_size` less than 1 or larger than sample size. It is going to be clipped\n",
      "  warnings.warn(\n",
      "\n",
      "/Users/mehuljain/Documents/course_related/ML_Ops/project/Price_Alchemy/.conda/lib/python3.9/site-packages/sklearn/neural_network/_multilayer_perceptron.py:609: UserWarning: Got `batch_size` less than 1 or larger than sample size. It is going to be clipped\n",
      "  warnings.warn(\n",
      "\n"
     ]
    },
    {
     "name": "stdout",
     "output_type": "stream",
     "text": [
      " 53%|█████▎    | 8/15 [01:38<01:09,  9.95s/trial, best loss: 0.7012379880169652]"
     ]
    },
    {
     "name": "stderr",
     "output_type": "stream",
     "text": [
      "/Users/mehuljain/Documents/course_related/ML_Ops/project/Price_Alchemy/.conda/lib/python3.9/site-packages/sklearn/neural_network/_multilayer_perceptron.py:609: UserWarning: Got `batch_size` less than 1 or larger than sample size. It is going to be clipped\n",
      "  warnings.warn(\n",
      "\n",
      "/Users/mehuljain/Documents/course_related/ML_Ops/project/Price_Alchemy/.conda/lib/python3.9/site-packages/sklearn/neural_network/_multilayer_perceptron.py:609: UserWarning: Got `batch_size` less than 1 or larger than sample size. It is going to be clipped\n",
      "  warnings.warn(\n",
      "\n",
      "/Users/mehuljain/Documents/course_related/ML_Ops/project/Price_Alchemy/.conda/lib/python3.9/site-packages/sklearn/neural_network/_multilayer_perceptron.py:609: UserWarning: Got `batch_size` less than 1 or larger than sample size. It is going to be clipped\n",
      "  warnings.warn(\n",
      "\n",
      "/Users/mehuljain/Documents/course_related/ML_Ops/project/Price_Alchemy/.conda/lib/python3.9/site-packages/sklearn/neural_network/_multilayer_perceptron.py:609: UserWarning: Got `batch_size` less than 1 or larger than sample size. It is going to be clipped\n",
      "  warnings.warn(\n",
      "\n",
      "/Users/mehuljain/Documents/course_related/ML_Ops/project/Price_Alchemy/.conda/lib/python3.9/site-packages/sklearn/neural_network/_multilayer_perceptron.py:609: UserWarning: Got `batch_size` less than 1 or larger than sample size. It is going to be clipped\n",
      "  warnings.warn(\n",
      "\n"
     ]
    },
    {
     "name": "stdout",
     "output_type": "stream",
     "text": [
      " 60%|██████    | 9/15 [01:41<00:46,  7.67s/trial, best loss: 0.7012379880169652]"
     ]
    },
    {
     "name": "stderr",
     "output_type": "stream",
     "text": [
      "/Users/mehuljain/Documents/course_related/ML_Ops/project/Price_Alchemy/.conda/lib/python3.9/site-packages/sklearn/neural_network/_multilayer_perceptron.py:609: UserWarning: Got `batch_size` less than 1 or larger than sample size. It is going to be clipped\n",
      "  warnings.warn(\n",
      "\n",
      "/Users/mehuljain/Documents/course_related/ML_Ops/project/Price_Alchemy/.conda/lib/python3.9/site-packages/sklearn/neural_network/_multilayer_perceptron.py:609: UserWarning: Got `batch_size` less than 1 or larger than sample size. It is going to be clipped\n",
      "  warnings.warn(\n",
      "\n",
      "/Users/mehuljain/Documents/course_related/ML_Ops/project/Price_Alchemy/.conda/lib/python3.9/site-packages/sklearn/neural_network/_multilayer_perceptron.py:609: UserWarning: Got `batch_size` less than 1 or larger than sample size. It is going to be clipped\n",
      "  warnings.warn(\n",
      "\n",
      "/Users/mehuljain/Documents/course_related/ML_Ops/project/Price_Alchemy/.conda/lib/python3.9/site-packages/sklearn/neural_network/_multilayer_perceptron.py:609: UserWarning: Got `batch_size` less than 1 or larger than sample size. It is going to be clipped\n",
      "  warnings.warn(\n",
      "\n",
      "/Users/mehuljain/Documents/course_related/ML_Ops/project/Price_Alchemy/.conda/lib/python3.9/site-packages/sklearn/neural_network/_multilayer_perceptron.py:609: UserWarning: Got `batch_size` less than 1 or larger than sample size. It is going to be clipped\n",
      "  warnings.warn(\n",
      "\n"
     ]
    },
    {
     "name": "stdout",
     "output_type": "stream",
     "text": [
      " 73%|███████▎  | 11/15 [01:56<00:28,  7.20s/trial, best loss: 0.7012379880169652]"
     ]
    },
    {
     "name": "stderr",
     "output_type": "stream",
     "text": [
      "/Users/mehuljain/Documents/course_related/ML_Ops/project/Price_Alchemy/.conda/lib/python3.9/site-packages/sklearn/neural_network/_multilayer_perceptron.py:609: UserWarning: Got `batch_size` less than 1 or larger than sample size. It is going to be clipped\n",
      "  warnings.warn(\n",
      "\n",
      "/Users/mehuljain/Documents/course_related/ML_Ops/project/Price_Alchemy/.conda/lib/python3.9/site-packages/sklearn/neural_network/_multilayer_perceptron.py:609: UserWarning: Got `batch_size` less than 1 or larger than sample size. It is going to be clipped\n",
      "  warnings.warn(\n",
      "\n",
      "/Users/mehuljain/Documents/course_related/ML_Ops/project/Price_Alchemy/.conda/lib/python3.9/site-packages/sklearn/neural_network/_multilayer_perceptron.py:609: UserWarning: Got `batch_size` less than 1 or larger than sample size. It is going to be clipped\n",
      "  warnings.warn(\n",
      "\n",
      "/Users/mehuljain/Documents/course_related/ML_Ops/project/Price_Alchemy/.conda/lib/python3.9/site-packages/sklearn/neural_network/_multilayer_perceptron.py:609: UserWarning: Got `batch_size` less than 1 or larger than sample size. It is going to be clipped\n",
      "  warnings.warn(\n",
      "\n",
      "/Users/mehuljain/Documents/course_related/ML_Ops/project/Price_Alchemy/.conda/lib/python3.9/site-packages/sklearn/neural_network/_multilayer_perceptron.py:609: UserWarning: Got `batch_size` less than 1 or larger than sample size. It is going to be clipped\n",
      "  warnings.warn(\n",
      "\n"
     ]
    },
    {
     "name": "stdout",
     "output_type": "stream",
     "text": [
      " 80%|████████  | 12/15 [02:02<00:21,  7.02s/trial, best loss: 0.7012379880169652]"
     ]
    },
    {
     "name": "stderr",
     "output_type": "stream",
     "text": [
      "/Users/mehuljain/Documents/course_related/ML_Ops/project/Price_Alchemy/.conda/lib/python3.9/site-packages/sklearn/neural_network/_multilayer_perceptron.py:609: UserWarning: Got `batch_size` less than 1 or larger than sample size. It is going to be clipped\n",
      "  warnings.warn(\n",
      "\n",
      "/Users/mehuljain/Documents/course_related/ML_Ops/project/Price_Alchemy/.conda/lib/python3.9/site-packages/sklearn/neural_network/_multilayer_perceptron.py:609: UserWarning: Got `batch_size` less than 1 or larger than sample size. It is going to be clipped\n",
      "  warnings.warn(\n",
      "\n",
      "/Users/mehuljain/Documents/course_related/ML_Ops/project/Price_Alchemy/.conda/lib/python3.9/site-packages/sklearn/neural_network/_multilayer_perceptron.py:609: UserWarning: Got `batch_size` less than 1 or larger than sample size. It is going to be clipped\n",
      "  warnings.warn(\n",
      "\n",
      "/Users/mehuljain/Documents/course_related/ML_Ops/project/Price_Alchemy/.conda/lib/python3.9/site-packages/sklearn/neural_network/_multilayer_perceptron.py:609: UserWarning: Got `batch_size` less than 1 or larger than sample size. It is going to be clipped\n",
      "  warnings.warn(\n",
      "\n",
      "/Users/mehuljain/Documents/course_related/ML_Ops/project/Price_Alchemy/.conda/lib/python3.9/site-packages/sklearn/neural_network/_multilayer_perceptron.py:609: UserWarning: Got `batch_size` less than 1 or larger than sample size. It is going to be clipped\n",
      "  warnings.warn(\n",
      "\n"
     ]
    },
    {
     "name": "stdout",
     "output_type": "stream",
     "text": [
      " 93%|█████████▎| 14/15 [02:27<00:10, 10.25s/trial, best loss: 0.7012379880169652]"
     ]
    },
    {
     "name": "stderr",
     "output_type": "stream",
     "text": [
      "/Users/mehuljain/Documents/course_related/ML_Ops/project/Price_Alchemy/.conda/lib/python3.9/site-packages/sklearn/neural_network/_multilayer_perceptron.py:609: UserWarning: Got `batch_size` less than 1 or larger than sample size. It is going to be clipped\n",
      "  warnings.warn(\n",
      "\n",
      "/Users/mehuljain/Documents/course_related/ML_Ops/project/Price_Alchemy/.conda/lib/python3.9/site-packages/sklearn/neural_network/_multilayer_perceptron.py:609: UserWarning: Got `batch_size` less than 1 or larger than sample size. It is going to be clipped\n",
      "  warnings.warn(\n",
      "\n",
      "/Users/mehuljain/Documents/course_related/ML_Ops/project/Price_Alchemy/.conda/lib/python3.9/site-packages/sklearn/neural_network/_multilayer_perceptron.py:609: UserWarning: Got `batch_size` less than 1 or larger than sample size. It is going to be clipped\n",
      "  warnings.warn(\n",
      "\n",
      "/Users/mehuljain/Documents/course_related/ML_Ops/project/Price_Alchemy/.conda/lib/python3.9/site-packages/sklearn/neural_network/_multilayer_perceptron.py:609: UserWarning: Got `batch_size` less than 1 or larger than sample size. It is going to be clipped\n",
      "  warnings.warn(\n",
      "\n",
      "/Users/mehuljain/Documents/course_related/ML_Ops/project/Price_Alchemy/.conda/lib/python3.9/site-packages/sklearn/neural_network/_multilayer_perceptron.py:609: UserWarning: Got `batch_size` less than 1 or larger than sample size. It is going to be clipped\n",
      "  warnings.warn(\n",
      "\n"
     ]
    },
    {
     "name": "stdout",
     "output_type": "stream",
     "text": [
      "100%|██████████| 15/15 [02:32<00:00, 10.15s/trial, best loss: 0.7012379880169652]\n"
     ]
    }
   ],
   "source": [
    "# define optimization function\n",
    "optmization_function=partial(hpo.optimize,\n",
    "                            X=X,\n",
    "                            y=y.values,\n",
    "                            model=model_dispatch)\n",
    "\n",
    "# define trials \n",
    "trials=Trials()\n",
    "\n",
    "result=fmin(fn=optmization_function,\n",
    "        space=md.PARAMS,\n",
    "        algo=tpe.suggest,\n",
    "        max_evals=15,\n",
    "        trials=trials,\n",
    "        )"
   ]
  },
  {
   "cell_type": "markdown",
   "metadata": {},
   "source": [
    "What are the optimized parameters?"
   ]
  },
  {
   "cell_type": "code",
   "execution_count": 11,
   "metadata": {},
   "outputs": [
    {
     "data": {
      "text/plain": [
       "{'batch_size': 168,\n",
       " 'hidden_layers': 5.0,\n",
       " 'hidden_neurons': 10.0,\n",
       " 'learning_rate': 0,\n",
       " 'learning_rate_init': 0.04557585614660601,\n",
       " 'max_iter': 187.0}"
      ]
     },
     "execution_count": 11,
     "metadata": {},
     "output_type": "execute_result"
    }
   ],
   "source": [
    "result"
   ]
  },
  {
   "cell_type": "markdown",
   "metadata": {},
   "source": [
    "Retrain the model"
   ]
  },
  {
   "cell_type": "code",
   "execution_count": 15,
   "metadata": {},
   "outputs": [
    {
     "name": "stdout",
     "output_type": "stream",
     "text": [
      "{'hidden_layer_sizes': (10, 10, 10, 10, 10), 'max_iter': 187, 'learning_rate_init': 0.04557585614660601, 'batch_size': 168, 'learning_rate': 'invscaling'}\n"
     ]
    },
    {
     "name": "stderr",
     "output_type": "stream",
     "text": [
      "/Users/mehuljain/Documents/course_related/ML_Ops/project/Price_Alchemy/.conda/lib/python3.9/site-packages/sklearn/neural_network/_multilayer_perceptron.py:609: UserWarning: Got `batch_size` less than 1 or larger than sample size. It is going to be clipped\n",
      "  warnings.warn(\n",
      "/Users/mehuljain/Documents/course_related/ML_Ops/project/Price_Alchemy/.conda/lib/python3.9/site-packages/sklearn/neural_network/_multilayer_perceptron.py:609: UserWarning: Got `batch_size` less than 1 or larger than sample size. It is going to be clipped\n",
      "  warnings.warn(\n",
      "/Users/mehuljain/Documents/course_related/ML_Ops/project/Price_Alchemy/.conda/lib/python3.9/site-packages/sklearn/neural_network/_multilayer_perceptron.py:609: UserWarning: Got `batch_size` less than 1 or larger than sample size. It is going to be clipped\n",
      "  warnings.warn(\n",
      "/Users/mehuljain/Documents/course_related/ML_Ops/project/Price_Alchemy/.conda/lib/python3.9/site-packages/sklearn/neural_network/_multilayer_perceptron.py:609: UserWarning: Got `batch_size` less than 1 or larger than sample size. It is going to be clipped\n",
      "  warnings.warn(\n",
      "/Users/mehuljain/Documents/course_related/ML_Ops/project/Price_Alchemy/.conda/lib/python3.9/site-packages/sklearn/neural_network/_multilayer_perceptron.py:609: UserWarning: Got `batch_size` less than 1 or larger than sample size. It is going to be clipped\n",
      "  warnings.warn(\n"
     ]
    }
   ],
   "source": [
    "lr_type=[\"invscaling\",\"adaptive\"]\n",
    "\n",
    "ps= { \n",
    "    'hidden_layer_sizes': tuple([int(result['hidden_neurons'])] * int(result['hidden_layers'])),\n",
    "    \"max_iter\":int(result[\"max_iter\"]),\n",
    "    \"learning_rate_init\": float(result[\"learning_rate_init\"]),\n",
    "    \"batch_size\":int(result[\"batch_size\"]),\n",
    "    \"learning_rate\":lr_type[int(result[\"learning_rate\"])]\n",
    "    }\n",
    "\n",
    "print(ps)\n",
    "\n",
    "# set optimized parameters\n",
    "model_dispatch.set_params(**ps)\n",
    "\n",
    "# train the model\n",
    "model,metrics= tr.train_model(X, y.values, model=model_dispatch)"
   ]
  },
  {
   "cell_type": "markdown",
   "metadata": {},
   "source": [
    "Print the metrics from the cross-validation"
   ]
  },
  {
   "cell_type": "code",
   "execution_count": 16,
   "metadata": {},
   "outputs": [
    {
     "data": {
      "text/plain": [
       "{'mse': 632.2259892887663,\n",
       " 'rmse': 24.048055477678677,\n",
       " 'r_2': -0.022787995400798945,\n",
       " 'rmsle': 0.7012379880169652}"
      ]
     },
     "execution_count": 16,
     "metadata": {},
     "output_type": "execute_result"
    }
   ],
   "source": [
    "metrics"
   ]
  },
  {
   "cell_type": "markdown",
   "metadata": {},
   "source": []
  }
 ],
 "metadata": {
  "kernelspec": {
   "display_name": "Python 3.9.18 (conda)",
   "language": "python",
   "name": "python3"
  },
  "language_info": {
   "codemirror_mode": {
    "name": "ipython",
    "version": 3
   },
   "file_extension": ".py",
   "mimetype": "text/x-python",
   "name": "python",
   "nbconvert_exporter": "python",
   "pygments_lexer": "ipython3",
   "version": "3.9.18"
  },
  "orig_nbformat": 4,
  "vscode": {
   "interpreter": {
    "hash": "03646948cc1eca1aab1a6d754d674736dcb5138b87307cb760ddb3b102c41299"
   }
  }
 },
 "nbformat": 4,
 "nbformat_minor": 2
}
