{
 "cells": [
  {
   "cell_type": "markdown",
   "metadata": {},
   "source": [
    "# Experiment tracking with MLFLow:"
   ]
  },
  {
   "cell_type": "markdown",
   "metadata": {},
   "source": [
    "This notebook is all about performing and tracking different experiments using MLFlow."
   ]
  },
  {
   "cell_type": "code",
   "execution_count": 1,
   "metadata": {},
   "outputs": [],
   "source": [
    "import numpy as np\n",
    "import pandas as pd    \n",
    "# price alchemy imports\n",
    "import price_alchemy.config as cfg\n",
    "from price_alchemy.config import WordVectorTransformer\n",
    "from price_alchemy.data_loading import load_data_sql, load_data_gcp\n",
    "from price_alchemy.data_preprocessing import sample_df, preprocessing_pipe\n",
    "from price_alchemy import train\n",
    "from price_alchemy import model_dispatcher as mdl\n",
    "from cred import MYSQL_PASSWORD\n",
    "\n",
    "import mlflow\n",
    "from mlflow.models import infer_signature"
   ]
  },
  {
   "cell_type": "code",
   "execution_count": 2,
   "metadata": {},
   "outputs": [
    {
     "name": "stdout",
     "output_type": "stream",
     "text": [
      "/Users/mehuljain/Documents/course_related/ML_Ops/project/Price_Alchemy\n"
     ]
    },
    {
     "name": "stderr",
     "output_type": "stream",
     "text": [
      "/Users/mehuljain/Documents/course_related/ML_Ops/project/Price_Alchemy/.conda/lib/python3.9/site-packages/IPython/core/magics/osm.py:417: UserWarning: using dhist requires you to install the `pickleshare` library.\n",
      "  self.shell.db['dhist'] = compress_dhist(dhist)[-100:]\n"
     ]
    }
   ],
   "source": [
    "cd .."
   ]
  },
  {
   "cell_type": "code",
   "execution_count": 3,
   "metadata": {},
   "outputs": [
    {
     "name": "stdout",
     "output_type": "stream",
     "text": [
      "README.md             \u001b[34mmlruns\u001b[m\u001b[m/               setup.cfg\n",
      "\u001b[34mconfig\u001b[m\u001b[m/               \u001b[34mmodels\u001b[m\u001b[m/               setup.py\n",
      "\u001b[34mdags\u001b[m\u001b[m/                 \u001b[34mnotebooks\u001b[m\u001b[m/            \u001b[34mtests\u001b[m\u001b[m/\n",
      "\u001b[34mdata\u001b[m\u001b[m/                 \u001b[34mplugins\u001b[m\u001b[m/              tox.ini\n",
      "docker-compose.yaml   pyproject.toml        \u001b[34mworking_data\u001b[m\u001b[m/\n",
      "\u001b[34mlogs\u001b[m\u001b[m/                 requirements.txt\n",
      "\u001b[34mmlartifacts\u001b[m\u001b[m/          requirements_dev.txt\n"
     ]
    }
   ],
   "source": [
    "ls"
   ]
  },
  {
   "cell_type": "markdown",
   "metadata": {},
   "source": [
    "## Load the data:"
   ]
  },
  {
   "cell_type": "code",
   "execution_count": 4,
   "metadata": {},
   "outputs": [],
   "source": [
    "df= load_data_sql(MYSQL_PASSWORD)"
   ]
  },
  {
   "cell_type": "code",
   "execution_count": 5,
   "metadata": {},
   "outputs": [],
   "source": [
    "# in case of no internet\n",
    "# df= pd.read_csv('data/train.csv')"
   ]
  },
  {
   "cell_type": "markdown",
   "metadata": {},
   "source": [
    "Since the dataset is very large, we will select a subset of rows from the dataset."
   ]
  },
  {
   "cell_type": "code",
   "execution_count": 6,
   "metadata": {},
   "outputs": [],
   "source": [
    "df_sample= sample_df(df, sample_size=20000)"
   ]
  },
  {
   "cell_type": "markdown",
   "metadata": {},
   "source": [
    "## Data Preprocessing"
   ]
  },
  {
   "cell_type": "code",
   "execution_count": 7,
   "metadata": {},
   "outputs": [
    {
     "name": "stderr",
     "output_type": "stream",
     "text": [
      "/Users/mehuljain/Documents/course_related/ML_Ops/project/Price_Alchemy/dags/price_alchemy/data_preprocessing.py:142: FutureWarning: A value is trying to be set on a copy of a DataFrame or Series through chained assignment using an inplace method.\n",
      "The behavior will change in pandas 3.0. This inplace method will never work because the intermediate object on which we are setting values always behaves as a copy.\n",
      "\n",
      "For example, when doing 'df[col].method(value, inplace=True)', try using 'df.method({col: value}, inplace=True)' or df[col] = df[col].method(value) instead, to perform the operation inplace on the original object.\n",
      "\n",
      "\n",
      "  df['category_name'].replace('', np.nan, inplace=True)\n",
      "/Users/mehuljain/Documents/course_related/ML_Ops/project/Price_Alchemy/dags/price_alchemy/data_preprocessing.py:146: SettingWithCopyWarning: \n",
      "A value is trying to be set on a copy of a slice from a DataFrame.\n",
      "Try using .loc[row_indexer,col_indexer] = value instead\n",
      "\n",
      "See the caveats in the documentation: https://pandas.pydata.org/pandas-docs/stable/user_guide/indexing.html#returning-a-view-versus-a-copy\n",
      "  m_df['price'] = pd.to_numeric(m_df['price'], errors='coerce')\n"
     ]
    }
   ],
   "source": [
    "text_prep= cfg.TEXT_PREP_OPTS['spacy']\n",
    "col_trans= 'tfidf_chargram'\n",
    "\n",
    "X,y= preprocessing_pipe(df_sample, text_prep, cfg.COL_TRANS_OPTS[col_trans])"
   ]
  },
  {
   "cell_type": "code",
   "execution_count": 8,
   "metadata": {},
   "outputs": [
    {
     "data": {
      "text/plain": [
       "('version_2', 'tfidf_chargram')"
      ]
     },
     "execution_count": 8,
     "metadata": {},
     "output_type": "execute_result"
    }
   ],
   "source": [
    "text_prep, col_trans"
   ]
  },
  {
   "cell_type": "code",
   "execution_count": 9,
   "metadata": {},
   "outputs": [
    {
     "data": {
      "text/plain": [
       "((19899, 21597), (19899,))"
      ]
     },
     "execution_count": 9,
     "metadata": {},
     "output_type": "execute_result"
    }
   ],
   "source": [
    "X.shape, y.shape"
   ]
  },
  {
   "cell_type": "markdown",
   "metadata": {},
   "source": [
    "## Model Training:"
   ]
  },
  {
   "cell_type": "code",
   "execution_count": 10,
   "metadata": {},
   "outputs": [],
   "source": [
    "model_dispatch= mdl.models['mlp_three']"
   ]
  },
  {
   "cell_type": "code",
   "execution_count": 11,
   "metadata": {},
   "outputs": [],
   "source": [
    "model,metrics= train.train_model(X, y.values, model=model_dispatch)"
   ]
  },
  {
   "cell_type": "code",
   "execution_count": 12,
   "metadata": {},
   "outputs": [
    {
     "data": {
      "text/plain": [
       "'MLPRegressor'"
      ]
     },
     "execution_count": 12,
     "metadata": {},
     "output_type": "execute_result"
    }
   ],
   "source": [
    "type(model).__name__"
   ]
  },
  {
   "cell_type": "markdown",
   "metadata": {},
   "source": [
    "Let's see the metrics from the training "
   ]
  },
  {
   "cell_type": "code",
   "execution_count": 13,
   "metadata": {},
   "outputs": [
    {
     "data": {
      "text/plain": [
       "{'mse': 884.0765325883979,\n",
       " 'rmse': 29.679470443352887,\n",
       " 'r_2': 0.270624432316357,\n",
       " 'rmsle': 0.6238843318348232}"
      ]
     },
     "execution_count": 13,
     "metadata": {},
     "output_type": "execute_result"
    }
   ],
   "source": [
    "metrics"
   ]
  },
  {
   "cell_type": "code",
   "execution_count": 14,
   "metadata": {},
   "outputs": [
    {
     "data": {
      "text/plain": [
       "array([21.94690821, 69.25834846, 40.55355851,  9.33425172, 35.92195709,\n",
       "       72.68633802, 58.03286239, 48.7548652 , 15.86368067,  9.33425172,\n",
       "       24.81447286, 10.98481595, 17.84595648, 16.71253165,  9.33425172,\n",
       "        9.46586458, 17.01603458, 19.4312279 , 72.20292543, 35.29102883])"
      ]
     },
     "execution_count": 14,
     "metadata": {},
     "output_type": "execute_result"
    }
   ],
   "source": [
    "model.predict(X[:20])"
   ]
  },
  {
   "cell_type": "code",
   "execution_count": 15,
   "metadata": {},
   "outputs": [
    {
     "data": {
      "text/plain": [
       "array([15., 81., 10., 12., 24., 29., 64., 46., 10.,  4., 35.,  8., 22.,\n",
       "       11., 12.,  4., 15., 16., 22., 30.])"
      ]
     },
     "execution_count": 15,
     "metadata": {},
     "output_type": "execute_result"
    }
   ],
   "source": [
    "y[:20].values"
   ]
  },
  {
   "cell_type": "markdown",
   "metadata": {},
   "source": [
    "## Logging experiment:"
   ]
  },
  {
   "cell_type": "code",
   "execution_count": 16,
   "metadata": {},
   "outputs": [
    {
     "name": "stderr",
     "output_type": "stream",
     "text": [
      "Registered model 'mlp-chargram' already exists. Creating a new version of this model...\n",
      "2024/04/15 18:52:45 INFO mlflow.store.model_registry.abstract_store: Waiting up to 300 seconds for model version to finish creation. Model name: mlp-chargram, version 2\n",
      "Created version '2' of model 'mlp-chargram'.\n"
     ]
    }
   ],
   "source": [
    "# Set our tracking server uri for logging\n",
    "mlflow.set_tracking_uri(uri=\"http://127.0.0.1:8080\")\n",
    "\n",
    "# Create a new MLflow Experiment\n",
    "mlflow.set_experiment(\"tfidf_chargram\")\n",
    "\n",
    "# Start an MLflow run\n",
    "with mlflow.start_run():\n",
    "    # Log the hyperparameters\n",
    "    mlflow.log_params(model.get_params())\n",
    "\n",
    "    # Log the loss metric\n",
    "    mlflow.log_metric(\"mean squared error\", metrics['mse'])\n",
    "    mlflow.log_metric(\"root mean squared error\", metrics['rmse'])\n",
    "    mlflow.log_metric(\"mean squared log error\", metrics['rmsle'])\n",
    "    mlflow.log_metric(\"r2\", metrics['r_2'])\n",
    "\n",
    "    # Set a tag that we can use to remind ourselves what this run was for\n",
    "    mlflow.set_tag(\"sample_size\", f\"{X.shape[0]}\")\n",
    "    mlflow.set_tag(\"num_cols\", f\"{X.shape[1]}\")\n",
    "    mlflow.set_tag(\"text_preprocessor\", f\"{text_prep}\")\n",
    "    mlflow.set_tag(\"column_transformer\", f\"{col_trans}\")\n",
    "    mlflow.set_tag(\"model_name\",f\"{type(model).__name__}\")\n",
    "\n",
    "    # Infer the model signature\n",
    "    signature = infer_signature(X, model.predict(X))\n",
    "\n",
    "    # Log the model\n",
    "    model_info = mlflow.sklearn.log_model(\n",
    "        sk_model=model,\n",
    "        artifact_path=\"mlp3_reg\",\n",
    "        signature=signature,\n",
    "        input_example=X,\n",
    "        registered_model_name=\"mlp-chargram\",\n",
    "    )"
   ]
  }
 ],
 "metadata": {
  "kernelspec": {
   "display_name": "Python 3.9.18 (conda)",
   "language": "python",
   "name": "python3"
  },
  "language_info": {
   "codemirror_mode": {
    "name": "ipython",
    "version": 3
   },
   "file_extension": ".py",
   "mimetype": "text/x-python",
   "name": "python",
   "nbconvert_exporter": "python",
   "pygments_lexer": "ipython3",
   "version": "3.9.18"
  },
  "orig_nbformat": 4,
  "vscode": {
   "interpreter": {
    "hash": "03646948cc1eca1aab1a6d754d674736dcb5138b87307cb760ddb3b102c41299"
   }
  }
 },
 "nbformat": 4,
 "nbformat_minor": 2
}
