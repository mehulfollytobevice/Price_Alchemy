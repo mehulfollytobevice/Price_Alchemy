{
 "cells": [
  {
   "cell_type": "markdown",
   "metadata": {},
   "source": [
    "# Data preprocessing v1:\n",
    "This notebook contains code for preprocessing the raw data and creating a cleaned dataframe for model building. \n"
   ]
  },
  {
   "cell_type": "code",
   "execution_count": 1,
   "metadata": {},
   "outputs": [],
   "source": [
    "# import libraries\n",
    "import pandas as pd\n",
    "import numpy as np\n",
    "import nltk\n",
    "from nltk.corpus import stopwords\n",
    "from nltk.stem import PorterStemmer\n",
    "import re\n",
    "from tqdm import tqdm\n",
    "from sklearn.compose import ColumnTransformer\n",
    "from sklearn.preprocessing import OneHotEncoder, OrdinalEncoder, MinMaxScaler\n",
    "from sklearn.feature_extraction.text import CountVectorizer, TfidfVectorizer\n",
    "import pickle"
   ]
  },
  {
   "cell_type": "markdown",
   "metadata": {},
   "source": [
    "Load the data "
   ]
  },
  {
   "cell_type": "code",
   "execution_count": 2,
   "metadata": {},
   "outputs": [],
   "source": [
    "gcp_url = 'https://storage.googleapis.com/price_alchemy/Data/data.csv'\n",
    "df = pd.read_csv(gcp_url)"
   ]
  },
  {
   "cell_type": "code",
   "execution_count": 3,
   "metadata": {},
   "outputs": [
    {
     "name": "stdout",
     "output_type": "stream",
     "text": [
      "<class 'pandas.core.frame.DataFrame'>\n",
      "RangeIndex: 972406 entries, 0 to 972405\n",
      "Data columns (total 10 columns):\n",
      " #   Column             Non-Null Count   Dtype  \n",
      "---  ------             --------------   -----  \n",
      " 0   train_id           972406 non-null  int64  \n",
      " 1   name               972406 non-null  object \n",
      " 2   item_condition_id  972406 non-null  int64  \n",
      " 3   category_name      967865 non-null  object \n",
      " 4   brand_name         534339 non-null  object \n",
      " 5   price              972406 non-null  float64\n",
      " 6   shipping           972406 non-null  int64  \n",
      " 7   item_description   972403 non-null  object \n",
      " 8   created_at         972406 non-null  object \n",
      " 9   last_updated_at    972406 non-null  object \n",
      "dtypes: float64(1), int64(3), object(6)\n",
      "memory usage: 74.2+ MB\n"
     ]
    }
   ],
   "source": [
    "df.info()"
   ]
  },
  {
   "cell_type": "code",
   "execution_count": 4,
   "metadata": {},
   "outputs": [
    {
     "data": {
      "text/html": [
       "<div>\n",
       "<style scoped>\n",
       "    .dataframe tbody tr th:only-of-type {\n",
       "        vertical-align: middle;\n",
       "    }\n",
       "\n",
       "    .dataframe tbody tr th {\n",
       "        vertical-align: top;\n",
       "    }\n",
       "\n",
       "    .dataframe thead th {\n",
       "        text-align: right;\n",
       "    }\n",
       "</style>\n",
       "<table border=\"1\" class=\"dataframe\">\n",
       "  <thead>\n",
       "    <tr style=\"text-align: right;\">\n",
       "      <th></th>\n",
       "      <th>train_id</th>\n",
       "      <th>name</th>\n",
       "      <th>item_condition_id</th>\n",
       "      <th>category_name</th>\n",
       "      <th>brand_name</th>\n",
       "      <th>price</th>\n",
       "      <th>shipping</th>\n",
       "      <th>item_description</th>\n",
       "      <th>created_at</th>\n",
       "      <th>last_updated_at</th>\n",
       "    </tr>\n",
       "  </thead>\n",
       "  <tbody>\n",
       "    <tr>\n",
       "      <th>0</th>\n",
       "      <td>793697</td>\n",
       "      <td>Plaid Vest</td>\n",
       "      <td>2</td>\n",
       "      <td>Women/Coats &amp; Jackets/Vest</td>\n",
       "      <td>Old Navy</td>\n",
       "      <td>11.0</td>\n",
       "      <td>1</td>\n",
       "      <td>Green and blue. Very thick and soft! Perfect f...</td>\n",
       "      <td>2022-01-01 00:00:00</td>\n",
       "      <td>2022-01-01 00:00:00</td>\n",
       "    </tr>\n",
       "    <tr>\n",
       "      <th>1</th>\n",
       "      <td>402094</td>\n",
       "      <td>Women's Sperrys</td>\n",
       "      <td>3</td>\n",
       "      <td>Women/Shoes/Loafers &amp; Slip-Ons</td>\n",
       "      <td>Sperrys</td>\n",
       "      <td>21.0</td>\n",
       "      <td>0</td>\n",
       "      <td>EUC</td>\n",
       "      <td>2022-01-01 00:01:00</td>\n",
       "      <td>2022-01-01 00:01:00</td>\n",
       "    </tr>\n",
       "    <tr>\n",
       "      <th>2</th>\n",
       "      <td>522439</td>\n",
       "      <td>Grey sweater dress</td>\n",
       "      <td>1</td>\n",
       "      <td>Women/Dresses/Other</td>\n",
       "      <td>Fashion Nova</td>\n",
       "      <td>20.0</td>\n",
       "      <td>1</td>\n",
       "      <td>This is a heather grey sweater dress from fash...</td>\n",
       "      <td>2022-01-01 00:01:00</td>\n",
       "      <td>2022-01-01 00:01:00</td>\n",
       "    </tr>\n",
       "    <tr>\n",
       "      <th>3</th>\n",
       "      <td>214455</td>\n",
       "      <td>Tory Burch 'Perry' Leather Wallet</td>\n",
       "      <td>3</td>\n",
       "      <td>Women/Women's Accessories/Wallets</td>\n",
       "      <td>Tory Burch</td>\n",
       "      <td>91.0</td>\n",
       "      <td>0</td>\n",
       "      <td>Tory Burch 'Perry' Leather Zip Continental Wal...</td>\n",
       "      <td>2022-01-01 00:03:00</td>\n",
       "      <td>2022-01-01 00:03:00</td>\n",
       "    </tr>\n",
       "    <tr>\n",
       "      <th>4</th>\n",
       "      <td>902755</td>\n",
       "      <td>Fujifilm Rainbow Instax Film</td>\n",
       "      <td>1</td>\n",
       "      <td>Electronics/Cameras &amp; Photography/Film Photogr...</td>\n",
       "      <td>Fuji</td>\n",
       "      <td>14.0</td>\n",
       "      <td>0</td>\n",
       "      <td>No description yet</td>\n",
       "      <td>2022-01-01 00:05:00</td>\n",
       "      <td>2022-01-01 00:05:00</td>\n",
       "    </tr>\n",
       "  </tbody>\n",
       "</table>\n",
       "</div>"
      ],
      "text/plain": [
       "   train_id                               name  item_condition_id  \\\n",
       "0    793697                         Plaid Vest                  2   \n",
       "1    402094                    Women's Sperrys                  3   \n",
       "2    522439                 Grey sweater dress                  1   \n",
       "3    214455  Tory Burch 'Perry' Leather Wallet                  3   \n",
       "4    902755       Fujifilm Rainbow Instax Film                  1   \n",
       "\n",
       "                                       category_name    brand_name  price  \\\n",
       "0                         Women/Coats & Jackets/Vest      Old Navy   11.0   \n",
       "1                     Women/Shoes/Loafers & Slip-Ons       Sperrys   21.0   \n",
       "2                                Women/Dresses/Other  Fashion Nova   20.0   \n",
       "3                  Women/Women's Accessories/Wallets    Tory Burch   91.0   \n",
       "4  Electronics/Cameras & Photography/Film Photogr...          Fuji   14.0   \n",
       "\n",
       "   shipping                                   item_description  \\\n",
       "0         1  Green and blue. Very thick and soft! Perfect f...   \n",
       "1         0                                                EUC   \n",
       "2         1  This is a heather grey sweater dress from fash...   \n",
       "3         0  Tory Burch 'Perry' Leather Zip Continental Wal...   \n",
       "4         0                                 No description yet   \n",
       "\n",
       "            created_at      last_updated_at  \n",
       "0  2022-01-01 00:00:00  2022-01-01 00:00:00  \n",
       "1  2022-01-01 00:01:00  2022-01-01 00:01:00  \n",
       "2  2022-01-01 00:01:00  2022-01-01 00:01:00  \n",
       "3  2022-01-01 00:03:00  2022-01-01 00:03:00  \n",
       "4  2022-01-01 00:05:00  2022-01-01 00:05:00  "
      ]
     },
     "execution_count": 4,
     "metadata": {},
     "output_type": "execute_result"
    }
   ],
   "source": [
    "df.head()"
   ]
  },
  {
   "cell_type": "markdown",
   "metadata": {},
   "source": [
    "Basic Preprocessing"
   ]
  },
  {
   "cell_type": "code",
   "execution_count": 5,
   "metadata": {},
   "outputs": [],
   "source": [
    "df=df.iloc[:100,:]"
   ]
  },
  {
   "cell_type": "code",
   "execution_count": 6,
   "metadata": {},
   "outputs": [
    {
     "name": "stderr",
     "output_type": "stream",
     "text": [
      "/var/folders/ln/ryk6y70j7rg4321f6rt3hxx80000gn/T/ipykernel_54271/956694572.py:6: SettingWithCopyWarning: \n",
      "A value is trying to be set on a copy of a slice from a DataFrame.\n",
      "Try using .loc[row_indexer,col_indexer] = value instead\n",
      "\n",
      "See the caveats in the documentation: https://pandas.pydata.org/pandas-docs/stable/user_guide/indexing.html#returning-a-view-versus-a-copy\n",
      "  m_df['price'] = pd.to_numeric(m_df['price'], errors='coerce')\n"
     ]
    }
   ],
   "source": [
    "# Preprocessing steps\n",
    "# 1. Remove rows with missing values in the 'price' column\n",
    "m_df=df.dropna(subset=['price','category_name'])\n",
    "\n",
    "# 2. Convert 'price' to numeric\n",
    "m_df['price'] = pd.to_numeric(m_df['price'], errors='coerce')\n",
    "\n",
    "# 3. Remove rows with price <= 0\n",
    "m_df = m_df[m_df['price'] > 0]\n",
    "\n",
    "# 4. Convert 'shipping' to categorical\n",
    "m_df['shipping'] = m_df['shipping'].astype('category')\n",
    "\n",
    "# 5. Convert 'item_condition_id' to categorical\n",
    "m_df['item_condition_id'] = m_df['item_condition_id'].astype('category')\n",
    "\n",
    "# 6. Drop created and updated at\n",
    "try:\n",
    "    m_df = m_df.drop(columns=['created_at', 'last_updated_at'])\n",
    "except:\n",
    "    pass\n",
    "\n",
    "# 7. fill null text values\n",
    "m_df['brand_name']=m_df['brand_name'].fillna('Not known')\n",
    "m_df['name']=m_df['name'].fillna('No name')\n",
    "m_df['item_description']=m_df['item_description'].fillna('No description yet')\n"
   ]
  },
  {
   "cell_type": "markdown",
   "metadata": {},
   "source": [
    "Let's try the split category function"
   ]
  },
  {
   "cell_type": "code",
   "execution_count": 7,
   "metadata": {},
   "outputs": [],
   "source": [
    "def split_cat(category_str):\n",
    "\n",
    "    # split by '/'\n",
    "    l=category_str.split('/')\n",
    "\n",
    "    # return list\n",
    "    l_ret= l[:2]\n",
    "    \n",
    "    # rest of the categories\n",
    "    rest= l[2:]\n",
    "    rest_cat= '/'.join(rest)\n",
    "\n",
    "    # add rest of categories as one category\n",
    "    l_ret.append(rest_cat)\n",
    "           \n",
    "    return l_ret"
   ]
  },
  {
   "cell_type": "code",
   "execution_count": 8,
   "metadata": {},
   "outputs": [
    {
     "data": {
      "text/plain": [
       "['Electronics', 'Computers & Tablets', 'iPad/Tablet/eBook Access']"
      ]
     },
     "execution_count": 8,
     "metadata": {},
     "output_type": "execute_result"
    }
   ],
   "source": [
    "split_cat('Electronics/Computers & Tablets/iPad/Tablet/eBook Access')"
   ]
  },
  {
   "cell_type": "markdown",
   "metadata": {},
   "source": [
    "Apply this function on the `category` column"
   ]
  },
  {
   "cell_type": "code",
   "execution_count": 9,
   "metadata": {},
   "outputs": [],
   "source": [
    "m_df['category_split']= m_df['category_name'].apply(lambda x: split_cat(x))"
   ]
  },
  {
   "cell_type": "code",
   "execution_count": 10,
   "metadata": {},
   "outputs": [],
   "source": [
    "m_df['parent_category']=m_df['category_split'].apply(lambda x: x[0])\n",
    "m_df['child_category']=m_df['category_split'].apply(lambda x: x[1])\n",
    "m_df['grandchild_category']=m_df['category_split'].apply(lambda x: x[2])"
   ]
  },
  {
   "cell_type": "code",
   "execution_count": 11,
   "metadata": {},
   "outputs": [
    {
     "data": {
      "text/html": [
       "<div>\n",
       "<style scoped>\n",
       "    .dataframe tbody tr th:only-of-type {\n",
       "        vertical-align: middle;\n",
       "    }\n",
       "\n",
       "    .dataframe tbody tr th {\n",
       "        vertical-align: top;\n",
       "    }\n",
       "\n",
       "    .dataframe thead th {\n",
       "        text-align: right;\n",
       "    }\n",
       "</style>\n",
       "<table border=\"1\" class=\"dataframe\">\n",
       "  <thead>\n",
       "    <tr style=\"text-align: right;\">\n",
       "      <th></th>\n",
       "      <th>train_id</th>\n",
       "      <th>name</th>\n",
       "      <th>item_condition_id</th>\n",
       "      <th>category_name</th>\n",
       "      <th>brand_name</th>\n",
       "      <th>price</th>\n",
       "      <th>shipping</th>\n",
       "      <th>item_description</th>\n",
       "      <th>category_split</th>\n",
       "      <th>parent_category</th>\n",
       "      <th>child_category</th>\n",
       "      <th>grandchild_category</th>\n",
       "    </tr>\n",
       "  </thead>\n",
       "  <tbody>\n",
       "    <tr>\n",
       "      <th>0</th>\n",
       "      <td>793697</td>\n",
       "      <td>Plaid Vest</td>\n",
       "      <td>2</td>\n",
       "      <td>Women/Coats &amp; Jackets/Vest</td>\n",
       "      <td>Old Navy</td>\n",
       "      <td>11.0</td>\n",
       "      <td>1</td>\n",
       "      <td>Green and blue. Very thick and soft! Perfect f...</td>\n",
       "      <td>[Women, Coats &amp; Jackets, Vest]</td>\n",
       "      <td>Women</td>\n",
       "      <td>Coats &amp; Jackets</td>\n",
       "      <td>Vest</td>\n",
       "    </tr>\n",
       "    <tr>\n",
       "      <th>1</th>\n",
       "      <td>402094</td>\n",
       "      <td>Women's Sperrys</td>\n",
       "      <td>3</td>\n",
       "      <td>Women/Shoes/Loafers &amp; Slip-Ons</td>\n",
       "      <td>Sperrys</td>\n",
       "      <td>21.0</td>\n",
       "      <td>0</td>\n",
       "      <td>EUC</td>\n",
       "      <td>[Women, Shoes, Loafers &amp; Slip-Ons]</td>\n",
       "      <td>Women</td>\n",
       "      <td>Shoes</td>\n",
       "      <td>Loafers &amp; Slip-Ons</td>\n",
       "    </tr>\n",
       "    <tr>\n",
       "      <th>2</th>\n",
       "      <td>522439</td>\n",
       "      <td>Grey sweater dress</td>\n",
       "      <td>1</td>\n",
       "      <td>Women/Dresses/Other</td>\n",
       "      <td>Fashion Nova</td>\n",
       "      <td>20.0</td>\n",
       "      <td>1</td>\n",
       "      <td>This is a heather grey sweater dress from fash...</td>\n",
       "      <td>[Women, Dresses, Other]</td>\n",
       "      <td>Women</td>\n",
       "      <td>Dresses</td>\n",
       "      <td>Other</td>\n",
       "    </tr>\n",
       "    <tr>\n",
       "      <th>3</th>\n",
       "      <td>214455</td>\n",
       "      <td>Tory Burch 'Perry' Leather Wallet</td>\n",
       "      <td>3</td>\n",
       "      <td>Women/Women's Accessories/Wallets</td>\n",
       "      <td>Tory Burch</td>\n",
       "      <td>91.0</td>\n",
       "      <td>0</td>\n",
       "      <td>Tory Burch 'Perry' Leather Zip Continental Wal...</td>\n",
       "      <td>[Women, Women's Accessories, Wallets]</td>\n",
       "      <td>Women</td>\n",
       "      <td>Women's Accessories</td>\n",
       "      <td>Wallets</td>\n",
       "    </tr>\n",
       "    <tr>\n",
       "      <th>4</th>\n",
       "      <td>902755</td>\n",
       "      <td>Fujifilm Rainbow Instax Film</td>\n",
       "      <td>1</td>\n",
       "      <td>Electronics/Cameras &amp; Photography/Film Photogr...</td>\n",
       "      <td>Fuji</td>\n",
       "      <td>14.0</td>\n",
       "      <td>0</td>\n",
       "      <td>No description yet</td>\n",
       "      <td>[Electronics, Cameras &amp; Photography, Film Phot...</td>\n",
       "      <td>Electronics</td>\n",
       "      <td>Cameras &amp; Photography</td>\n",
       "      <td>Film Photography</td>\n",
       "    </tr>\n",
       "  </tbody>\n",
       "</table>\n",
       "</div>"
      ],
      "text/plain": [
       "   train_id                               name item_condition_id  \\\n",
       "0    793697                         Plaid Vest                 2   \n",
       "1    402094                    Women's Sperrys                 3   \n",
       "2    522439                 Grey sweater dress                 1   \n",
       "3    214455  Tory Burch 'Perry' Leather Wallet                 3   \n",
       "4    902755       Fujifilm Rainbow Instax Film                 1   \n",
       "\n",
       "                                       category_name    brand_name  price  \\\n",
       "0                         Women/Coats & Jackets/Vest      Old Navy   11.0   \n",
       "1                     Women/Shoes/Loafers & Slip-Ons       Sperrys   21.0   \n",
       "2                                Women/Dresses/Other  Fashion Nova   20.0   \n",
       "3                  Women/Women's Accessories/Wallets    Tory Burch   91.0   \n",
       "4  Electronics/Cameras & Photography/Film Photogr...          Fuji   14.0   \n",
       "\n",
       "  shipping                                   item_description  \\\n",
       "0        1  Green and blue. Very thick and soft! Perfect f...   \n",
       "1        0                                                EUC   \n",
       "2        1  This is a heather grey sweater dress from fash...   \n",
       "3        0  Tory Burch 'Perry' Leather Zip Continental Wal...   \n",
       "4        0                                 No description yet   \n",
       "\n",
       "                                      category_split parent_category  \\\n",
       "0                     [Women, Coats & Jackets, Vest]           Women   \n",
       "1                 [Women, Shoes, Loafers & Slip-Ons]           Women   \n",
       "2                            [Women, Dresses, Other]           Women   \n",
       "3              [Women, Women's Accessories, Wallets]           Women   \n",
       "4  [Electronics, Cameras & Photography, Film Phot...     Electronics   \n",
       "\n",
       "          child_category grandchild_category  \n",
       "0        Coats & Jackets                Vest  \n",
       "1                  Shoes  Loafers & Slip-Ons  \n",
       "2                Dresses               Other  \n",
       "3    Women's Accessories             Wallets  \n",
       "4  Cameras & Photography    Film Photography  "
      ]
     },
     "execution_count": 11,
     "metadata": {},
     "output_type": "execute_result"
    }
   ],
   "source": [
    "m_df.head()"
   ]
  },
  {
   "cell_type": "markdown",
   "metadata": {},
   "source": [
    "Selecting final columns"
   ]
  },
  {
   "cell_type": "code",
   "execution_count": 12,
   "metadata": {},
   "outputs": [],
   "source": [
    "m_df=m_df[['train_id', 'name','item_condition_id','brand_name',\n",
    "'parent_category','child_category','grandchild_category',\n",
    "'shipping','item_description','price']]"
   ]
  },
  {
   "cell_type": "markdown",
   "metadata": {},
   "source": [
    "Preprocess the text columns"
   ]
  },
  {
   "cell_type": "code",
   "execution_count": 13,
   "metadata": {},
   "outputs": [],
   "source": [
    "def process_name(data):\n",
    "\n",
    "    corpus=[]\n",
    "    \n",
    "    for i in tqdm(data):\n",
    "   \n",
    "        dis=i.lower() # converting into lower case\n",
    "        corpus.append(dis)\n",
    "\n",
    "    return corpus"
   ]
  },
  {
   "cell_type": "code",
   "execution_count": 14,
   "metadata": {},
   "outputs": [],
   "source": [
    "def preprocess(data):\n",
    "    \n",
    "    corpus=[]\n",
    "    ps=PorterStemmer()\n",
    "    \n",
    "    for i in tqdm(data):\n",
    "        \n",
    "        try:\n",
    "            dis=re.sub(r'https?:\\/\\/.*[\\r\\n]*', '',i)  #removing hyperlinks\n",
    "            dis=re.sub(r'http?:\\/\\/.*[\\r\\n]*', '',dis) #removing hyperlinks\n",
    "            #dis=re.sub(r'\\@[a-zA-Z0-9]\\w+',\" \",dis) # removing account mentions actually decreases the accuracy of the model \n",
    "            dis=re.sub('[^a-zA-Z]',\" \",dis) #removing punctuation marks and numbers\n",
    "            dis=dis.lower() # converting into lower case\n",
    "            dis=dis.split() # splitting \n",
    "            dis=[ps.stem(word) for word in dis if not word in set(stopwords.words(\"english\"))]  #stemming the words to trim down the number of words\n",
    "            dis=' '.join(dis)\n",
    "            corpus.append(dis)\n",
    "            \n",
    "        except:\n",
    "            corpus.append(f\"<BAD> {i}\")\n",
    "    \n",
    "    return corpus"
   ]
  },
  {
   "cell_type": "code",
   "execution_count": 15,
   "metadata": {},
   "outputs": [
    {
     "name": "stderr",
     "output_type": "stream",
     "text": [
      "100%|██████████| 99/99 [00:00<00:00, 328769.67it/s]\n"
     ]
    }
   ],
   "source": [
    "# process name column\n",
    "raw_text= m_df['name'].to_list()\n",
    "data_final= process_name(raw_text)\n",
    "\n",
    "m_df['name']= data_final\n",
    "\n",
    "# process item_description column\n",
    "# raw_text= m_df['item_description'].to_list()\n",
    "# data_final= preprocess(raw_text)\n",
    "\n",
    "# m_df['item_description']= data_final"
   ]
  },
  {
   "cell_type": "code",
   "execution_count": 16,
   "metadata": {},
   "outputs": [],
   "source": [
    "m_df.drop(columns=['train_id'],inplace=True)"
   ]
  },
  {
   "cell_type": "markdown",
   "metadata": {},
   "source": [
    "### Sklearn `ColumnTransformer`:"
   ]
  },
  {
   "cell_type": "code",
   "execution_count": 17,
   "metadata": {},
   "outputs": [],
   "source": [
    "column_trans = ColumnTransformer([('categories', OrdinalEncoder(dtype='int'),['brand_name','parent_category', 'child_category', 'grandchild_category']),\n",
    "('name', CountVectorizer(max_features=10000), 'name'),\n",
    "('item_desc',TfidfVectorizer(max_features=10000),'item_description')\n",
    "],\n",
    "remainder='passthrough',\n",
    "verbose_feature_names_out=True)"
   ]
  },
  {
   "cell_type": "code",
   "execution_count": 18,
   "metadata": {},
   "outputs": [],
   "source": [
    "X=m_df.drop(columns=['price'])\n",
    "y=m_df['price']\n",
    "\n",
    "X=column_trans.fit_transform(X)"
   ]
  },
  {
   "cell_type": "markdown",
   "metadata": {},
   "source": [
    "What is the shape of the final preprocessed sparse matrix?"
   ]
  },
  {
   "cell_type": "code",
   "execution_count": 19,
   "metadata": {},
   "outputs": [
    {
     "data": {
      "text/plain": [
       "(99, 1420)"
      ]
     },
     "execution_count": 19,
     "metadata": {},
     "output_type": "execute_result"
    }
   ],
   "source": [
    "X.shape"
   ]
  }
 ],
 "metadata": {
  "kernelspec": {
   "display_name": "Python 3.9.18 (conda)",
   "language": "python",
   "name": "python3"
  },
  "language_info": {
   "codemirror_mode": {
    "name": "ipython",
    "version": 3
   },
   "file_extension": ".py",
   "mimetype": "text/x-python",
   "name": "python",
   "nbconvert_exporter": "python",
   "pygments_lexer": "ipython3",
   "version": "3.9.18"
  },
  "orig_nbformat": 4,
  "vscode": {
   "interpreter": {
    "hash": "03646948cc1eca1aab1a6d754d674736dcb5138b87307cb760ddb3b102c41299"
   }
  }
 },
 "nbformat": 4,
 "nbformat_minor": 2
}
