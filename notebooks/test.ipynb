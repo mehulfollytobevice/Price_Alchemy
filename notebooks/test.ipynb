{
 "cells": [
  {
   "cell_type": "code",
   "execution_count": 1,
   "metadata": {},
   "outputs": [],
   "source": [
    "import numpy as np\n",
    "from price_alchemy import train\n",
    "from sklearn.linear_model import LinearRegression\n",
    "import pandas as pd\n",
    "import pytest"
   ]
  },
  {
   "cell_type": "code",
   "execution_count": 2,
   "metadata": {},
   "outputs": [],
   "source": [
    "# Generate synthetic data for regression\n",
    "np.random.seed(42)\n",
    "\n",
    "# Number of data points\n",
    "num_data_points = 1000\n",
    "\n",
    "# Generate random data points\n",
    "X = np.random.rand(num_data_points, 1) * 10  # Feature values\n",
    "y = 3 * X + np.random.normal(0, 1, size=(num_data_points, 1)) \n",
    "y=abs(y)\n",
    "\n",
    "# define a model \n",
    "model= LinearRegression()\n",
    "\n",
    "# train \n",
    "trained_model, metrics= train.train_model(X,y, model)"
   ]
  },
  {
   "cell_type": "code",
   "execution_count": 3,
   "metadata": {},
   "outputs": [
    {
     "data": {
      "text/plain": [
       "{'mse': 0.9583980585697592,\n",
       " 'rmse': 0.9780165081397163,\n",
       " 'r_2': 0.9874198723259571,\n",
       " 'rmsle': 0.14085945423602558}"
      ]
     },
     "execution_count": 3,
     "metadata": {},
     "output_type": "execute_result"
    }
   ],
   "source": [
    "metrics"
   ]
  },
  {
   "cell_type": "code",
   "execution_count": 4,
   "metadata": {},
   "outputs": [],
   "source": [
    "assert type(model) == type(trained_model)\n",
    "assert metrics[\"mse\"]== pytest.approx(0.95839805)\n",
    "assert pytest.approx(metrics[\"rmse\"])== 0.9780165\n",
    "assert pytest.approx(metrics[\"r_2\"])== 0.98741987\n",
    "assert pytest.approx(metrics[\"rmsle\"])== 0.14085945"
   ]
  },
  {
   "cell_type": "code",
   "execution_count": 5,
   "metadata": {},
   "outputs": [
    {
     "data": {
      "text/plain": [
       "0.9583980585697592 ± 9.6e-07"
      ]
     },
     "execution_count": 5,
     "metadata": {},
     "output_type": "execute_result"
    }
   ],
   "source": [
    "pytest.approx(metrics[\"mse\"])"
   ]
  },
  {
   "cell_type": "code",
   "execution_count": 6,
   "metadata": {},
   "outputs": [],
   "source": [
    "import os \n",
    "fl=os.path.join(\"../data\", \"filename.txt\")"
   ]
  },
  {
   "cell_type": "code",
   "execution_count": 1,
   "metadata": {},
   "outputs": [],
   "source": [
    "from price_alchemy.data_preprocessing import dump_preprocessed_data\n",
    "dump_preprocessed_data([1,2], \"filename.pickle\")"
   ]
  },
  {
   "cell_type": "code",
   "execution_count": null,
   "metadata": {},
   "outputs": [
    {
     "name": "stdout",
     "output_type": "stream",
     "text": [
      "EDA_v1.ipynb              data_validation_v1.ipynb  modelling_v3.ipynb\n",
      "HPO.ipynb                 data_validation_v2.ipynb  product_listing_ddl.sql\n",
      "\u001b[34m__pycache__\u001b[m\u001b[m               end_to_end.ipynb          save_to_csv.ipynb\n",
      "coludSQl_connection.ipynb holdout_lisitng_ddl.sql   test.ipynb\n",
      "cred.py                   mlflow.ipynb              text_preprocessing.ipynb\n",
      "data_preparation.ipynb    modelling_v1.ipynb        word_embeddings.ipynb\n",
      "data_preprocessing.ipynb  modelling_v2.ipynb\n"
     ]
    }
   ],
   "source": [
    "!ls"
   ]
  },
  {
   "cell_type": "code",
   "execution_count": null,
   "metadata": {},
   "outputs": [],
   "source": []
  }
 ],
 "metadata": {
  "kernelspec": {
   "display_name": "Python 3.9.18 (conda)",
   "language": "python",
   "name": "python3"
  },
  "language_info": {
   "codemirror_mode": {
    "name": "ipython",
    "version": 3
   },
   "file_extension": ".py",
   "mimetype": "text/x-python",
   "name": "python",
   "nbconvert_exporter": "python",
   "pygments_lexer": "ipython3",
   "version": "3.9.18"
  },
  "orig_nbformat": 4,
  "vscode": {
   "interpreter": {
    "hash": "03646948cc1eca1aab1a6d754d674736dcb5138b87307cb760ddb3b102c41299"
   }
  }
 },
 "nbformat": 4,
 "nbformat_minor": 2
}
