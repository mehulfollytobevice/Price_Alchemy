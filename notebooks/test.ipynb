{
 "cells": [
  {
   "cell_type": "code",
   "execution_count": 10,
   "metadata": {},
   "outputs": [],
   "source": [
    "import numpy as np\n",
    "from price_alchemy import train\n",
    "from sklearn.linear_model import LinearRegression\n",
    "import pandas as pd\n",
    "import pytest"
   ]
  },
  {
   "cell_type": "code",
   "execution_count": 7,
   "metadata": {},
   "outputs": [],
   "source": [
    "# Generate synthetic data for regression\n",
    "np.random.seed(42)\n",
    "\n",
    "# Number of data points\n",
    "num_data_points = 1000\n",
    "\n",
    "# Generate random data points\n",
    "X = np.random.rand(num_data_points, 1) * 10  # Feature values\n",
    "y = 3 * X + np.random.normal(0, 1, size=(num_data_points, 1)) \n",
    "y=abs(y)\n",
    "\n",
    "# define a model \n",
    "model= LinearRegression()\n",
    "\n",
    "# train \n",
    "trained_model, metrics= train.train_model(X,y, model)"
   ]
  },
  {
   "cell_type": "code",
   "execution_count": 8,
   "metadata": {},
   "outputs": [
    {
     "data": {
      "text/plain": [
       "{'mse': 0.9583980585697592,\n",
       " 'rmse': 0.9780165081397163,\n",
       " 'r_2': 0.9874198723259571,\n",
       " 'rmsle': 0.14085945423602558}"
      ]
     },
     "execution_count": 8,
     "metadata": {},
     "output_type": "execute_result"
    }
   ],
   "source": [
    "metrics"
   ]
  },
  {
   "cell_type": "code",
   "execution_count": 13,
   "metadata": {},
   "outputs": [],
   "source": [
    "assert type(model) == type(trained_model)\n",
    "assert metrics[\"mse\"]== pytest.approx(0.95839805)\n",
    "assert pytest.approx(metrics[\"rmse\"])== 0.9780165\n",
    "assert pytest.approx(metrics[\"r_2\"])== 0.98741987\n",
    "assert pytest.approx(metrics[\"rmsle\"])== 0.14085945"
   ]
  },
  {
   "cell_type": "code",
   "execution_count": 12,
   "metadata": {},
   "outputs": [
    {
     "data": {
      "text/plain": [
       "0.9583980585697592 ± 9.6e-07"
      ]
     },
     "execution_count": 12,
     "metadata": {},
     "output_type": "execute_result"
    }
   ],
   "source": [
    "pytest.approx(metrics[\"mse\"])"
   ]
  }
 ],
 "metadata": {
  "kernelspec": {
   "display_name": "Python 3.9.18 (conda)",
   "language": "python",
   "name": "python3"
  },
  "language_info": {
   "codemirror_mode": {
    "name": "ipython",
    "version": 3
   },
   "file_extension": ".py",
   "mimetype": "text/x-python",
   "name": "python",
   "nbconvert_exporter": "python",
   "pygments_lexer": "ipython3",
   "version": "3.9.18"
  },
  "orig_nbformat": 4,
  "vscode": {
   "interpreter": {
    "hash": "03646948cc1eca1aab1a6d754d674736dcb5138b87307cb760ddb3b102c41299"
   }
  }
 },
 "nbformat": 4,
 "nbformat_minor": 2
}
