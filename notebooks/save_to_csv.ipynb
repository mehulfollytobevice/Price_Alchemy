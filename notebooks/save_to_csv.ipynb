{
 "cells": [
  {
   "cell_type": "markdown",
   "metadata": {},
   "source": [
    "# Save to CSV format:"
   ]
  },
  {
   "cell_type": "markdown",
   "metadata": {},
   "source": [
    "The dataset files are in `tsv` format. Let's convert them to `csv` format and save them."
   ]
  },
  {
   "cell_type": "code",
   "execution_count": 1,
   "metadata": {},
   "outputs": [],
   "source": [
    "import pandas as pd"
   ]
  },
  {
   "cell_type": "markdown",
   "metadata": {},
   "source": [
    "Loading and saving files"
   ]
  },
  {
   "cell_type": "code",
   "execution_count": 2,
   "id": "cc0bd847",
   "metadata": {},
   "outputs": [
    {
     "name": "stdout",
     "output_type": "stream",
     "text": [
      "/Users/mehuljain/Documents/course_related/ML_Ops/project/Price_Alchemy\n"
     ]
    },
    {
     "name": "stderr",
     "output_type": "stream",
     "text": [
      "/Users/mehuljain/Documents/course_related/ML_Ops/project/Price_Alchemy/.conda/lib/python3.9/site-packages/IPython/core/magics/osm.py:417: UserWarning: using dhist requires you to install the `pickleshare` library.\n",
      "  self.shell.db['dhist'] = compress_dhist(dhist)[-100:]\n"
     ]
    }
   ],
   "source": [
    "cd .."
   ]
  },
  {
   "cell_type": "code",
   "execution_count": 3,
   "id": "e69723b1",
   "metadata": {},
   "outputs": [
    {
     "name": "stdout",
     "output_type": "stream",
     "text": [
      "sample_submission 2.csv         test.tsv.7z\n",
      "sample_submission.csv           test_stg2.tsv\n",
      "sample_submission.csv.7z        test_stg2.tsv.zip\n",
      "sample_submission_stg2.csv      train.csv\n",
      "sample_submission_stg2.csv.zip  train.tsv\n",
      "test.csv                        train.tsv.7z\n",
      "test.tsv\n"
     ]
    }
   ],
   "source": [
    "ls \"data/Mercari Price Suggestion Challenge/\""
   ]
  },
  {
   "cell_type": "markdown",
   "metadata": {},
   "source": [
    "Save the training file to `csv`."
   ]
  },
  {
   "cell_type": "code",
   "execution_count": 4,
   "id": "101cca1e",
   "metadata": {},
   "outputs": [],
   "source": [
    "df_train=pd.read_csv('./data/Mercari Price Suggestion Challenge/train.tsv', sep='\\t', header=0)"
   ]
  },
  {
   "cell_type": "code",
   "execution_count": 5,
   "metadata": {},
   "outputs": [],
   "source": [
    "df_train.to_csv('./data/Mercari Price Suggestion Challenge/train.csv', index=False)"
   ]
  },
  {
   "cell_type": "markdown",
   "metadata": {},
   "source": [
    "Save the testing file to `csv`."
   ]
  },
  {
   "cell_type": "code",
   "execution_count": 6,
   "id": "101cca1e",
   "metadata": {},
   "outputs": [],
   "source": [
    "df_test=pd.read_csv('./data/Mercari Price Suggestion Challenge/test.tsv', sep='\\t', header=0)"
   ]
  },
  {
   "cell_type": "code",
   "execution_count": 7,
   "metadata": {},
   "outputs": [],
   "source": [
    "df_test.to_csv('./data/Mercari Price Suggestion Challenge/test.csv', index=False)"
   ]
  }
 ],
 "metadata": {
  "kernelspec": {
   "display_name": "Python 3.9.18 (conda)",
   "language": "python",
   "name": "python3"
  },
  "language_info": {
   "codemirror_mode": {
    "name": "ipython",
    "version": 3
   },
   "file_extension": ".py",
   "mimetype": "text/x-python",
   "name": "python",
   "nbconvert_exporter": "python",
   "pygments_lexer": "ipython3",
   "version": "3.9.18"
  },
  "orig_nbformat": 4,
  "vscode": {
   "interpreter": {
    "hash": "03646948cc1eca1aab1a6d754d674736dcb5138b87307cb760ddb3b102c41299"
   }
  }
 },
 "nbformat": 4,
 "nbformat_minor": 2
}
