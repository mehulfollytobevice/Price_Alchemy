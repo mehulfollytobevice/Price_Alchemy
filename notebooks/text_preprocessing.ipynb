{
 "cells": [
  {
   "cell_type": "markdown",
   "metadata": {},
   "source": [
    "# Text Preprocessing: \n",
    "This notebook explores the preprocessing steps that need to be applied to textual data present in the dataset. "
   ]
  },
  {
   "cell_type": "markdown",
   "metadata": {},
   "source": [
    "Import libraries"
   ]
  },
  {
   "cell_type": "code",
   "execution_count": 54,
   "metadata": {},
   "outputs": [],
   "source": [
    "import pandas as pd\n",
    "import numpy as np\n",
    "import spacy\n",
    "from price_alchemy.data_loading import load_data_sql\n",
    "from cred import MYSQL_PASSWORD\n",
    "from tqdm import tqdm\n",
    "import pickle"
   ]
  },
  {
   "cell_type": "markdown",
   "metadata": {},
   "source": [
    "## Load data:"
   ]
  },
  {
   "cell_type": "markdown",
   "metadata": {},
   "source": [
    "Get the dataset from the SQL table"
   ]
  },
  {
   "cell_type": "code",
   "execution_count": 3,
   "metadata": {},
   "outputs": [],
   "source": [
    "df= load_data_sql(MYSQL_PASSWORD)"
   ]
  },
  {
   "cell_type": "markdown",
   "metadata": {},
   "source": [
    "What does the data look like?"
   ]
  },
  {
   "cell_type": "code",
   "execution_count": 4,
   "metadata": {},
   "outputs": [
    {
     "data": {
      "text/html": [
       "<div>\n",
       "<style scoped>\n",
       "    .dataframe tbody tr th:only-of-type {\n",
       "        vertical-align: middle;\n",
       "    }\n",
       "\n",
       "    .dataframe tbody tr th {\n",
       "        vertical-align: top;\n",
       "    }\n",
       "\n",
       "    .dataframe thead th {\n",
       "        text-align: right;\n",
       "    }\n",
       "</style>\n",
       "<table border=\"1\" class=\"dataframe\">\n",
       "  <thead>\n",
       "    <tr style=\"text-align: right;\">\n",
       "      <th></th>\n",
       "      <th>id</th>\n",
       "      <th>train_id</th>\n",
       "      <th>name</th>\n",
       "      <th>item_condition_id</th>\n",
       "      <th>category_name</th>\n",
       "      <th>brand_name</th>\n",
       "      <th>price</th>\n",
       "      <th>shipping</th>\n",
       "      <th>item_description</th>\n",
       "      <th>created_at</th>\n",
       "      <th>last_updated_at</th>\n",
       "    </tr>\n",
       "  </thead>\n",
       "  <tbody>\n",
       "    <tr>\n",
       "      <th>0</th>\n",
       "      <td>1</td>\n",
       "      <td>793697</td>\n",
       "      <td>Plaid Vest</td>\n",
       "      <td>2</td>\n",
       "      <td>Women/Coats &amp; Jackets/Vest</td>\n",
       "      <td>Old Navy</td>\n",
       "      <td>11.0</td>\n",
       "      <td>1</td>\n",
       "      <td>Green and blue. Very thick and soft! Perfect f...</td>\n",
       "      <td>2022-01-01 00:00:00</td>\n",
       "      <td>2022-01-01 00:00:00</td>\n",
       "    </tr>\n",
       "    <tr>\n",
       "      <th>1</th>\n",
       "      <td>2</td>\n",
       "      <td>402094</td>\n",
       "      <td>Women's Sperrys</td>\n",
       "      <td>3</td>\n",
       "      <td>Women/Shoes/Loafers &amp; Slip-Ons</td>\n",
       "      <td>Sperrys</td>\n",
       "      <td>21.0</td>\n",
       "      <td>0</td>\n",
       "      <td>EUC</td>\n",
       "      <td>2022-01-01 00:01:00</td>\n",
       "      <td>2022-01-01 00:01:00</td>\n",
       "    </tr>\n",
       "    <tr>\n",
       "      <th>2</th>\n",
       "      <td>3</td>\n",
       "      <td>522439</td>\n",
       "      <td>Grey sweater dress</td>\n",
       "      <td>1</td>\n",
       "      <td>Women/Dresses/Other</td>\n",
       "      <td>Fashion Nova</td>\n",
       "      <td>20.0</td>\n",
       "      <td>1</td>\n",
       "      <td>This is a heather grey sweater dress from fash...</td>\n",
       "      <td>2022-01-01 00:01:00</td>\n",
       "      <td>2022-01-01 00:01:00</td>\n",
       "    </tr>\n",
       "    <tr>\n",
       "      <th>3</th>\n",
       "      <td>4</td>\n",
       "      <td>214455</td>\n",
       "      <td>Tory Burch 'Perry' Leather Wallet</td>\n",
       "      <td>3</td>\n",
       "      <td>Women/Women's Accessories/Wallets</td>\n",
       "      <td>Tory Burch</td>\n",
       "      <td>91.0</td>\n",
       "      <td>0</td>\n",
       "      <td>Tory Burch 'Perry' Leather Zip Continental Wal...</td>\n",
       "      <td>2022-01-01 00:03:00</td>\n",
       "      <td>2022-01-01 00:03:00</td>\n",
       "    </tr>\n",
       "    <tr>\n",
       "      <th>4</th>\n",
       "      <td>5</td>\n",
       "      <td>902755</td>\n",
       "      <td>Fujifilm Rainbow Instax Film</td>\n",
       "      <td>1</td>\n",
       "      <td>Electronics/Cameras &amp; Photography/Film Photogr...</td>\n",
       "      <td>Fuji</td>\n",
       "      <td>14.0</td>\n",
       "      <td>0</td>\n",
       "      <td>No description yet</td>\n",
       "      <td>2022-01-01 00:05:00</td>\n",
       "      <td>2022-01-01 00:05:00</td>\n",
       "    </tr>\n",
       "  </tbody>\n",
       "</table>\n",
       "</div>"
      ],
      "text/plain": [
       "   id  train_id                               name  item_condition_id  \\\n",
       "0   1    793697                         Plaid Vest                  2   \n",
       "1   2    402094                    Women's Sperrys                  3   \n",
       "2   3    522439                 Grey sweater dress                  1   \n",
       "3   4    214455  Tory Burch 'Perry' Leather Wallet                  3   \n",
       "4   5    902755       Fujifilm Rainbow Instax Film                  1   \n",
       "\n",
       "                                       category_name    brand_name  price  \\\n",
       "0                         Women/Coats & Jackets/Vest      Old Navy   11.0   \n",
       "1                     Women/Shoes/Loafers & Slip-Ons       Sperrys   21.0   \n",
       "2                                Women/Dresses/Other  Fashion Nova   20.0   \n",
       "3                  Women/Women's Accessories/Wallets    Tory Burch   91.0   \n",
       "4  Electronics/Cameras & Photography/Film Photogr...          Fuji   14.0   \n",
       "\n",
       "   shipping                                   item_description  \\\n",
       "0         1  Green and blue. Very thick and soft! Perfect f...   \n",
       "1         0                                                EUC   \n",
       "2         1  This is a heather grey sweater dress from fash...   \n",
       "3         0  Tory Burch 'Perry' Leather Zip Continental Wal...   \n",
       "4         0                                 No description yet   \n",
       "\n",
       "           created_at     last_updated_at  \n",
       "0 2022-01-01 00:00:00 2022-01-01 00:00:00  \n",
       "1 2022-01-01 00:01:00 2022-01-01 00:01:00  \n",
       "2 2022-01-01 00:01:00 2022-01-01 00:01:00  \n",
       "3 2022-01-01 00:03:00 2022-01-01 00:03:00  \n",
       "4 2022-01-01 00:05:00 2022-01-01 00:05:00  "
      ]
     },
     "execution_count": 4,
     "metadata": {},
     "output_type": "execute_result"
    }
   ],
   "source": [
    "df.head()"
   ]
  },
  {
   "cell_type": "markdown",
   "metadata": {},
   "source": [
    "The `item_description` column contains the textual data that we want to preprocess. "
   ]
  },
  {
   "cell_type": "code",
   "execution_count": 5,
   "metadata": {},
   "outputs": [],
   "source": [
    "text_data= list(df['item_description'])"
   ]
  },
  {
   "cell_type": "code",
   "execution_count": 7,
   "metadata": {},
   "outputs": [
    {
     "data": {
      "text/plain": [
       "972406"
      ]
     },
     "execution_count": 7,
     "metadata": {},
     "output_type": "execute_result"
    }
   ],
   "source": [
    "len(text_data)"
   ]
  },
  {
   "cell_type": "markdown",
   "metadata": {},
   "source": [
    "## Text preprocessing:"
   ]
  },
  {
   "cell_type": "markdown",
   "metadata": {},
   "source": [
    "In this section, we aim to develop a function for the text preprocessing. Something like:\n",
    "\n",
    "```\n",
    "def preprocess(text_data: list)-> list :\n",
    "\n",
    "    # steps for preprocessing the data\n",
    "\n",
    "    return preprocessed_text_data\n",
    "\n",
    "```"
   ]
  },
  {
   "cell_type": "code",
   "execution_count": 8,
   "metadata": {},
   "outputs": [
    {
     "data": {
      "text/plain": [
       "['Green and blue. Very thick and soft! Perfect for layering on cold days. Like new condition. FREE SHIPPING',\n",
       " 'EUC',\n",
       " \"This is a heather grey sweater dress from fashion nova. Size small/medium way to big for me. It's knitted and long sleeved with a geometric hemline.\",\n",
       " 'Tory Burch \\'Perry\\' Leather Zip Continental Wallet Paid 195 at NORDSTROM Used it but it\\'s in pretty good condition! As is no refunds Great deal, hurry!! Size Info 8\"W x 4\"H x 1\"D. .6 lbs. A gleaming logo medallion adds signature polish to a streamlined continental wallet cast in luxe Saffiano leather, while an organized interior will keep your cards, cash and coins secure. Zip-around closure. Interior zip, currency pocket and smartphone pockets; 16 card slots. Leather. By Tory Burch; imported. Handbags.',\n",
       " 'No description yet']"
      ]
     },
     "execution_count": 8,
     "metadata": {},
     "output_type": "execute_result"
    }
   ],
   "source": [
    "text_data[0:5]"
   ]
  },
  {
   "cell_type": "markdown",
   "metadata": {},
   "source": [
    "Load a preprocessing pipeline"
   ]
  },
  {
   "cell_type": "code",
   "execution_count": 10,
   "metadata": {},
   "outputs": [],
   "source": [
    "nlp = spacy.load(\"en_core_web_sm\")"
   ]
  },
  {
   "cell_type": "code",
   "execution_count": 15,
   "metadata": {},
   "outputs": [
    {
     "data": {
      "text/plain": [
       "[This, is, a, text]"
      ]
     },
     "execution_count": 15,
     "metadata": {},
     "output_type": "execute_result"
    }
   ],
   "source": [
    "doc= nlp(\"This is a text\")\n",
    "list(doc)"
   ]
  },
  {
   "cell_type": "markdown",
   "metadata": {},
   "source": [
    "What are the components in the pipeline?"
   ]
  },
  {
   "cell_type": "code",
   "execution_count": 16,
   "metadata": {},
   "outputs": [
    {
     "data": {
      "text/plain": [
       "['tok2vec', 'tagger', 'parser', 'attribute_ruler', 'lemmatizer', 'ner']"
      ]
     },
     "execution_count": 16,
     "metadata": {},
     "output_type": "execute_result"
    }
   ],
   "source": [
    "nlp.pipe_names"
   ]
  },
  {
   "cell_type": "markdown",
   "metadata": {},
   "source": [
    "Let's try an example:"
   ]
  },
  {
   "cell_type": "code",
   "execution_count": 48,
   "metadata": {},
   "outputs": [
    {
     "name": "stderr",
     "output_type": "stream",
     "text": [
      "5it [00:00, 160.91it/s]\n"
     ]
    },
    {
     "data": {
      "text/plain": [
       "['<s>',\n",
       " 'green',\n",
       " 'and',\n",
       " 'blue',\n",
       " '</s>',\n",
       " '<s>',\n",
       " 'very',\n",
       " 'thick',\n",
       " 'and',\n",
       " 'soft',\n",
       " '</s>',\n",
       " '<s>',\n",
       " 'perfect',\n",
       " 'for',\n",
       " 'layer',\n",
       " 'on',\n",
       " 'cold',\n",
       " 'day',\n",
       " '</s>',\n",
       " '<s>',\n",
       " 'like',\n",
       " 'new',\n",
       " 'condition',\n",
       " '</s>',\n",
       " '<s>',\n",
       " 'free',\n",
       " 'shipping',\n",
       " '</s>']"
      ]
     },
     "execution_count": 48,
     "metadata": {},
     "output_type": "execute_result"
    }
   ],
   "source": [
    "prep_text=[]\n",
    "docs=nlp.pipe(text_data[:5])\n",
    "\n",
    "for doc in tqdm(docs):\n",
    "\n",
    "    p=[]\n",
    "    for tok in doc:\n",
    "\n",
    "        # token should not be a digit\n",
    "        if not tok.is_digit:\n",
    "\n",
    "            if tok.is_sent_start:\n",
    "                p.append('<s>')\n",
    "                p.append(tok.lemma_)\n",
    "            elif tok.is_sent_end:\n",
    "                if not tok.is_punct:\n",
    "                    p.append(tok.lemma_)\n",
    "                p.append('</s>')\n",
    "            else:\n",
    "\n",
    "                # should not be a punct mark\n",
    "                if not tok.is_punct:\n",
    "                    p.append(tok.lemma_)\n",
    "                \n",
    "        # if sentence starts with a digit\n",
    "        else:\n",
    "            if tok.is_sent_start:\n",
    "                p.append('<s>')\n",
    "    \n",
    "    # lower case all the words to avoid confusion\n",
    "    p= [i.lower() for i in p]\n",
    "    prep_text.append(p)\n",
    "\n",
    "prep_text[0]"
   ]
  },
  {
   "cell_type": "markdown",
   "metadata": {},
   "source": [
    "Now, let's define our preprocessing function"
   ]
  },
  {
   "cell_type": "code",
   "execution_count": 45,
   "metadata": {},
   "outputs": [],
   "source": [
    "def preprocess(text : list )-> list :\n",
    "\n",
    "    # define list that will contain preprocessed text\n",
    "    preprocessed= []\n",
    "\n",
    "    # load the preprocessing pipeline\n",
    "    nlp = spacy.load(\"en_core_web_sm\")\n",
    "\n",
    "    # pass data through the pipeline\n",
    "    docs= nlp.pipe(text_data, n_process=4 )\n",
    "\n",
    "    # apply rules on the data \n",
    "    for doc in tqdm(docs):\n",
    "\n",
    "        p=[]\n",
    "        for tok in doc:\n",
    "\n",
    "            # token should not be a digit\n",
    "            if not tok.is_digit:\n",
    "\n",
    "                if tok.is_sent_start:\n",
    "                    p.append('<s>')\n",
    "                    p.append(tok.lemma_)\n",
    "                elif tok.is_sent_end:\n",
    "                    if not tok.is_punct:\n",
    "                        p.append(tok.lemma_)\n",
    "                    p.append('</s>')\n",
    "                else:\n",
    "\n",
    "                    # should not be a punct mark\n",
    "                    if not tok.is_punct:\n",
    "                        p.append(tok.lemma_)\n",
    "                    \n",
    "            # if sentence starts with a digit\n",
    "            else:\n",
    "                if tok.is_sent_start:\n",
    "                    p.append('<s>')\n",
    "        \n",
    "        # lower case all the words to avoid confusion\n",
    "        p= [i.lower() for i in p]\n",
    "        p_str=' '.join(p)\n",
    "        preprocessed.append(p_str)\n",
    "\n",
    "    return preprocessed"
   ]
  },
  {
   "cell_type": "markdown",
   "metadata": {},
   "source": [
    "Try out the function"
   ]
  },
  {
   "cell_type": "code",
   "execution_count": 49,
   "metadata": {},
   "outputs": [
    {
     "name": "stderr",
     "output_type": "stream",
     "text": [
      "972406it [1:15:16, 215.29it/s]\n"
     ]
    }
   ],
   "source": [
    "preprocessed_data= preprocess(text_data)"
   ]
  },
  {
   "cell_type": "markdown",
   "metadata": {},
   "source": [
    "It took about 1 hr 15 mins to preprocess the whole dataset."
   ]
  },
  {
   "cell_type": "code",
   "execution_count": 50,
   "metadata": {},
   "outputs": [
    {
     "data": {
      "text/plain": [
       "972406"
      ]
     },
     "execution_count": 50,
     "metadata": {},
     "output_type": "execute_result"
    }
   ],
   "source": [
    "len(preprocessed_data)"
   ]
  },
  {
   "cell_type": "markdown",
   "metadata": {},
   "source": [
    "What does the preprocessed data look like?"
   ]
  },
  {
   "cell_type": "code",
   "execution_count": 63,
   "metadata": {},
   "outputs": [
    {
     "data": {
      "text/plain": [
       "'<s> long sleeve black top with an aztec florida print </s> <s> henley type sleeve </s> <s> wear but no flaw </s> <s> size medium large i be move cross country in january and i need as many thing sell as possible </s> <s> bundle for big discount </s> <s> no free shipping unless offer in price reasonable offer accept </s> <s> * out of town until monday- item sell during that time will be ship on tuesday </s>'"
      ]
     },
     "execution_count": 63,
     "metadata": {},
     "output_type": "execute_result"
    }
   ],
   "source": [
    "preprocessed_data[100]"
   ]
  },
  {
   "cell_type": "markdown",
   "metadata": {},
   "source": [
    "Save this data for later"
   ]
  },
  {
   "cell_type": "code",
   "execution_count": 62,
   "metadata": {},
   "outputs": [],
   "source": [
    "with open('../data/spacy_preprocessed.pickle', 'wb') as file:\n",
    "\n",
    "    pickle.dump(preprocessed_data,file)"
   ]
  }
 ],
 "metadata": {
  "kernelspec": {
   "display_name": "Python 3.9.18 (conda)",
   "language": "python",
   "name": "python3"
  },
  "language_info": {
   "codemirror_mode": {
    "name": "ipython",
    "version": 3
   },
   "file_extension": ".py",
   "mimetype": "text/x-python",
   "name": "python",
   "nbconvert_exporter": "python",
   "pygments_lexer": "ipython3",
   "version": "3.9.18"
  },
  "orig_nbformat": 4,
  "vscode": {
   "interpreter": {
    "hash": "03646948cc1eca1aab1a6d754d674736dcb5138b87307cb760ddb3b102c41299"
   }
  }
 },
 "nbformat": 4,
 "nbformat_minor": 2
}
